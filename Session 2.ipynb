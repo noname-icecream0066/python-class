{
 "cells": [
  {
   "cell_type": "markdown",
   "metadata": {},
   "source": [
    "#### <font size=\"6\">Session 2: Variables & Data type & Python Operators #### "
   ]
  },
  {
   "cell_type": "markdown",
   "metadata": {},
   "source": [
    "# <font color='Blue' size=\"5.5\"> I. Variables </font>\n",
    "\n",
    "Variables are containers for storing data values."
   ]
  },
  {
   "cell_type": "markdown",
   "metadata": {},
   "source": [
    "## Creating Variables\n",
    "\n",
    "Python has no command for declaring a variable.\n",
    "\n",
    "A variable is created the moment you first assign a value to it."
   ]
  },
  {
   "cell_type": "code",
   "execution_count": null,
   "metadata": {},
   "outputs": [],
   "source": [
    "x = 5\n",
    "y = \"John\""
   ]
  },
  {
   "cell_type": "markdown",
   "metadata": {},
   "source": [
    "# Output Variables\n",
    "\n",
    "The Python print() function is often used to output variables."
   ]
  },
  {
   "cell_type": "code",
   "execution_count": null,
   "metadata": {},
   "outputs": [],
   "source": [
    "x = \"Python is awesome\"\n",
    "print(x)"
   ]
  },
  {
   "cell_type": "code",
   "execution_count": null,
   "metadata": {},
   "outputs": [],
   "source": [
    "x = \"Power is awesome\"\n",
    "print(x)"
   ]
  },
  {
   "cell_type": "markdown",
   "metadata": {
    "tags": []
   },
   "source": [
    "# Case-Sensitive\n",
    "\n",
    "Variable names are case-sensitive"
   ]
  },
  {
   "cell_type": "code",
   "execution_count": null,
   "metadata": {},
   "outputs": [],
   "source": [
    "a = 4\n",
    "A = \"Sandwich\"\n",
    "#A will not overwrite a"
   ]
  },
  {
   "cell_type": "markdown",
   "metadata": {},
   "source": [
    "# > <font color='red'>Exercise</font>"
   ]
  },
  {
   "cell_type": "markdown",
   "metadata": {},
   "source": [
    "Create a variable named carname and assign the value Volvo to it."
   ]
  },
  {
   "cell_type": "code",
   "execution_count": null,
   "metadata": {},
   "outputs": [],
   "source": []
  },
  {
   "cell_type": "markdown",
   "metadata": {},
   "source": [
    "Insert the correct syntax to assign the same value to all three variables in one code line."
   ]
  },
  {
   "cell_type": "code",
   "execution_count": null,
   "metadata": {},
   "outputs": [],
   "source": [
    "x y z \"Orange\""
   ]
  },
  {
   "cell_type": "markdown",
   "metadata": {
    "tags": []
   },
   "source": [
    "# <font color='Blue' size=\"5.5\"> II. Data Type </font>\n",
    "    \n",
    "Variables can store data of different types, and different types can do different things.\n",
    "\n",
    "\n",
    "\n",
    "Python has the following data types built-in by default, in these categories:\n",
    "<ol>\n",
    " <li>Text Type: str</li>\n",
    " <li>Numeric Types: int, float</li>\n",
    " <li>Sequence Types: list, tuple</li>\n",
    " <li>Mapping Type: dict</li>\n",
    " <li>Set Types: set, frozenset</li>\n",
    " <li>Boolean Type: bool</li>\n",
    " <li>Binary Types: bytes, bytearray, memoryview</li>\n",
    " <li>None Type: NoneType</li>\n",
    "</ol>\n",
    "\n"
   ]
  },
  {
   "cell_type": "code",
   "execution_count": null,
   "metadata": {},
   "outputs": [],
   "source": [
    "x1 = \"Hello World\" #str \n",
    "x2 = 20 #int \n",
    "x3 = 20.5 #float \n",
    "x4 = 1j #complex \n",
    "x5 = [\"apple\", \"banana\", \"cherry\"] #list \n",
    "x6 = (\"apple\", \"banana\", \"cherry\") #tuple \n",
    "x7 = range(6) #range \n",
    "x8 = {\"name\" : \"John\", \"age\" : 36} #dict \n",
    "x9 = {\"apple\", \"banana\", \"cherry\"} #set \n",
    "x10 = frozenset({\"apple\", \"banana\", \"cherry\"}) #frozenset \n",
    "x11 = True #bool \n",
    "x12 = b\"Hello\" #bytes \n",
    "x13 = bytearray(5) #bytearray \n",
    "x14 = memoryview(bytes(5)) #memoryview \n",
    "x15 = None #NoneType"
   ]
  },
  {
   "cell_type": "markdown",
   "metadata": {},
   "source": [
    "# Casting\n",
    "\n",
    "If you want to specify the data type of a variable, this can be done with casting"
   ]
  },
  {
   "cell_type": "code",
   "execution_count": null,
   "metadata": {},
   "outputs": [],
   "source": [
    "x = str(3)    # x will be '3'\n",
    "y = int(3)    # y will be 3\n",
    "z = float(3)  # z will be 3.0"
   ]
  },
  {
   "cell_type": "markdown",
   "metadata": {},
   "source": [
    "# Strings\n",
    "\n",
    "Strings in python are surrounded by either single quotation marks, or double quotation marks.\n",
    "\n",
    "'hello' is the same as \"hello\".\n",
    "\n",
    "You can display a string literal with the print() function:"
   ]
  },
  {
   "cell_type": "code",
   "execution_count": null,
   "metadata": {},
   "outputs": [],
   "source": [
    "a = \"Hello\"\n",
    "print(a)"
   ]
  },
  {
   "cell_type": "markdown",
   "metadata": {
    "tags": []
   },
   "source": [
    "# Multiline Strings\n",
    "\n",
    "You can assign a multiline string to a variable by using three quotes:"
   ]
  },
  {
   "cell_type": "code",
   "execution_count": null,
   "metadata": {},
   "outputs": [],
   "source": [
    "a = \"\"\"Lorem ipsum dolor sit amet,\n",
    "consectetur adipiscing elit,\n",
    "sed do eiusmod tempor incididunt\n",
    "ut labore et dolore magna aliqua.\"\"\"\n",
    "print(a)"
   ]
  },
  {
   "cell_type": "markdown",
   "metadata": {
    "tags": []
   },
   "source": [
    "# Single or Double Quotes\n",
    "\n",
    "String variables can be declared either by using single or double quotes:\n"
   ]
  },
  {
   "cell_type": "code",
   "execution_count": null,
   "metadata": {},
   "outputs": [],
   "source": [
    "x = \"John\"\n",
    "# is the same as\n",
    "x = 'John'"
   ]
  },
  {
   "cell_type": "markdown",
   "metadata": {},
   "source": [
    "# Special Characters in String\n",
    "\n",
    "The characters which have some unique functionality, such characters are called special characters.\n",
    "\n",
    "\\n - Newline\n",
    "\n",
    "\\t - Horizontal tab\n",
    "\n",
    "\\r - Carriage return\n",
    "\n",
    "\\\\' - Single Quote\n",
    "\n",
    "\\\\\" - double quote\n",
    "\n",
    "\\\\ - Backslash\n"
   ]
  },
  {
   "cell_type": "code",
   "execution_count": 17,
   "metadata": {},
   "outputs": [
    {
     "name": "stdout",
     "output_type": "stream",
     "text": [
      "Hello !\n",
      "How are you today ?\n"
     ]
    }
   ],
   "source": [
    "greeting = \"Hello !\\nHow are you today ?\"\n",
    "print(greeting)"
   ]
  },
  {
   "cell_type": "markdown",
   "metadata": {},
   "source": [
    "# Strings are Arrays\n",
    "\n",
    "Like many other popular programming languages, strings in Python are arrays of bytes representing unicode characters.\n",
    "\n",
    "However, Python does not have a character data type, a single character is simply a string with a length of 1.\n",
    "\n",
    "Square brackets can be used to access elements of the string."
   ]
  },
  {
   "cell_type": "code",
   "execution_count": null,
   "metadata": {},
   "outputs": [],
   "source": [
    "a = \"Hello\"\n",
    "print(a[1])"
   ]
  },
  {
   "cell_type": "markdown",
   "metadata": {},
   "source": [
    "<img src=\"data:image/png;base64,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\">"
   ]
  },
  {
   "cell_type": "code",
   "execution_count": null,
   "metadata": {},
   "outputs": [],
   "source": [
    "# Get the characters from position 2 to position 5 (not included)\n",
    "b = \"Hello\"\n",
    "print(b[2:4])\n",
    "print(b[:3])"
   ]
  },
  {
   "cell_type": "code",
   "execution_count": null,
   "metadata": {},
   "outputs": [],
   "source": [
    "# Merge variable a with variable b into variable c:\n",
    "a = \"Hello\"\n",
    "b = \" World\"\n",
    "c = a + b\n",
    "print(c)"
   ]
  },
  {
   "cell_type": "markdown",
   "metadata": {},
   "source": [
    "Dictionaries cannot have two items with the same key"
   ]
  },
  {
   "cell_type": "markdown",
   "metadata": {},
   "source": [
    "# Get the Type\n",
    "\n",
    "You can get the data type of a variable with the type() function."
   ]
  },
  {
   "cell_type": "code",
   "execution_count": null,
   "metadata": {},
   "outputs": [],
   "source": [
    "print(type(x13))"
   ]
  },
  {
   "cell_type": "markdown",
   "metadata": {},
   "source": [
    "# > <font color='red'>Exercise</font>"
   ]
  },
  {
   "cell_type": "markdown",
   "metadata": {},
   "source": [
    "1. The following code example would print the data type of x and y, what data type would that be?\n",
    "\n",
    "    x = 20.5\n",
    "\n",
    "    y = True"
   ]
  },
  {
   "cell_type": "markdown",
   "metadata": {},
   "source": [
    "2.  What another_text would that be?"
   ]
  },
  {
   "cell_type": "code",
   "execution_count": null,
   "metadata": {},
   "outputs": [],
   "source": [
    "text = \"Hello everyone, nice to meet you\"\n",
    "another_text = text[0:6] + \"all\" + text[14:]"
   ]
  },
  {
   "cell_type": "markdown",
   "metadata": {},
   "source": [
    "3. Reassign variable \"this year\" to correct \"2022\" to \"2023\""
   ]
  },
  {
   "cell_type": "code",
   "execution_count": null,
   "metadata": {},
   "outputs": [],
   "source": [
    "this_year = \"This year is 2022\"\n",
    "\n",
    "print(this_year)"
   ]
  },
  {
   "cell_type": "markdown",
   "metadata": {},
   "source": [
    "# <font color='Blue' size=\"5.5\"> III. Python Operators </font>\n",
    "\n",
    "Operators are used to perform operations on variables and values."
   ]
  },
  {
   "cell_type": "code",
   "execution_count": null,
   "metadata": {},
   "outputs": [],
   "source": [
    "print(10 + 5)"
   ]
  },
  {
   "cell_type": "markdown",
   "metadata": {},
   "source": [
    "| Operator | Example |\n",
    "| --- | --- |\n",
    "|+|x + y|\n",
    "|-|x - y|\n",
    "|* | x * y |\n",
    "|/ | x / y|\n",
    "|% | x % y|\n",
    "|^ | x ** y|\n",
    "|//|x // y|\n"
   ]
  },
  {
   "cell_type": "markdown",
   "metadata": {},
   "source": [
    "# Python Comparison Operators\n",
    "\n",
    "Comparison operators are used to compare two values:"
   ]
  },
  {
   "cell_type": "markdown",
   "metadata": {},
   "source": [
    "| Operator | Name | Example |\n",
    "| --- | ---  | --- |\n",
    "== | Equal |x == y|\n",
    "!= | Not equal |x != y |\n",
    "\\> | Greater than | x > y|\n",
    "< |Less than|x < y|\n",
    "\\>= |Greater than or equal to|x >= y|\n",
    "<= |Less than or equal to|x <= y"
   ]
  },
  {
   "cell_type": "code",
   "execution_count": null,
   "metadata": {},
   "outputs": [],
   "source": [
    "print(10 == 5)"
   ]
  },
  {
   "cell_type": "code",
   "execution_count": null,
   "metadata": {},
   "outputs": [],
   "source": [
    "x = 1\n",
    "y = 2\n",
    "z = 3\n",
    "\n",
    "print(x + y == z)"
   ]
  },
  {
   "cell_type": "markdown",
   "metadata": {},
   "source": [
    "# Python Logical Operators\n",
    "\n",
    "Logical operators are used to combine conditional statements:"
   ]
  },
  {
   "cell_type": "markdown",
   "metadata": {},
   "source": [
    "| Operator | Description | Example |\n",
    "| --- | ---  | --- |\n",
    "|and |Returns True if both statements are true|x < 5 and  x < 10|\n",
    "|or|Returns True if one of the statements is true|x < 5 or x < 4|\n",
    "|not|Reverse the result, returns False if the result is true|not(x < 5 and x < 10)"
   ]
  },
  {
   "cell_type": "code",
   "execution_count": null,
   "metadata": {},
   "outputs": [],
   "source": [
    "x = 1\n",
    "y = 2\n",
    "z = 3\n",
    "\n",
    "print( y > x and y > z)"
   ]
  },
  {
   "cell_type": "markdown",
   "metadata": {},
   "source": [
    "# > <font color='red'>Exercise</font>"
   ]
  },
  {
   "cell_type": "markdown",
   "metadata": {},
   "source": [
    "1. What is the result ?"
   ]
  },
  {
   "cell_type": "code",
   "execution_count": null,
   "metadata": {},
   "outputs": [],
   "source": [
    "x = 10\n",
    "y = x**2\n",
    "z = 20\n",
    "z += y\n",
    "\n",
    "print(z)"
   ]
  }
 ],
 "metadata": {
  "kernelspec": {
   "display_name": "Python 3",
   "language": "python",
   "name": "python3"
  },
  "language_info": {
   "codemirror_mode": {
    "name": "ipython",
    "version": 3
   },
   "file_extension": ".py",
   "mimetype": "text/x-python",
   "name": "python",
   "nbconvert_exporter": "python",
   "pygments_lexer": "ipython3",
   "version": "3.8.3"
  },
  "toc-autonumbering": false,
  "toc-showmarkdowntxt": true
 },
 "nbformat": 4,
 "nbformat_minor": 5
}
