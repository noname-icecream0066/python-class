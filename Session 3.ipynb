{
 "cells": [
  {
   "cell_type": "markdown",
   "id": "ced3c579",
   "metadata": {},
   "source": [
    "#### <font size=\"6\">Session 3: Function, Method & List, Tuple, Set & Dictionary #### "
   ]
  },
  {
   "cell_type": "markdown",
   "id": "cf08f5be-2d27-4e81-943a-0d0caaff4577",
   "metadata": {},
   "source": [
    "# <font color='Red' size=\"5.5\"> Revise last session"
   ]
  },
  {
   "cell_type": "code",
   "execution_count": null,
   "id": "3d393525-7ebc-4936-b451-736d5171c6b0",
   "metadata": {},
   "outputs": [],
   "source": [
    "x = int(20.5)"
   ]
  },
  {
   "cell_type": "markdown",
   "id": "dba011f8-a709-4f8c-bbae-d51015aa8417",
   "metadata": {},
   "source": [
    "What is the type of x ?"
   ]
  },
  {
   "cell_type": "code",
   "execution_count": null,
   "id": "97885c63-6ce2-4a92-917c-8b4fb3494196",
   "metadata": {},
   "outputs": [],
   "source": [
    "a = \"Hello, my name is Thanh.\"\n",
    "b = \" I was born in 1999. Now, I am 23 years old.\""
   ]
  },
  {
   "cell_type": "markdown",
   "id": "de99ea45-ac51-4a0d-add4-b8a660730452",
   "metadata": {},
   "source": [
    "1. Correct the sentences in variable b. The incorrect charracter at position 32\n",
    "2. Join 2 variable to a new variable "
   ]
  },
  {
   "cell_type": "markdown",
   "id": "1c4d0e54",
   "metadata": {},
   "source": [
    "# <font color='Blue' size=\"5.5\"> I. Function, Method </font>"
   ]
  },
  {
   "cell_type": "markdown",
   "id": "36d2ce3e",
   "metadata": {
    "tags": []
   },
   "source": [
    "## Function\n",
    "\n",
    "A function is a block of code to carry out a specific task, will contain its own scope and is called by name. \n",
    "\n",
    "All functions may contain zero(no) arguments or more than one arguments. \n",
    "\n",
    "On exit, a function can or can not return one or more values."
   ]
  },
  {
   "cell_type": "markdown",
   "id": "d5eb3ae2-b857-413e-a9c4-e17abaa59426",
   "metadata": {},
   "source": [
    "Python has a set of built-in functions \n",
    "\n",
    "- Reference link: https://www.programiz.com/python-programming/methods/built-in"
   ]
  },
  {
   "cell_type": "markdown",
   "id": "5cafa7c5-8f0e-4eba-a96c-b30664f8eb95",
   "metadata": {},
   "source": [
    "## Example"
   ]
  },
  {
   "cell_type": "markdown",
   "id": "2a546709-451e-4781-aff5-9c94e3bd56f5",
   "metadata": {},
   "source": [
    "- abs()\n",
    "\n",
    "Returns the absolute value of a number"
   ]
  },
  {
   "cell_type": "code",
   "execution_count": null,
   "id": "816671de",
   "metadata": {},
   "outputs": [],
   "source": [
    "a = 12\n",
    "b = -4\n",
    "\n",
    "print(abs(a))\n",
    "print(abs(b))"
   ]
  },
  {
   "cell_type": "markdown",
   "id": "2b7e1418-611e-4a35-9993-bf8f088680da",
   "metadata": {},
   "source": [
    "- max() \n",
    "\n",
    "This function returns the largest number in the given iterable object or the maximum of two or more numbers given as arguments"
   ]
  },
  {
   "cell_type": "code",
   "execution_count": null,
   "id": "12bb81f2-38ef-44a4-90d0-77d362e4759c",
   "metadata": {},
   "outputs": [],
   "source": [
    "max_value = max(1,2,3,99,5)\n",
    "\n",
    "print(max_value)"
   ]
  },
  {
   "cell_type": "markdown",
   "id": "5ab53060-ada1-459c-9396-1854faf23692",
   "metadata": {},
   "source": [
    "- len()\n",
    "\n",
    "This function gives the length of the object as an output."
   ]
  },
  {
   "cell_type": "code",
   "execution_count": null,
   "id": "0fddab82-8faf-4371-b995-96488ec71a8e",
   "metadata": {},
   "outputs": [],
   "source": [
    "text = \"Lorem Ipsum is simply dummy text of the printing and typesetting industry.\"\n",
    "\n",
    "print(len(text))"
   ]
  },
  {
   "cell_type": "markdown",
   "id": "b7319300-6636-49af-bbdd-f18d7ad83c0d",
   "metadata": {},
   "source": [
    "## Method\n",
    "\n",
    "A method in python is somewhat similar to a function, except it is associated with object/classes. Methods in python are very similar to functions except for two major differences.\n",
    "\n",
    "- The method is implicitly used for an object for which it is called.\n",
    "\n",
    "- The method is accessible to data that is contained within the class.\n"
   ]
  },
  {
   "cell_type": "markdown",
   "id": "b2e99ad0-4198-4221-9eab-99f966582a72",
   "metadata": {},
   "source": [
    "## Example"
   ]
  },
  {
   "cell_type": "code",
   "execution_count": null,
   "id": "7597baab-c795-4e51-a9a1-52a7075b4609",
   "metadata": {},
   "outputs": [],
   "source": [
    "text.find(\"dummy\")"
   ]
  },
  {
   "cell_type": "code",
   "execution_count": null,
   "id": "6c2ad74e-b7fd-4189-aeba-eebe546f6afe",
   "metadata": {},
   "outputs": [],
   "source": [
    "text.split(\"dummy\")"
   ]
  },
  {
   "cell_type": "code",
   "execution_count": null,
   "id": "04971b4e-689b-4c4a-8275-a670d98b4272",
   "metadata": {},
   "outputs": [],
   "source": [
    "this_year = \"This year is 2022 and 2022 is a year of the Water Rabbit\"\n",
    "this_year.replace(\"2022\",\"2023\")"
   ]
  },
  {
   "cell_type": "code",
   "execution_count": null,
   "id": "d7c2a3a9-a768-4427-bbf7-de7000f6ea05",
   "metadata": {},
   "outputs": [],
   "source": [
    "this_year"
   ]
  },
  {
   "cell_type": "code",
   "execution_count": null,
   "id": "ecf3b58f-f55b-43e5-afc2-a70a90ff7c3e",
   "metadata": {},
   "outputs": [],
   "source": [
    "this_year.replace(\"2022\",\"2023\").split(\"and\")"
   ]
  },
  {
   "cell_type": "markdown",
   "id": "a1a65676-3cf4-4be6-929b-1c733130bfd0",
   "metadata": {},
   "source": [
    "# <font color='Red' size=\"6\"> Excercise </font>"
   ]
  },
  {
   "cell_type": "markdown",
   "id": "38db456d-5a1b-4ba5-bf32-1304eb97c7a6",
   "metadata": {},
   "source": [
    "![1](data:image/jpg;base64,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)"
   ]
  },
  {
   "cell_type": "markdown",
   "id": "f6d8391e-70a5-454b-8443-ae7b23f1d20f",
   "metadata": {},
   "source": [
    "message = 'python is popular programming language'\n",
    "\n",
    "1. How many times does the letter 'p' appear in the variable 'message' ?"
   ]
  },
  {
   "cell_type": "markdown",
   "id": "dd4df4b4-5f80-4153-aa52-da9ad5832438",
   "metadata": {},
   "source": [
    "![2](data:image/jpg;base64,/9j/4AAQSkZJRgABAQEAYABgAAD/2wBDAAMCAgMCAgMDAwMEAwMEBQgFBQQEBQoHBwYIDAoMDAsKCwsNDhIQDQ4RDgsLEBYQERMUFRUVDA8XGBYUGBIUFRT/2wBDAQMEBAUEBQkFBQkUDQsNFBQUFBQUFBQUFBQUFBQUFBQUFBQUFBQUFBQUFBQUFBQUFBQUFBQUFBQUFBQUFBQUFBT/wAARCABaAz4DASIAAhEBAxEB/8QAHwAAAQUBAQEBAQEAAAAAAAAAAAECAwQFBgcICQoL/8QAtRAAAgEDAwIEAwUFBAQAAAF9AQIDAAQRBRIhMUEGE1FhByJxFDKBkaEII0KxwRVS0fAkM2JyggkKFhcYGRolJicoKSo0NTY3ODk6Q0RFRkdISUpTVFVWV1hZWmNkZWZnaGlqc3R1dnd4eXqDhIWGh4iJipKTlJWWl5iZmqKjpKWmp6ipqrKztLW2t7i5usLDxMXGx8jJytLT1NXW19jZ2uHi4+Tl5ufo6erx8vP09fb3+Pn6/8QAHwEAAwEBAQEBAQEBAQAAAAAAAAECAwQFBgcICQoL/8QAtREAAgECBAQDBAcFBAQAAQJ3AAECAxEEBSExBhJBUQdhcRMiMoEIFEKRobHBCSMzUvAVYnLRChYkNOEl8RcYGRomJygpKjU2Nzg5OkNERUZHSElKU1RVVldYWVpjZGVmZ2hpanN0dXZ3eHl6goOEhYaHiImKkpOUlZaXmJmaoqOkpaanqKmqsrO0tba3uLm6wsPExcbHyMnK0tPU1dbX2Nna4uPk5ebn6Onq8vP09fb3+Pn6/9oADAMBAAIRAxEAPwD7y+JHjDQfDviq5g1bW9O0uZoTcrHeXccLGJEXfIAxHyrkZboMjNY9l4u0LUtA/t2z1rT7rRNjSf2lDdRvbbR1bzAduBjk5r54/bg1LwLo/wC1H8NL74jJBJ4Vgsb551uraS4iMgSLy98aKxYbscEEevFeJXHh6WXwbq/iS08N6hb/AAYuviBbarJo8Nm8Yk0xIyJJhbgZ8gvsO0DHyjjjj+e8xyCniMXVrynKPPObvZcr/eyjyxd1edle3+Z9PTxLpxUEr2S06/BzX9L6X7vy1+5bT4m+D7/Q5NatvFmh3GjxyrA+oQ6jC1usjEKqGQNtDEkADOSSK2NV1rTtChim1K/tdPhlmS3jkupliV5XO1EBYjLMTgDqT0r4E8Z6T4c+INx8UvE3wp0tdN+H1p4Qjae4s9OextLnUbe6W4Qxxsi5ZUjIJCjGT/eBPQWPjDxH8QfiV4Cs9Yu7y60fxp4jtvFWjwXDMyWtraNd5iUE/KDHHaSYH8Tk+teZLhuHKpxqNJXcoyVpR91Ss13tzN+Ue7saPFOKk9HZaW66fldxj6tn1N4w8X6te/ELQ/BXhueO2uyq6rrN88Yk+yWCvhY1U8eZO4KAn7qLKw5C11GqeLLPSfEmh6HJHNLfav57QiIKVRIUDO75IwuWReATl14xkjg/Csn2D9pDx7bXRIn1DRtLu7MsoG6GNriOQKe+12yfTzB61yXxM17w3cftARWnifxgvhmw0jw5+7tY9QNjdahJdXBJSF0ZZTj7JHxCd5JVc4LK/iRwkatSFFR91Q5m0rttxv8AO0mo2206XbOpzaUpN7NL8v8AO/ofQdFfNS+KLvTbLwJoPj/xFqfhjRrjSrzUZPOvp7bUr+RZ1FrZGdGE7TJFIpaONvNkcKDuG4M3RPEEsf7PZvLnxvH4RudY1m5ms/8AhK/EEsUhtY7tl+xfa5ZHmjZoYtpeMlkLsy8jNJ5RNJPm0cuVO11vJb/9uttJOytrd2Eq6btbpf8AC/6pX7s+l6K+cpPHl9pfwJuNX8NJc6TJc60thPquseIrrUrKKDzhHJeQX1wJWFuyDCTGParNuKEAk9V8AYZb671vV7TxTp+raJIsVqmm6Z4rufEsUE6bmaU3dxhkZlkUGIKAAitkluMauWSo0qlaTsou3TdWvezdt9N9ne2l2qybikt/+Cv012+Z7HRWD4O8daF4/wBPur3QL9dQt7W7lsZ2EbxtFPE22RGVwCCD7cggjIINa2pXElnp91PDA1zNFEzpCn3pGAJCj3J4ryZ0505ck1Z9nodEfe2LFFfLPwl8S6l4213QdY1Dx3odlrEAbVdat7bxncXUrQiNhJayaS8cUNoqb1BYhnQxDcWYs534/ED+LvE6W1t4n1bT/hrr2st9m1b7XLFPqF2Iwfsdncb98VozRSMHUqXbckRCFS3u1MnnSqOnKXwq70/BW3bSbjs2k7pHMsRFrm6f1/wL9Fffc+h6K+UfFXi+21/VvinDB471KTxDDevpnhfwjo+uSRXf2uO1iiEvlRSCRl84OSrjygFkkcHJK/RGp+ONL8G/8IzYeJNSjtdT1mZLC2JjYpcXWzcUDKu1ScHG7APQc8Vy4jLalCMLXbkr2s7/AAqXztfV7XTLVVXafS9/k7P/AIHez+fTUUV88/tB3+u6p4g1bT9E8QanpAsdGtbeOLTLh4TJqF/eiG1dijA4jMJcgckHByrMrc+CwrxlZUublXf8PxbS+ZdSXs4Ofb+v+D6H0NRXy9aeJptFkgtNc8b32neC9X8S6nDd+INQ1V4XItYkh+yrcOR9mE08VzJiIpjYVj2ZwLreKtU8OeDdevNP8RahYeBtR8SWVlpviDWbqS4ktNOdIhc3UdxcF2MTyeYsUshKjeGUlCmfSeTzukp72to7avlt/iTv7tm7JvyMfbrVtbXv8r/ft+KPebrxbaWvjLT/AA0Yp3v72yuL9ZEUGKOOJ4kbec5BJmXAAOcN0xW0zBQSTgDkmvnDwLHZ6h4y+IGs+DpfFOrWlnpljpmn3MWqfbrqZpHkllntX1OZ4/LI8nBJCMELKHBUnU1jVvF3h/4f+NdT1KXxt5kWkTRWcHij+wxBJcSYSModPBk3BiB8x24Y8E4wqmWLnjTpzSl7uktJNy1Xu69GlvumONXW8tr7rXtf8bnpmg/Fzwl4m8K6Z4k0zVxdaNqV6un2lyLeVTLOZTCE2FQw+cEZIAwM5xzXYV8q22kz+APipD8PtIt5Ly30lD40srJlJWZI9PNoIgQOpugHwO759q1vBfiCHxVefD/UPDfjfUPFHi64nhu/EzWeqyz6fbWxgczxz2gfyLb5iqRrsWTcufmKyNXRiMppr95Rk+RrmTetk7tc1rWtyu772stzKNeVveWvbzX6tONl1d9T6Uor5l0m31vUvCvh3xNceKtdn1jxJ4vWTR4I9Tmjtrawe9aXy/JRgs6G1idsSBwobC7QKq+OPFGseLviB4n0G88VaP4UvUvhpmhx3XjO60e7tVZEC3K2MUYF6Xdiyh5djAKg2fOWxjk8p1HBT+G99OzSdrtXV35bO19L6SrqKu16fO/+Xn0PXvi94y1v4btpPiqOSCfwdZyeRr9mYczRwyMqrdxvnpE2NyY5R3PVRXooYMAQcg9DXm37QF5Do/7P/jc6nILsnQ7i2LbApnmkiMaAKO7SMoAHcgV2Xg2wutL8IaHZXz+ZfW1jBDO/96RY1DH8wa4KkIvBwqW1UpRv3Wj+9X33s0uhd3zrzX3Wt+d/wNiiiivMNgooooAKKKKACiiigAooooAKKKKACiiigAooooAKKKKACiiigAooooAKKKKACiiigAooooAKKKKACiiigAooooAKKKKACiiigAooooAKKKKACiiigAooooAKKKKACiiigAooooAKKKKACiiigAooooAKKKKACiiigAooooAKKKKACiiigAooooAKKKKAPSvB/wDyLtp/wP8A9Datmsbwf/yLtp/wP/0Nq2a/rnI/+RVhf+vcP/SUfFYj+NP1f5hRRRXtHOeKfED9n688Z/HTwv8AEOLWILaPQ7S6tRp7wsxn86NU3b8/Lt29MHOe1db/AMIDqH/Pa2/76b/4mu+or4zGcJZbj6vta6k3r1tvJyf4ybO6njKtO/L1t+CS/JI4H/hAdQ/57W3/AH03/wATR/wgOof89rb/AL6b/wCJrvqK4P8AUXJv5Zf+BGv9o1+6+48T8afs+3XizWvDut2+rDR9c0O5823vbVifMgYqJ7aRSuGjkVQCOoZUYHK89d/wgOof89rb/vpv/ia560+K3jrxR4z8Z6N4W8GeHbyy8M6immSXmr+Jp7OSeRraGfcIo7CYBQJgOXzlTXQeBvjBpniTwHf+I9dFv4RbR7q4sNah1C8QQ6fcQPslBnO1Wjzhlc7dyupIUnA1lwVlM6cYyUrJXXvbJ6+ttb9k33Yv7QrqT2ve23VX09dH93kL/wAIDqH/AD2tv++m/wDiaP8AhAdQ/wCe1t/303/xNUPiF+0N4K8B/Cmfx/Hr2k61oe8QWc9lqUBhvJi+zy45dxUkEMWxkgI5wduK7XTfGXh/WrGe90/XNNv7OCFLmW4truOSOOJ4xIkjMpICshDhjwVORxWT4FyZJtxlp/eH/aNdu36HM/8ACA6h/wA9rb/vpv8A4moNQ+HOqXljcQQ6hHYyyxsiXVuQZIiRgOoeNlJHUblI45Brf1D4neDtJ/s77d4s0Oz/ALSELWP2jUoY/tQmz5Jiy3z79rbdud2DjOKitfix4IvfENroFv4y8Pz67dbvs+lxapA1zNtLhtkQfc2DHIDgcFG9DTXAuTp/DL/wLsH9pV97o4vwL8Bx8P8ARZNP0+4Wdp7iS9u7y7mLz3dzId0k0hCAbmPOFAUcAAAAV0P/AAgOof8APa2/76b/AOJrrPEmvW3hbw7qms3rrHZ6day3czM20BI0LsSe3ANc38Lfito3xO0G1mtr/SxryWdvcapodjqUd3NpkkqbvKm2gMpByPmVc7TxVy4IyitOU5KTfX3u9/8AJ+gv7QrQS21v09L/AJ/iV/8AhAdQ/wCe1t/303/xNH/CA6h/z2tv++m/+Jrb0P4k+EfFGvX+h6N4p0XVtb0/cLzTbHUYZrm22ttbzI1YsmG+U5AweKWy+I3hPUvFl14XtPE+jXXia1UvcaLDqET3kKgAkvCG3qAGXqP4h61n/qLk2nuy1/vD/tGut2vuOJ8H/BWTwXov9m2V0k0bXFxdPNcSFpJJJpnldmIQA/M57dMVQ8Q/s/v4q8UaNq+qanJcwaPILqz0nzFW0S6AYLcnEQkZwrsAGcoM527ua9Fj+I3hObxfJ4Uj8UaNJ4pjXe+hrqEJvVXaHyYN28DaQ3Toc1z/AMXvjh4Z+C8fh0+IdRsrJtb1OLT4ftl7FbBFZh5k7FyPkjUgsR0LKDjdkdEeC8r9p7Rc3NLS/Nvzafj3J+v1uVx0slrp0td/h95J/wAIDqH/AD2tv++m/wDiaP8AhAdQ/wCe1t/303/xNbWrfErwhoPiSx8Pan4q0TTtfvwhtNKu9RhiurgMxVfLiZgz5IIGAckEVD8UviPpPwj+H+u+LtbmSLT9KtXuGV5UjMzAfJEhcgb3bCqM8lgK5ZcDZLGPM4yt/iZpHMMRKSirXMv/AIQHUP8Antbf99N/8TR/wgOof89rb/vpv/iaxLf9pTweuqWX9oa3oel+HrvQ4NXi8QXOsQpaM8kzxeQrthCQY25DckEY4rvNY8eeGfD3hqPxFqviLSdM8PyLG6ateX0UVoyvjyyJWYKQ2Rg55yMVb4EyZbxlvb4uqbX5pkLMq8tmu+3RpP8AJnPf8IDqH/Pa2/76b/4mj/hAdQ/57W3/AH03/wATXZaPrOn+ItLtdT0q+ttT026jEtveWcyywzIeQyOpIYH1BrCuvir4KsNettEufGGg2+tXNwbSDTpdTgW4lmBAMSxltzOCyjaBnketL/UXJr8vLK/+If8AaVe17qxlf8IDqH/Pa2/76b/4mj/hAdQ/57W3/fTf/E1t+LfiR4R8AyWUfifxTovhyS+LLapq2oQ2pnIxkRiRhuxuXOM9R61oN4m0eOTVI21axWTS41lv1NygNmhUuGlGf3YKgsC2OAT0o/1Fya1+WVv8Q/7RxF7focp/wgOof89rb/vpv/iaP+EB1D/ntbf99N/8TXW2/iPSbq4sIIdUs5p9Qt2u7OOO4RmuYRtzLGAfnQeYmWGR86+orM8N/Erwj4yuNSt9A8VaLrk+mnF9Fpuow3DWpyRiUIxKcq33sfdPpQ+BcmW8Zf8AgQlmNdq6aPNvGH7P13438ReHrvU9Thk0bR5jejRwD5dzdgjyZZWxkiP5iExgsVY/dArr/wDhAdQ/57W3/fTf/E10Phrx54a8aSXcfh/xFpOuvZ7PtK6bexXBg3ruTeEY7dy8jPUciovE3xG8J+Cb7T7LxF4n0bQbzUWKWVvqeoQ20lywIBEauwLnLKPlzyw9a2lwTlM4xpyUrLZc3fX8fv8AkkSswrXck1/X9f1cw/8AhAdQ/wCe1t/303/xNH/CA6h/z2tv++m/+Jrr117TG1K604ajaHULSFLm4tBOvmwxOWCSOmcqrFHwxGDsb0NYV78XPA2m6LBrF3408PWuk3FuLuG/m1WBIJIS6xiVZC+0pvdF3A4ywHUisf8AUXJv5Zf+BFf2jX7r7jN/4QHUP+e1t/303/xNH/CA6h/z2tv++m/+JrrbXxFpV9cWtvbanZ3E93bfbbeKK4Rmmt8qPOQA5ZMuvzDj5hzyKo+I/F1n4XvLT+0b/SdPsGguLi4n1DUFt5EjiUMzojLh1UEl2LKEGDznglwLk0Vdxl/4ECzGvLZowP8AhAdQ/wCe1t/303/xNH/CA6h/z2tv++m/+Jqh8AfjRH8ePBsniizg0qDTJLho7aPT9WF9OijkLdKIkEE20qTEGkwGHzGuq1T4leEdD1IafqPinRdPvzdx2AtbrUYY5TcyKHjh2swPmMpDKmMkEECqfAeTp2cZf+BB/aNfujE/4QHUP+e1t/303/xNH/CA6h/z2tv++m/+Jro9D8ceHPFGparp2jeINL1bUNJk8nUbSxvY5pbOTLDZMisTG2UYYYA/KfQ1B4U+I3hPx5Nfw+GvFGjeIprBlS7j0nUIbprZiWAEgjY7CSrYzj7p9Kn/AFEyb+WX/gQ/7RxC3/Iw/wDhAdQ/57W3/fTf/E0f8IDqH/Pa2/76b/4mqPjT4+eGfD9vJDompaX4q1yHWrHQ7jSNP1KJprWa5uVg/fBdzRlB5jEMuT5bDjkjt77WvsevaVp3mWC/bVmbZPeeXctsCn9zFtPmgbvmO5dowec8H+ouTNX5ZW2+LyT/ACaB5jXTs7X9P67HLf8ACA6h/wA9rb/vpv8A4mj/AIQHUP8Antbf99N/8TWz4Z+JnhDxtqN9p/h3xXomvX9j/wAfdrpmow3MtvyV/eKjEpyCOccirHijx34a8DwrN4j8Q6VoETRtKJNUvYrZSisis2XYcBpIwT2LqO4o/wBRcmsnyy1/vB/aGIbst/Q57/hAdQ/57W3/AH03/wATR/wgOof89rb/AL6b/wCJrel+IXhaDw3beIZPEujx6BdLvg1Vr+IWsqhWbKS7trDajNkHopPY1R1L4weA9FsdHvNQ8beHbGz1ld+mXFzq0Ecd8vHMDM4Eg+Zfu5+8PWj/AFEya9uWX/gQv7Rr2vdGf/wgOof89rb/AL6b/wCJo/4QHUP+e1t/303/AMTW54w+I3hP4dw203irxRo3hmK6Zkgk1jUIbRZWABIUyMNxAIzj1p/ij4geF/A+kwar4j8SaRoGmXDrHDe6pfRW0MjMpZVV3YKSQCQAegJo/wBRcm/ll/4EP+0MRt+hgf8ACA6h/wA9rb/vpv8A4mj/AIQHUP8Antbf99N/8TW9rPxC8LeHdMt9S1bxLo+l6dcwG5gu7y/ihiliAUmRXZgGXDqdwOPmHqK4/wCIH7R3gbwD4Y8N6/L4i0e90rX9Sg0+yvYtUgW3dXlCSziXdtZIhuZiucYAOM5B/qLk1+Xlle6XxdW7L8Rf2jXaumu/3aml/wAIDqH/AD2tv++m/wDiaP8AhAdQ/wCe1t/303/xNd5HIssaujB0YZVlOQR6isLUvH/hjR9dtdEv/EmkWOs3UixW+nXN9FHcTOwJVUjLBmJAOABzg0f6i5Ntyy/8CD+0q9r3Rgf8IDqH/Pa2/wC+m/8AiaP+EB1D/ntbf99N/wDE1taT8SvCGv67qWiaZ4q0TUdZ0wOb7TrTUYZbi02NtfzY1Ysm1uDuAweK5n4V/tBeDvi1pt9e6TremeXb6xNo8aDUYZGmkV3WNlCsf9aI2dByWUZHfAuBcmbsoy2v8Xml+bB5jXju1vb52v8Aki5/wgOof89rb/vpv/iaP+EB1D/ntbf99N/8TXTX3jHQNNkvo7zXNNtZLEwi7Se7jQ25mbbCJAT8vmNwucbjwM1hyfGz4dw6JDrMnj3wwmkTI0keoNrFuLd0WQRsyyb9pAkIQkHhiB1o/wBRcm/ll/4EP+0cRv8AoVf+EB1D/ntbf99N/wDE0f8ACA6h/wA9rb/vpv8A4muz0nVrHXtMtdR0y8t9R0+6jWa3u7SVZYpo2GVdHUkMpHIIODXBaf8AHTw5L8SNf8I6jqek6Pc2F5b6dZG81OOObUrqSCOZ4ooWAJKLNCPlLEl+g7v/AFEye/Lyyv8A4mL+0a9r3Vi1/wAIDqH/AD2tv++m/wDiaP8AhAdQ/wCe1t/303/xNbfi34keEfAMllH4n8U6L4ckviy2qatqENqZyMZEYkYbsblzjPUetP8AF/xD8K/D62trjxT4m0fw1b3LmOCXWL+K0SVgMlVMjAMcc4FL/UXJt+WX/gQ/7QxG36GD/wAIDqH/AD2tv++m/wDiaP8AhAdQ/wCe1t/303/xNb/iz4g+FvAem2+oeJvEukeHbC4cRQ3WrX8VrFK5UsFV5GAJwCcA9ATWlc61p9no8urT31tDpUUBunvpJlWBYQu4yFydoQLzuzjHNH+ouTJN8stP7wlmNd2Str5HHf8ACA6h/wA9rb/vpv8A4mj/AIQHUP8Antbf99N/8TVD4d/tDeCvH/wvPj3+3tJ0jQI55Le5uLzUoBHaMspRFmk3bY3ZTG20n/louM5BPeeH/EWk+LNHttW0PU7PWdKuQWgvtPuEnglAJBKuhKtggjg9Qaf+omT/AMsv/Ahf2lX3uvuOS/4QHUP+e1t/303/AMTR/wAIDqH/AD2tv++m/wDia5K+/ao8MGXx/baPJZazqHhC+tbKe0h1KLfP5rwo8ihdxVI3m2EkffRlOCK9L8K/ELwt47a+Xw14l0fxC1i4ju10q/iujbsc4WTy2O0naeDjofSkuBcmauoy7/F0H/aNdaXRg/8ACA6h/wA9rb/vpv8A4mj/AIQHUP8Antbf99N/8TW54X+I3hPxveahaeHPE+ja/daewS8g0vUIbl7ZiSAJFRiUOVYc4+6fSrPiTxl4f8G26z6/rum6HAyu6y6ldx26lUG5yC5Awo5PoOtL/UXJUr2lb/EP+0MRe36HNf8ACA6h/wA9rb/vpv8A4mj/AIQHUP8Antbf99N/8TXQ2/jzwzdeEz4ph8RaTN4ZWJpzrUd9E1kI1JDP5wbZtBBBOcDBqHSfiR4S8QaTZappfinRdS0y9uhZWt7aahDLDPcEkCFHVirPwflBzx0qv9RMmvbllf8AxC/tKva90Yn/AAgOof8APa2/76b/AOJo/wCEB1D/AJ7W3/fTf/E11Nz4s0Oz/tb7RrOnwf2RGJtR8y6RfsSFS4ebJ/dqVBbLYGATVDVPiV4R0PxBp2hal4q0TT9c1JUay0y61GGK5ugzFVMUTMGcEggbQckEUv8AUXJtuWX/AIEH9o17XuvuMX/hAdQ/57W3/fTf/E0f8IDqH/Pa2/76b/4mt/VfiB4X0LWrXR9S8SaRp+r3bxxW+n3V9FFcTO+7y1SNmDMW2tgAc7TjpWpq2r2OgaXdalql7b6bp1pG01xeXcqxQwxqMs7uxAVQOSScCj/UXJrX5Zf+BB/aNe9rr7jjP+EB1D/ntbf99N/8TR/wgOof89rb/vpv/ia29J+JHhLXtHtNX0zxRouo6Vd3K2VvfWmoQywTXBO0QpIrFWcngKDnParN3418PWF5f2lzr2mW11p6wveQTXkavbLK22IyKWygduFJxuPAzR/qLk38sv8AwIP7Sr90c3/wgOof89rb/vpv/iaP+EB1D/ntbf8AfTf/ABNdJ4Z8beHfGkd4/h7XtM15LOc21y2mXkdwIJR1jcox2sP7p5rR1HUbTR9Pub+/uobKxtYmmnubiQRxRRqCWd2JwqgAkk8ACj/UXJrX5Zf+BD/tDEN2X5HFf8IDqH/Pa2/76b/4mj/hAdQ/57W3/fTf/E1ZPxu+HS/2tnx94XH9kDdqP/E5tv8AQgXEYM3z/u/nZV+bHJA6mta7+IHhfT/CaeKbrxJpFt4YeNJV1qa+iWyZHICMJi2whiQAc85FH+ouTJXcZf8AgQv7Rr3tp9xgf8IDqH/Pa2/76b/4mj/hAdQ/57W3/fTf/E1vx+P/AAvN4RPiqPxJpEnhgRmU62t9EbIIG2lvO3bMAgjOcZGK5Pwj8ePDnjDxJ4qtbTUdLfw/osNhNH4hh1OOW1uvtPmAAMPlG149v3jktjg8Uf6i5MnZxl/4EH9pV7Xui7/wgOof89rb/vpv/iaP+EB1D/ntbf8AfTf/ABNbPjTx1YeD9H1qczW11qmnaVcasulG5VJ5oYlJLAcsF3YXftIBI+lUL74weEfDfh3QdV8VeJNF8JDWbZLi2j1jU4bbeSisyoZCu/bvXOB3HTNC4FyaV0oy6fa73t+T+4f9oYjTzv07Wv8Amir/AMIDqH/Pa2/76b/4mj/hAdQ/57W3/fTf/E13qsGAIOQeQRXOyfEjwlDrNtpEninRY9WubmSygsG1CETy3CBWeJY925nUOhKgZAYZHIo/1Fya9uWV/wDEL+0a9r3Rif8ACA6h/wA9rb/vpv8A4mj/AIQHUP8Antbf99N/8TXReHfHXhvxfBfT6D4g0rW4bCZre7k069iuFt5FGWSQox2MB1BwRUfg/wCIXhX4hWtxc+FfEuj+Jba3cRzTaPfxXaRMRkKxjYgHHODQuBcme0Zf+BB/aNfuvuMH/hAdQ/57W3/fTf8AxNH/AAgOof8APa2/76b/AOJqlqHx78MTax4W07w1qWmeLpdb1ttFkfSdSimWzdLaW4kaQpu+ZUi+4cH5hyK6Txd42Xw3q3hzSLa0/tDVtcvPIgtzIY1SFBvuJ2ba2AiDgY+Z2RcjduAuBcmdnyy7fF6fhrvt9zD+0a6drrv+f+T0Mj/hAdQ/57W3/fTf/E0f8IDqH/Pa2/76b/4mtu6+JPhGx8WweFbnxTotv4nuAGh0WXUIVvZAQWBWEtvOQCeB0BouviT4RsfFsHhW58U6Lb+J7gBodFl1CFb2QEFgVhLbzkAngdAaP9RcmdrRl/4EH9o11vb7jE/4QHUP+e1t/wB9N/8AE0f8IDqH/Pa2/wC+m/8Aia09T+LHgjRdZg0jUPGXh+w1a4uPscNhdapBHPJP8v7pY2cMX/eJ8oGfnXjkVNpnxN8H61b61Pp3ivQ7+DQ939qyWuowyLYbQxbzyrHysBGzvxjafQ0f6i5Na/LK3+If9o4i9v0Mb/hAdQ/57W3/AH03/wATR/wgOof89rb/AL6b/wCJrc8P/Ebwn4u1XUNM0PxRo2talp//AB+Wen6hDPNbc4/eIjEpyCPmA5FW4/GGgyabpuoprenPp+pyJFY3a3cZiu3fOxYnzhy2DgKTnHFH+ouTfyy/8CF/aNfXVaHMf8IDqH/Pa2/76b/4mj/hAdQ/57W3/fTf/E1R+HH7Qngz4mWfjG907XNLXT/DF9La3d1/aULosKKD9qcq2EiYiTaxOCIyc9QOv8PePPDPi7QZdb0LxFpOtaLCXEmpaffRT26FBlwZEYqNo5OTxR/qLk1r8stk/i6PVMP7RxF7dbtbdVujnv8AhAdQ/wCe1t/303/xNH/CA6h/z2tv++m/+Jqn4Z+O3h3xx8SYPDPhm/0vxJp8mkTamda0nUo7qJXjnjiMBEeRnEgbO7I445zXVeKfiF4V8DJv8SeJdH8Pp5fnbtUv4rYbNypu+dhxuZVz0ywHU0f6i5NZPllrf7XZtfmmH9pV7tXWn+Sf6owf+EB1D/ntbf8AfTf/ABNH/CA6h/z2tv8Avpv/AImtbT/il4M1bWdP0ix8XaDe6tqFst7Z2FvqcMk9zblSwljjDbnQqCQwBGATmpbr4k+EbHxbB4VufFOi2/ie4AaHRZdQhW9kBBYFYS285AJ4HQGn/qJk17csv/Ag/tKvvdGJ/wAIDqH/AD2tv++m/wDiaP8AhAdQ/wCe1t/303/xNb03xC8LW/iWHw7L4l0eLxBO7RRaS9/ELuR1jWRlWItuJCOjkAcKwPQim+G/iN4T8ZalqOn6B4n0bXL/AE1tl7a6bqEVxLatuK4lRGJQ5Vh8wHIPpS/1Fyb+WX/gQPMa63t9xpaDp8ml6TBaylWkj3ZKEkcsT/WtCiivusPQhhaMMPT+GCSXolZHnSk5ycnuwoooroJCiiigAooooA+XvDvgfxd4o8c/Hybwh8RNV8GaoviGOO1hhsrC5smn/suzKvMs9tJIRkgEJIowOBnOeGuNQSb4W/Da406SHw2fDPi+WXxy3ieBtUXTtV8ucm6v1jkhLobqSOVZgyRqHikwqJgfbVFC0SS6KK+cba/O23e3bV3vfzcv/Jr/AIq+/r3Pirxera18L/jj4qt/E2meK9Pv10l59T8N6O1lpEstvKDPPFIbu485li8tZZAQiiFRklX29lrvxV8KaF4i+NC3Wt2m7xHo9pfaAsMqyNrUTWDxg2QUk3J3oQRHuxlc9RX1HRWdWCqwcHs1b8Lf1+o6b9nP2i33/H+vzPmr4CafbTePvAd7JBG93b/CvTI4pmXLIry/MAe2di5+lcm+k2Wl/sy+H7mztYra5b4kQXZmjUBzM3iIxtJu67ih2Z/u/L04r7Borpc7zjPtK/8A5Pz2/T8TCNO0XG/S3/knJf8AX8Dx39rjVk0/9n/xRaMt251lYdFC2ELTTn7VMkDbEUFmYI7HCgnjoa8y8UeL9Fj1a88TfC+0svEHhTwL4HvtOmm0Kf8A0OSWV4DDaLLACSYY4ZJXEZ3Rhl4BcZ+r6Kw5Vrfrf8Yta97Xfbf791K1vL/NP8bI+OPBfihZ/i58N9K0XxL4W8b+G/Ceh6rqFungLRJYkXyoIoBZpO17cJLIROrGMMrDEbP99ai+HOvWd9rvh/QPB+qaP8Q9HZ9S8RaVa7fI1zwffvFLIFv/ACX2sjSTSwkSKj7pdp8zBI+zKKqXv7vWz+9319VpbrpvqyElFJLy/RW9N9NtdUz4g+Eul3PiHQPhj4Ks/G+h6tqFlq1tr+rWej+GJv7Y0y7hfzrp9SuH1E/Z5ZHMkDs8W9zKwWMgMF93/ag1C10TSfh9q2o3MNhpWn+M9MuLy+upBHBbRZdd8jsQqLllGSQMkete0UVbldxfaSl801p6Wil1Fy3jKLe8XH70/wAdW+h8hapr/hXRfA/xv8I+JzA/jrxFqmoz2WkyAG/1uOYY0x7ReGnVVESK0e4RtE2Su049g+MWl6t/wyj4v0++83UNcHhC5huCi7nmnFowcgDqS2enrXrtFYShzUnT7pL/AMBTS/PXvpsbQny1VV7Nv72m/wAtO3mfP3w3n0Hxh8b9E13T5tP1qFPh/bxWuoWsiToFa7dZQjqSOqbTg/w4rxfwzNqfh3w/8F9fbXdE8K+FtJPiG1XVvEmnvd6ZYXbXpS2DqlxAISYVnjSRnCrkoBmRRX3TRWsneSkujl/5M5P8ObTz18jCMeVNeSX3RS/G2vlp5njH7MdmRo/jLVYtWg1qw1fxBNe295p2lnT9OnJiiWWWzRrmcvC8iu3mbgHcyMoKkM3jV14o8CW/h/8AaN8LXaWj+M9c16+gtNJlG281iY20S2q2w+9KUkI+5nyzljtzuP2ZXN+DfAdh4IuPEU1jNcytrmqS6vc/aGVgkzoiFUwowuI1wDk8nmoa5pa/Dycv4w+7SJpzNWa3Uub8Jb99WeD6N4i8O/C/4lePx8V76xsL7WNJ02GxutYZdmp2kdmqXFrbsw/esLgzM0KksfOQ7fmGfP8ASfCeseGdO+HnhPWrW/ib4keHbbw9e2l0HEkEdrcmYwyAHKP/AGfPcRknJzCoPv8AblFW/elzSXqujWun4v56kRXLHlXb530s/vS9VofEvhXQfFXjT4X/ABSttJtb4694L8NXPw90bJAmlmheUzvGQBkyxLYgEHqnrW74PvrXxp4s8BNpHjfwvr8fhzSrxP7P8HeGJbOTTbNrMx/Zb55NQlNsu8Q4haPeZIB8oCOV+vaKiScouLe6t8/eu/vk383r1Neb3k+z/DSy+Silf5nlv7LFjb6d+zX8L4bWGO3iPhuwlKRrgbngR3b6lmYn1JNeAeJ9Qv8ATPGnxhtdT8T+G4/EfiO9bTYPCuoeGZdS1nUdO8hY7aOyX+0IBJAQ0jEhPLSQzl3AViv2jRWlZqtVlUktJX09Wn+WnzZnTvThGMelvw/q/wAkfFHxkS2utT8MaRFealqfh7wPp9pofxG8RWtysSXFjO8KPZyD5yzBkWeYq4MUJkG8mWvQr/xh4H8M/tIeKNb8Uy6dpdn4X0Cx0PQ5ZwoBnlWW4ube2Tq8zRNahY0G9lOFBya+la53wn4H0/wffeIryzeaW517Um1O8knKk+YYo4gq4UfKqRIADk+9K7l8W/vO/m9LeS1k/m922w5YxVktNF8lZp+uiT8rbWOR/Z709vB/wz8OeG9VFvpOuPBcagmhGVfOtLeS4Z1jCD+GJZY4ztG1SAB2qPx9/wAl2+F3/XprP/oqCvQ5NDhl8QQaw0kxuILWS0jj3Dy1V3RnOMfeJjTnPQe5rRqai9ou17/r+gLTQ8e/ZB/5Nn+Hv/YNX/0Nq8T1vRdP8afCPxLqptlm1P4s+N10ZJnctIdOF6tvhCfuD7LZvLge2ckAV9m0VUmpVOdr1XldNr52sU22ml6/OzS+5u/yR8h/FjRZb3xF8RxotuLHwj4c0vQPCl5Z6bAyLFYNdLc6iqomBtSzljGF+6pfpzV74neIl8calfa98F3s9YXwn4J1ix/tjw7tnh8+WOE2ljbyRHZJIhiMvlqSU/d8DeAfq6iptePK/P72nf5XbaXm9bFRkoyUku34W/RJfJHynp+ufD7xv48/Z+8N+Abu01bTNCF3qJutMbzIbeGGyCeRK4yBKZZ7d2jY7wVUsAWUn0b4yWVpqXxU8B2l+Lg2NxpWvRXAtEd5jG1vEG2KgLFsE4CgnOMAmvZqKdX94mn1vf5/8C33GdO8Gnfay+7+mfLPwO8XR2fj7wX4T0rxf4S+LWkWmmXkFvqlhp6Qa54etV8sxR3bRu0YVgI4WUpbuzopKMVfb0Xx48ReFfCf7Q3wa1fxdLa2WnWtprbQ6jfYW3spytoqyySH5YxgsgdsDdIo6kV9CVzWseAdP1vx14c8VzzXKajoMF5b20UbKIXW5EYkLgqSSPKXGCOpzntTk5SjJ7q/43/z/UIJRuun/AsfNcel2OvXVrqVtawz+Dda+K9rqWjAAmC4RbMb7mIEY2PcxyyKy/K5O8ZDZNjx5rF54L+PHxHufEPjLwd4P07W9Os4dMbxlokl6uoWKQlZre3dby3ViJnlLQAM581D0Za+saKz5fd5On/2sY/+2/c2rF8z5nLv/wDJOX6/he58gRWFj8LtH+HmpzfE+x+H3iqDwomnPb/EPSBHY6nYgsyQMr3CmKaN3TckVy7qoTzFYFaow+KNa0vxZ8N/GOp3fhH4R6HN4MFjpz+INIkl0qzujMWmhg/0i1FsZYUgZFkO5kQqACrV9m0Vd9b+bf381/8A0r7+mpNla3kl93L/APIpd7aXPkv4VeFrWPxZ8IZJymp2h1DxNqmmSNpRsIEWQqUktYGmmZISHdoyXyUkBwuQKzNaurTQdB8S3t1NDp2i6X8Z7a5uLiZhFb2kRe3Z5HY4WNd7kljgZck8mvseioS5ZxmulvwlCX/tlvncT96Li+t/xUl/7dco6drum6xNdQ2GoWt7Lasi3EdvMsjQl0WRA4B+UsjKwz1DA9DXjEmj3d18YvjXcaJGqeJZPC2mW1jcghXWQpemMBjwBv2n04GeleyafocOnalql8ss0s+oSJI/msCIwkaoqJgDC/KW5ydzsc8gDRpTipxcdrr80XFuLT9Pwdz4q+Esia7D8F/DVv4y8NXOq+GbuKVvDegeGJodZ0gxQSR3a3zyagxgQlnjkeSL948i4Ullq9pPibTNA8IrNfXsMC+HPi1d3etK0i7tMt5ry6EU9yucxRHzEbe+BtO7OOa+x6K1lJyqe087/PmhL7vct873IsuTk6Wt8rTXpf377fI+KviNrug/Em++NVxp8sGt+H7278G24uEHmWt7Gb9Vcxv92WM5ZdykqSrDPBr3fV9Js7r9qvwvdTWsUtxZ+EdQNtI6gmEtd2qsV9CVJXI7Ejua9eopR91prpd/fHl/W/4DleUHB+X4NP8AQ8a/ZPUQ/Cu+gQBILfxLrsMMa8LHGuqXIVFHQKBwAOBXhOn654a8a/DH4jaZpHkz/Ev4h+J7h7bTmVV1DyVuxFaXgRgW+zwwwiYTY2BlbB3HFfbdFCdpKXlb8U/0B6ppd7/n/mfGfxp+LEnh/UPjLeW+teEdC8Q2tk+kjw9qulXOpa1rFrFaeaksai8jCQMZ5TlIXjUK7yMcMFm8XeJrP4aXmlfYvFOm6J418K+EbTSG0bxlbKbLxZaPEr7LF1cTNJ5iNGTGrnftVom+Un7GorPlXLyrfTX5SV/nzO621atYrS6dtr/nF/hyqz3630PjA3TfDP4lfb5db0D4b21n4T02w8M6D4u0e51W4+zlGae1sSL2FpZxLsikjQSOQluOAQD9G/APwndeCfg/4b0i8M/nx27SmG4tRavbrI7SLB5ImmEYjDiMKJHACAZr0KitG7prv/m3+pnZ3Tb/AKsl+h8U/DHxDoej+Hfgpq+v31mvhrwvfa3ZazNPIpg0XVXlItmvOot2CtMgaTbtMy8jeM+4/AWW21jxh8UPEWguJfBusavBNptxCB9mvJltkS6uYGBw6PIAu9flZo2IJySfZaKFp/Xez/T7rdh20S7f8H/M+PPiRLpl1/w0X4d1GW2a7v8AWtFuf7LndRLPZtHp8TSiMnc0RYMm4DGQRnNb37Qmh6xefEPxbpvg+3aPXb34XX1vbRWQEckrLdIsaLjHIDuF9N5xjNfUtFY8nw36Jr191x/W/wDlc05ndtd0/ukpfjY+UPhhfWvjT4lfDBtI8b+F9fj8OWdwn9n+DvDEtnJptm1r5f2W+eTUJTbLvEOIWj3mSAfKAjley/aK1vw14b+LHwU1TxWYYdKtdU1CUXl0P3FpKLNtk0jHhFU/xtwpIY4xke+1zfiDwHYeJPFnhfxBczXKXvh2W4ltI4mURuZoTE3mAqSQFYkYI59elbTk5WfW9/xv/XmZKKSa8rfhb+vLQ+W9Yk0+78XyeOooo5/hF/wsC31S4vocyWEoTS3ifUCACpgW98omYfJuiMhYAFq0fGNvb/ELUvi54z8DTpqWhWen6PqtpqWmyBrTUdX0+aW4doZVO2UiJIIXZTg5CE5Q7freipV4q0dLbetkr+e1+nS2yNL83xddH6Xb/G9n5X7nw7cRz+JvE+jvaWt5NY/HgLPdSMpCLZWt4JlDqwJQyaZIYz2JWp/GE82j6n8bvDXibxb4V0O68S6jK0ehax4cmv8AV9Zs5IEisxYlb+AXBAXy40jQlJFIJ3E19t0U7Rty9LNb62bTS+VrIFJ83O97p/NXX49u6PCfhTorWP7QXipr8veavZ+CvDtrJfXUarOxMl/5m7DMAWaNSQGIyBycZqr+1Yl02ofDeW61zSPDnhW11iS81HUvENi91pkdxHCxtBdKJ4AqeYSVZpAvmrD1JAP0BRVVJOpLm87/AI3/ADM4RUE0u1v/ACXlPjTVdSTWfC/jmSfUY/FfiD4j3ttpnhq30PTTo8OoXdrGCNTtjJdXLNDF+7drogLi1UqHBjLQXKaLcfALwp4f8QK+o6r4m8aQ2vjya8wZJru0drjUHl+UAQhbMbQFAEGzAA5H2lXPax4HsNc8YeHfEd1JObzQkuVtIVK+VunVUZ2BUtuCqVBBHDtkHIxKsmml2/8AJWnb0dtV107Ip6q1+/3tNX9Vpbtr/Np5h4H8Q+H9b+K3irx/o17pkXgO00K00hvEEMyJZXk0UssjFJeEeOFXVPMDFQzOgOUYDrv2iP8AkgHxK/7FrUv/AElkrsfEOiQ+JNDvdKuZJora8iaGVoGCvsbhgCQcZGR+PGK0KmpHnpumvP8AG7f4s0pS9nVVS2zT+6yX4I+cNJ8I6Lb/ABT/AGeDHpdqp07wjqQtP3Q/cbYrBV2ehAkcf8CPrXn/AIMutO8L6x4R8Q+IzFZ+B9H8a+LkmvboAWWnXkl462k0pI2xLj7QiyMVCtKBkFhn7QorWUnKp7T1/GXN/Xnr5GUYqNKNN9Lfgmv1/A+NdRuNPm8fy+PImWT4O/8ACeWuoz3qx5095F02SI6iGB2mAXhtyZvuB4jJn5S1VvEuv+HvFF1+0VrvhBF1bTRH4dvri80mPzo7zyZGeaaIoMSgJGQWUkExtzxX2nRWdrLlX9aJa/cvw7Ib95pv+tW/v18z5O8ffEDw98Qvid4tvPDGrWuv6bD8LtWjOo6dIJ7R5POQlEmXKMyjG5QSV3LnGaueC/FnhL4ceOtbvfiJeWGjRa14V0iLR73Wiqw3lnHbEXFrAzDDsJX3NCpLN5iHaeDX1LRUxioxcV/Ws3/7fb0XnoO8pcz/AK0gv/bL+r8jyz9nOxvfCfwB8LQ63Bc6a1pYvItrfoUmtLXe7QRSKeVaOHy1KnkbcHkV4Fp/g3S/Gfwp+Gun32nR3l18V/FqeItXW6HmtLYq82pLExYf6tY0hj2dP3j45Yk/aFFafa5/NP7nez73aX3fcfZ5fX8U1f5XZ8h+OLX+2NY+JOu3wWHwIfFOieHdVRY2EK6TZIHumkAOBD51w0cjEbRGj7vlBqD42eILfx5qXiXxZ4InS+8E6f4dg0TXdf0UGSG7t5dQt3nWGaI/vRbWi3RZoyRH55GdwYD7DoqY3Vm9WtfV8qi7+T1du73H102/RS5lbz2V+yWh86aDrfhH4iftPeEpvB01nqWj+GvCV241HSWD2L+ZPFBBFFIn7t/LVbkfKTs3svBLCuu1yOSD9qrwnPdBvsk3hPUoLJifkE4urR5VA/vGMIfojehr12sLxN4PsvFNxo9zPJNa3uk3qX1nd2xUSRsAVdMspBSSNnjYY5VzghgrCk7OD6q//k3N+Sl+BNtJLvb8Lf5fc7HhXwq8ZeBvC/h7VfCHjyfTYvGdx4qvrm50DUIVuL+/mk1B5LW5itghkmXy/s7JIiMEWP7w8sleB1HVNDtfgT8Qfh5cmKP4v6jr2pTW2iyAHVLzUJL1pLG+iTAeSNY/s7idQUjSE5YCNgPtCikul/62+7b8uxTe787/AJ799/6ufGvijwzp+pfCP9qpdRtIbuefXilxKyAGXyrCxePJH91yzD0JOK3/ANoDTrXS/F3jOCytobSFPg7q0CxwIEURxyARoAP4VDHA6DJx1r6rrG8Z+FrTxz4P1zw5fyTQ2Or2M9hPJbsFlWOWNkYoSCAwDHGQRnsazqJyikukbevuOH63/DzLpNRmm9ua/wD5OpP8rfifO3hHXvCPjrV/gZZfDt7OW78NRSNqVtZnbNo9ibCSJ7a6QcxM85gHlSYLNEWAPlkjivDPjzQ7j4VfAHwbDfRzeKtG8U6ZaatpER33OmSQtNG4ukHMPzjau/G4kYzX2VoulxaFo9hpsDO8FnBHbxtIQWKooUE4AGcD0q7XTOSdXnX8yl90r/L8e5zRi/Yum+seX00a+e/6HxL4quLibw742sLPUtPtm0X4qnWPENtfWzXq2mmkB4rm5tEkjkaDzBFJnco2xlslVaneLoZ/HEfjjxPb+I9L+IOif8SFPENx4N0N4tMvbS3vxLcx7he3JuZktt/mKg4jZVOSdo+2KKxh7iilvG33qMY6rs+Xb8TZ6tvvf8ZOW/e739ND508H+M/Bnjz9rwan4Q1DT9bA8EyQ3Wq6VIk1vKVvYikfmplWZATkBiVDqDiug8Q2Nvd/th+C5Z4I5Zbbwbq0kLOoJjY3dkhZfQ7WYfRjXtdFVG0eT+7zf+Tc35c34E2vz3+1y/8AkvL/API/ifHXh/wzpPh34E/DKLTNOt7FE+JyyqIYwpD/ANq3Ee7Pr5YCZ/ujHTiqmo6podr8CfiD8PLkxR/F/Ude1Ka20WQA6peahJetJY30SYDyRrH9ncTqCkaQnLARsB9oUUo+6mn1d/wirf8Akt/+GG9Xzdf+DJ6/+Bf8HU+Yr/w3rGoL+1GvhuIv4zvYLaytrm3wk8sg0aDy1VuMHfI5XnguelYvwwvLfxd46+E1vpfjTwzrR8NRTj+yvCPhiWzudKtvsjRPb37SahIbZC/lL5Txb2ljXCjYzL9b0U4vld/Jfgmv1HL3oqPa6+9JfoFFFFIQUUUUAFFFFABRRRQB5b4j/aD0fw7qWuoNC13U9D8PSLDrniKwghax0x9od1cNKs0nloys5hikCBuTkMB5H8Vfj5460Xx18UZtE0/XDo/g3wvDqdlDaLpT2V3JMlzi5uWll89oh5auiwsjYhfcp3KHTWvgLrelah480iDwv4j8Rr4k1O71DT9VtPGd3p2jQi7Ys8d9ZxX0L4jZn3eTFIZE28hiQOg8ZfBrxLcD42W2l6Usttrvgew0PRtlxGq3FxDDeo0YDyFkA86IZkIHzfeOCaylf2Ll9rl/FrVfJ7fm7Jm8OX2vL0v+HMrP5q7fbstTb8C/FqLwvpdzJ401vxUbvT/DVvrt+uvWunN5ccs86KVGnx/PKxjwEXcNvlcby9beufGl7fwb4jv9a8K+NPAw0/TzfrcTWtlLK8WQCYnSWeASAkfu5irYOQpAJHE/ED4H+KfGeoa6LSC3tTL4S0S1s7i8mXyXv7K/lujBIF3MEOIwX2kYc43EEVv/ABGuvHXxa+GPjDw/F8ONQ8OyXOktHEdX1SxMtxdMwxHCsE0qlAAxMkrxkHYArZYp1Ss5O3d/deVvwt8vVHLG6ivSP/pMb/i3/SZ0fij48ad4c1vWdPtfDviDxHDoMUc2uaho8EMkGlq6eYBIHlSSVxH+8McCSuFK/LllBj1r4/aba+JoNB0Hw5r/AI01G40aDX4v7BjtvKeyleRFkEs88SZzH90tuYOu0Nhtvl/iT4L63ofjrx7d2/hnxR4ph8UXa6jYXWheM7jRrO0ma3jgeK9gjvIMoGiV/NijmdkcrtyihvQfht8L9Q8C/EiKRLC3t9As/BOlaFBLayEwia3muS8aLJI8oVVeMguTkEfMxBrGOqV/6fLJtfKSSXfu7o1dkm/6+KKv9zb8vkzGtv2h73xV8UvhhYeG9E1G88JeKNGvNSlvClsjIyNCm11eYOnkl2EihN25lC78OBr/AAN+MreK9J8K6Nr0lzN4l1PRZdYF88MUcFykdyYZFXYR86boiRsAxIpBPOOH+GHwt8ZeBb74O3l74dnuBo9jrOmanDa3VsXszd3UUkUzbpVDxhYznyy7jIwp5xgfEjwL4o8E/s6fD9tPiTTPiHpd0dFtI96u5/tBntXQMm4Hb5sc/Bxm3BPThXenKt21bzbaj8tY69iYpNe87aJ37W1f5P8AM+jvBHxEs/iF4JXxRothfTWMxuPskMgiSW7WKR0V48vt2ybNyFmXKspO3t4B4a/aQ8Y6n4V+F+uX+iatFPrXirU9MutMtbezkk1GJIL5oIodsrCMLJFCheR48GJizbMufpLwd4XsvBHhPRvD2mxiKw0qzhsoFAxhI0Cj9BXgfw8+GPjDS4Phbp1/4dnsx4T8WatdXl291bNFNbT2+oCKeLZKXKlrmJdrKrgk5UAZrTRVGk9P+Cvxfz9Cbtwu1Z6/k9Pkz0Sz/aB0Sbwvrep3eka1pep6PqaaNc+HbqGJtQN7J5fkQoI5XibzRLEVcSbMNlmUK2Kl1+0hpGh6R4xuvEXhzxB4ZvvCunx6tfaTfx2stw9o+8JNE0E8sTgtHIuPMDAqcgZGeK8V/DXx2uofEu90qx1A2mr+K9L1H7Po+rrYXupadFaW0dxHBOsiGF90bDDPFuCEblDBq4WL4C+JFn+Kg8O/DEeENH8QeE7ew063m1G1lvbm8juJmka8dZn3TP5m7zGkkyoXc+4lVineVr6af+2J/wDpWm/lbq9J2irrX/8Aat+C1287vY+ifCPxktfE3jL/AIRm88Oa74Y1OaxbU7Aa1FAq6hbK4R5IvKmkKlS8e6OURyKJFyo5xr+NvEul+Glin1jVLPSrVlbbLfXCQoSqPI3LEDhI3Y+iox6A1zuteD9Xu/2hPB3iaK036Jp/h3U7G5uvNQeXNNNZtGm0ncciGQ5AIG3kjIzxP7V7CPUPhZIdCm8SmLxbbyppduIDJM62l4y7fPdI8qwDAswxtyDnFWrWh3bt/wCTOK/Cz8yEm+a/RX+6N/zuvI7W3+I3hO88KSeKIPFGjTeGo879Zj1CFrNcNtOZg2wYbjr14qbSfHfhrX9P06+0zxDpWo2OpTNb2NzaXsUsd1KoYskTKxDsAjkhckbG9DXit18O/Fb37+NR4akeR/GEPiJvB63FsLloVsBZZZ/M8g3AcC4x5u35AN+6nal4D8Y36694y0/w22l69d+ILPVNO8P3F1b+bF5Vv9kknndHaIOyO7FUd/kjQZLEqL7advxtf7rv7vW0O3R9H+tl+C+/7/em1WyjvJbRryBbuKEXEluZF8xIiSA5XOQuVYZ6cH0rzaT4xX9n8GfEvxKn0eN9MtrSfU9J0/zGimuLNI90bysVOxpcFwAp2q6g5OaxPCHwt8StcePLPXbm6cXGhw+HNO1m6uElmu4UN24nYhi24C5RWLhSWjYgYIJryQ3vxX/ZH1jQNJsVXxIfD8+hT6QXWM2+oRQmGS3JbAXDjAJwCpVs7SDT6y62St82/npaP37DVnOPa9n9y/P3vlG+x6x4b8eeG/GF1qFrofiDS9YvNOcR31tp97HPJaOSw2SqjEocqww2DlT6Gm+G/iJ4V8ZX19Z+H/E2j67eWJxd2+m38VxJbnJGJFRiU5BHOOQa820nw94m1TxJN4i07wbH4PXS/C8+h6dpOtSWv+lzs8bxBxaSSqlvH5QUfPu/eSfIAAW5z4U+C/iC3xU8O+I/E1r4g+x2Xh67024/t2TR0aOd3tXCQR6ev+pPlvt8x2I2cheC4tX8n/7db77LT+8vnnG/Lrvp+Sv+b+77vatF+JHhLxH4gvdC0nxRouqa5ZbzdaZZahDNcwbGCvviViy7WIU5HBIFSad4+8Max4kvfDth4j0m98QWSl7rSbe+ikuoFBAJeINuUAso5H8Q9a8u+DfhzxZ4W8QQ6RZab4k0H4f21pOiab4qn0ydrRy6mCOyktJJJWRQZQ32l2OBHtJ5rlfhT8H/ABJ4f1nwXpXiRPGd1H4Xupri2v45NCGjmUxTIZQY0S+IkWVsq4Lb3+csBvKjq0u/+f4enXozSSSUmun9f0/wPpmiuEtvidJN8bL34fnSP3cGhx60uqxXSuPmmaLyZIsAxnjcpyQwDdMV3dC1Sktn+ja/NE7Nrt/lf8mYOoePvDGk+JLPw7feI9JsvEF6oe10m4voo7qdTkApEW3MPlboP4T6VPL4w0GH+2PM1vTo/wCxlD6nuu4x9hUpvBn5/dgp82Wxxz0r5+8XfCDxJeeLvGNheJ4y1Dw34m1SHUDJ4ak0EW6qEhVRObxFuVeJoQQYmfChCpDZA3/ip8OPEPjTx1P4gsvDUL2/h+G3EdjdXSL/AMJVslWbyZAsm1Y4iMxGYA+cSSBHu8xR1jFvS+/lovvs9PPdDlo2u34/Ppffy2Z6lr3xS8GeFYUl1rxdoWjxOIyj3+pQwKwkDGMguwzuCOV9QjY6GqvxE8bXXgGDStYe2iufDn2pLbVZQT5tqkrBI7hecMiyFQ4xkK5cH5CreRaxd6hN8evHq2PgG78Q6nqXg/SrTLyWSR2Alkvt0dy8kwby2bbv8lZc+WeGwoPR/EfQp/Dv7OenfDxrptR8Rarplv4Xs2hba9xOYRG8q8cKiLJMxxwsZq7fmvndvT8Fr56bXJ2dvLXy0Tv+L+49rryr4sfHMfC/xZ4e0ZtMtLtNTaPc91qQtZmV7iOEi1jMbC4dBIZHUsm1F3ZPb1ONdiKuc4GM15/8XNB8Q+NNPbw7pVtFHpk1tLPeXV06+Vcso/dWZUHdskfaZCRgxqydXyuUnytS3S6d/wCv+B1Lj72j0/r+vzOi8D+KJvGWhjVzp7WFjcys1gZJN0lxbf8ALOdl2jy94ywXJO0qTgkqtvxF4s0PwfZrd69rOn6JasWAn1G6jt0OFLH5nIHCgk+wJrk/gmPGi+F7oeNRfC8F1/on9q/YvtnkeVHnzfsf7jPm+dt2c7Nm75s1m/G3wLqnjTVfAsun6el/Bpeo3dzc73jURBtNu4o2w5GT5skYGMkE54AJF1bwTcddP0/P9SafvfFodpb/ABA8L3mm6pqMHiTSJ9P0okahdx38TRWeFDHznDYjwpDfMRwc1JoPjjw54q0OXWtF8QaXrGjxFxJqFhexz26FRlsyIxUYHJ54r570n4J+J9D8L6f5XhyGV9Lg8MXL6Mk8CC+ksUf7RCp3bA6sVZS5CM6L8wGSNvxL8O/FXjmHx54hHh2TRW1caOsfhm9uLZ7i/SxuDNN5zRyPArTIxhUeYRtRd5AO1akrOSvs7flr57vRa6EU25qLatf/ADeny3u9D034X/GrQviZ8QfEWgeGdT0/WNP0mxtLhtY0nUIruN5JzcAx4QFVZPIVuSc+YOBjnqPhH4uvfEmi6rp2rzC41/w7qU2j6hOqqvnugV4ptqgBTJDJDIVAABcgcCuC+EOm+Jr740eLvFet+GZfDOm6npem2djb3V5BPcHyHvTJ5qwu6I375SAruNrKd27cibHwda4bUfHviq3sLm+svEvilvsn2dowFtoIIbM3BDuuUL28jZXLMpUqpqJJc9v7v43ivyb/AF2NujfZr/0lt/iv0W56H4u8PX/iTT47bT/E+q+FZlkDm80iK0kldcEbCLmCZNvIPCg8DnGQfE/gvceNNc8C634s1j4leINVn02/1uyTTp7LS47WRba4uIIWfy7JJNwEaMdrgFh02/LX0RXkXwk8B674Y+EfiXRdTsfs2p3mq67cwQedG++O4vLiSFtysVG5JEOCcjODgg1z1LqnPl3s7eumxtC3NC+3Mr+mv/AMz4O/tDf8JRofw6tfEGia7ZXXifS4ns/EN9b28Vlqd0tsssqoqS+ZGWAldfMijVgjFcjbnb0j9orQtWvNOlGja3a+F9Uvhpum+LLiGEabe3BcoiptlMyq7gqkkkSRuQNrHem7l7j4U+I7vwv8ANPfTyknhl4hrWJ4v9EUaRcWzH72HxLIq/Ju656ZNcP4B/Z91jQdK8IeDb3wpr9wdAvbT7R4g1LxneTaFcW9rIsiSwWCX4YTNsj2xPAsUb5OXVAH7KnK67XTm/C+r7aLbp5OzOWnzKlG+9r/ADs9Pw1/4KPYf2kviXrnwr+HcWr+H9JuNUvptUsLEmAQHyY5rmONiRLKgywYouM4d1LAKGYRat+0p4Z8O+B9c8S6tY6pp0ei6yuh3unSJC91Hcs0faOVkKhJVlJD/cBPbFXv2iPCWr+NPhhPY6FZHUtSg1HTr9LNJUjedbe9hndEaRlQMVjbG5lGcZI61wPiL4M6744+LGsPd6ULPwF4h0b+0LxLqWEzQ6sbSWxMLxo7Bv3EqsWUld0Iwx4rkUnFSbV/L5J/ilJerXo+iydtbf1b82n6J+q9F8VfHLw94QvfEVpeW+o3E+irZIUs7cTNeXN2XEFpbqG3NMdqkhgqgSIS2NxW94H+Kdt4x13VNBvND1bwp4j06KK5l0jWhAZXt5Nwjnje3llidCyOp2uSrIQwGVz4p4V+D/xCj+DOlavrWn2c/wATbfxJB4ovdJa4iVLo26i3S2Ew3IrtbRoQxO0SHkqMkdxp/g7xV8RPiLqfjC+g1b4ZpHoqaJpoEthcapk3AnnmYD7TbKh2RooO9j+8JCfLWtrOz11/DlT07+9ePprbqRd22tt9/NZ/Ll95evyO58c/EiDwXqGlaXb6NqfiXXtUEslrpGjiATvFEFMspaeWKJEXegJZwSXUAEmuSk/aW0NdF0e5h8PeIbrVdT1q48OpoMNvB9th1CFJHeGQmYRD5YifMEhTBB3AZI534q/DXxLeXvhq01NPFvxT8Hx2d7b6pp9hq9rpd3dTyPGYnuEjeyhngEayxmPIHzglHySOS+EXwX8YeGdU8MG78HWHhmx074gaprZsdLubc2trp8+mTxQmNVI4EkqxlQoOQTt280qaUm1J9G//ACZK3zV31790E7pXjv8A/at/mkum9uzPUPF37R+m+ELXW7uXwn4m1Kx8P26Ta/dabDayppDtEsphl/0gGSRUZGbyBKqhgSwBzXU+E/itpPjHXINKsre9iuJtBs/EKtOiBBb3LSLGpIYnzAYmyMY5GCe3hHxG1XVPhv4N+Plro2nW3iTTtSe91GTWIdTtVg0eWWxjWa3vozIJlddodBFG5cSoDt+8eo8P+G/F/wAO/FXhrW9P8KXXimyuvBOn6BNHZ3VtbyWV1bO7q0wnlT90wnbJj8x1MZ+Q5GZi7q7XSL+bjNteikkk+vd3HJW28/wlBfe4uTaOgh/ac0TUbfwh/ZPhvxHrV/4qt7240zTrOC3ErC1lWOYSNJOkcf3iwLOFIUjO4qrV9B/aq0DXrXTNQXwz4osdEutUXQrnVr20hjgsNRMxhFtMvnGRj5u2MyRJJEGcAycNt5T4KfCHxn4T1L4QTa7pUVs+g6LrlpqrwXMbxwz3F1DJEq/NuYMqMQQDgD5sHirOpfCbxXcfB1tDj0rdqh+IA1vyPtEQ/wBD/t37V5u7ft/1Pz7c7u2N3FXBLmipbX1/8Dt/6Tr9z2umP+G5Le3/ALa3+aS+dt7W7fWP2itD0a+1d20XXLnwzot2bHVvFdvDCdOsZwQHV8yidxGzKrvHE6ISdzDY+1viv9oaw8N654p0u08JeJ/EcvhmCK61WbSLe3MUEEkRlWQGWePzPlDfJGGf5T8uCCfHrz9nnWdPtfFvhQeFvEGvrrWqXt1a60vjO8tNBW3u53ldbyxiv4nzH5kimOKFhLhSXUuxT1uP4f6zb6h8YTHY4t9ds7eDSyJU/flLDySOWyuH4+fHr05rCpKUaPPFXkle3nZO33/5XurmkYxlV5Xte3yvo/u/4boVtJ+NGqeIP2hNO8L6do95deDrzwwusQatEbXyZTJIpSfJm83y8fuwojDb3JKlMOIPjr488VaT8RPhr4S8Pw65Z2mv3s/23VNFXTml2RQu3lL9sYqADh3PlklVwjbvlOd8NfAHinwX48+Hl9e6BPNZR+A7bw7fz29zbkaddxMkh80NKGZTgqGiEnI5AHNdt8QvCGra78VvhfrFlaedpujXOoSX8/mIvkrLZvGh2kgtlyB8oOO+BW9RciXJrZy+dpytf5W+Xkc0JSlzOStdL/0hX/G/z8zPtf2jtDubq3uBoevL4SuNRGkw+MZIIBpklwX8pQB5vn7Gl/dCUwiMtjD7SGNbVv2mtE0bTfGmrTeHPETaB4RmnttU1hILcQLPE6q0UamcSSHDq4KoVwcFgwK1wlj8NPG7fCPTfgvceFmTT7O6gtpfF3223+wTadFcrNvWNZBcC4ZFCbDEEDknzCoBOz4q+FfijUvgZ8VvD1tpfmaxrmt315p9t9oiHnRSXCOjbi21cqCcMQR3FZ6627O3m/dtdfOWmm3k77O23mvu96/5Lvv5o6Ff2kEfxRceGF+HfjQ+JBZJqdrpnkWQa8sy7IZ0kN15UYUqMpM8cnzqAhOQO/8ABnjjTfiJ4H0/xPorynT9QtvPh8+MxyIeQyOp6MrAqR6g9awT4V1T/hfEHiL7L/xJl8MPpxufMT/j4N0kgTbnd90E5xj3zVP4A+EdW8C/BHRdD1y0+w6papc+db+Ykm3dPK6/MhKnKsp4PeqjrBN76/hKS/FJP56aNGd3ztdNPyi/wba+XcS++JXhLTtattIvPFOi2ur3U5tYLCfUYUnmmG3MaxltzON6fKBn5h6inal8RPCmj+JrTw5f+J9HsfEN4FNtpNzfxR3cwYkKUiLBmyQQMDnBr59XQdT8YX3xh8LaP4PlefWfFCLN4oma0S0thHDaOGfMv2hpI8FkAiI3svzKNzDc8V/D/wAV3Gk/EvwZbeFJNRHjHUZLq38VfarZbW1SWOJA86tKJ/Mg8v5BHGwOyL5lyxXWHvKDfVJ/fy6eW7120Ie8l2bX3N6/gtN9T3y11iwvlu2tr23uFtJWguGilVhDIoBZHwflYAgkHkZFcr4w8fS2sXhyz8MJa6xqniKULYTNJvtY7cJ5kt27IfmjVMYCkb2kjXKhtw8v8WeBPiHp2s+Objw7BdXNk8rX9japdwRpqs1xZQ2siMrOoHlGKSX59qs0i4Jwa39a0mH4Z+OfhXql05XRrTTZvCbzNkpbzT/Zjbux7BntfKyf4pUHenD3mr+X32d199or1uErr7n8trfNJtvpdW7nU+JPjHoPgvxvNoniK/07w/p8emR6h/a+qahHbRF3meMQ/PgZ+QnO7n04zW/4i8feGPB+kW+q694j0nRNLuWVIL7Ub6K3glZlLKFd2CsSoJGDyATXnvjTSdY0f41R+K7PwLd+L7eTw9/ZUU9jNYo1tKbhndXNxPGwRlK5KBs45HArmpvBPxG8D+E/h1oGlJfS22maRJaajeeEBpn2uK4/dbIkOorsFpgPkopkJji4ABBzi24Jve7/ADl+iWvn99tLnfbT8l+tz2nWPHXhrw94eh1/VfEOlaZoUwRotUvL2KK2cOMoVlZgp3Dpg89qbcePvDFn4VXxPP4j0mHw0yLIusyX0S2ZViFVhMW2YJIAOeSa8S0X4Z6/4a+C/gDTL7Q/E0ni3QLi4eG58I3umGaxZmlXP+ltHbyI8Um3b5ZwDwiEDF/xf4L+IniTwR8O9VvpdQk8T6DePdX1vop05b+RXiliR1Fyj2n2hVdS4BVMtL5bfcBuWl7dGl/Xf1Ij7yi+6v8A12PcNH1rT/EWl22paVfW2p6dcp5kF5ZzLLDKp6MrqSGHuDVyvKvh3pVx8Nfhn4m1VrPWxqMs95rU1r4sudPhleYpubc9iDbxI5TcWAJBZmYZJrrPhb44PxL+HHhrxWdOl0n+2bCG++xTOHaHzEDbd2BuHPBwMjBwOlPvbpa/zv8A5P7ugevW/wCH/Dr/AIJ0tzcw2dvLcXEqQQRIZJJZGCqigZLEngADvXO6b8UPBus+G7zxDp/i3Qr7QLJil1qttqUMlrAwAJDyhiqkBlPJ/iHrWR8dPBepfEL4X6xoekTeTfzNBNGuYx5oinjlaLMiOnzqhT50Zfm+YFcg8P4K8N63pD+NPFF94b8b+IPEF5pkFgNN8UT6BGuopGZSkafYmEYwZXDNNztbC7sYqLv3vL+v+BbpuXZaev8Akew3firRbC6Nrc6xYW1yLR9QMM1yiuLZCA8+0nPlqSMv0GRk1W0Px54Z8TatfaXo/iLSdV1Oxwbuzsb6Kaa3zwPMRWJT8QK8J0v4b678Kvh/8Q9O1LT4dSg1DwxLONftpsi2aO2dP7O2yyGTyYskwlQRtZw+Hy0m98JdB1TXNU+HusJ4Qk8GaJ4d8Oy2KreNaebeGdbcosKW0soWEeSzHeUbcUwv3iKjrJrsl+PN+XLbz3WliJaJW63/AA5f8/ls9bno/gvxtd6l4m8Q+HdVgjtNc0eVJlaDPlXNnMXNvOmSSD8jowPR42x8pWus+Jniu28H6Hp15dXWo2kdxrGnWCvpkcLyM891FCqMJQVEbFwrkfOFLFCGwa838LyHxH8bvFOs2m59L03TbbQzcA/JLdrLLNMi8c+WHjUkcbmZeqsB2Pxy8Kar4w8LaNZ6Ra/a7i38SaNfyp5iJtgg1CCaZ8sQDtRGbA5OMAE8Uo6ulzdWr+nNa/zj73bXsabc6XRO3ry3t8np307kOj/HC28Qa8LXTPCfiXUNC/tKXSD4mtbeCSxW5jZo5AyCY3IRZUaMyGHYCM7tnz10/wAQPHmmfDbwvca5qouJYUeOCG1s4vNuLq4kcRwwRJ/FI7sqgEgZOSQASPC9a+Gevf8ACxm1Hwj4E1vwJ4guvEMF7qPiLSvEUP8AYGoWqyfvZLiz88NLLJAWUg2gYSkHzSo8w+iftGfDfUPiR4HsYtKjlutQ0fVbXWYrGDUJNPlvPJY7oEuY2VoXZWba4Iw23JUEkZK/LFvuk/TS7/F9OlrPro/jduzt662Xz06+eiJofj/oNjZeI38TafqvgzUPD9pHqF7pesRRSXBtpCyxSxG2kmjmDurIFjdm3DaVBK5raP8AtCWN54qTw3q3hHxP4X1x9JudbW11e3t8NawmMFhJDPJGWJkxs3blKHeEBQt5pN8BtV8aWHii8svDmreFL37NZR6V/wAJp4mutXvZ57e7jvCsjC9uoobZnhiT5CZCTIxAAUNZvdY8RePP2kvDdrq3hK68GpL4L1u3gj1O6tZ55JGmsg7f6NJKoiGU2kuGJ3ZRcAsO70W9pfhGTXreyuunlcI2veW11+Lin+bt+p66vxj0V7H4eXQtb/y/HEiR6aPLTMRa0kuh53z/AC/JGw+Xd8xA6c1mfDz4y6P4k1bS9BSTWZ7zUbfUby1vNVht0Ey2t6beaIGEgbkZk2jbzGVJJbdXmPhnwj8RdQk+Bek6l4Il0i28CXKrq+pTajaPFcFNOuLVZbVI5XdoizAnzBG43p8h+cpX8UfCX4iaV8F/D174R0uI/Enw5rep3djZzXUSLJb3k90jhpN23HlTpNjOcxKOvFa1eWMm4aq7t6bL01d35IygpNRUtHZN+ut/yt8z1WT4+6VcxWiaNoOt+ItSvr2+tLLTNPS3Sa5Szl8q4uVaaaOJYVfChndSxZcA5rCk+N03irxB8NBoYvNGh1DxPf6HrmlajBF9oikt7C7kaBypdQRJFE4aJyCMYYgkVznjH4L6hoOi/D7wxBoOveM/h9o+hzaVqOg+HtbXTpbm4IhCTXAe4t1uIiqTKyNIRmXJRwSVwfhH8FfGHhvUvDP2vwdYeGLDT/iBqutGy0u5tza2unz6ZPFCY1UjgSSrGVCg5BO3bzSilzSV72T+bTSX3q76+q2HJvlulvf8Yyf3p2XTXo9z1iD9orQ5r5JTouuR+FZNS/siLxe8UH9mSXXmeUEGJfPCGbMQlMIjLfx4IJpah+01o2nzazM3hjxNLoeh6u2jatryW9uLOxmEiRl2DTiV4xvVi8UbhQfm2kEDyjwj+ztq/h/RNJ8C3HhXxDqK6fqEQPiK88Z3h0CazjnEwk+wR36uJtgCiHyBEJRncUGT23ir4V+KNS+BnxW8PW2l+ZrGua3fXmn232iIedFJcI6NuLbVyoJwxBHcVnHu9bJv11j+d5dvwd7nvZd7fK0vl0Xf8UdV4H+KGv8AiP49+P8AwleaFe2mh6JaWLWl25tfK3SCUs7FZmkPm8bflwFiO4IT81bU/jDq+k/tFy+EbvR7q28I2nhqTVrjVma1EKsJBmdyZvMEahTHgJu3sSVKYcX/AAr4b1zQfj5421SfR55dC1/TtONvq0U0Bhikt1lR4pEMglDHepBVGXGcsDxWB8VPhjrfi74pamYtOuJdA8SeCbzwvNqlvLBjTpnkZxJLG8iuykNgeWrnI5CjmovKLi0r/F/6TK1/nb8Bq0k+bT4fkuaN7fK/4nReF/j9pniTVtCt5/DniHQNO8QlxoWsavbwx22plUMiqirK0sTPGrSKs8cRZVOBniuv8V+OLHwffeG7W9iuJZNe1NdKtjAqkJKYZZtz5YYXbCwyMnJHHUjySw8PeOPHX/CudB1/wc3hq28J38Goalqkl9bzWt7JbRPHEtksUhkKu7K+Zo4tqDGCTgdh8cvDuu6rb+DdY8P6W2uXfhvxDBqsulwzRxTXUHkzQSLE0rpHvAn3gO6g7CM5IreXKpJLbmt/27dav8ei2vYzheSfNvyt/wDb1np6bdXvuO8RfHrQfDms6/pEljqd5qulXdhp6WdtHFuvrm8QvBFAWkVc4U5MhRRjrjmodW+LaL4ZivtU0bxX4MuU17TtJe0uLW1M7PcXMMceH3SwSQP5qh3idmVS4BWRcDza7+HPiDxhefFjUPGHwrj13QPFMuleT4cn1W2W8a3igaORldZPLW5RsMAJUUZG2bIyYrf4X+OtR8O6jAmn+IbfRW8XaBqWl6F4q1yLUr+yt7a7t5LyQ3Bnl/dkIWWIzSMNjEY3hAqSvNKXeP3Xjf8AN36W9Hck/d07P77St+nnfvdW7zUP2mtG0+bWZm8MeJpdD0PV20bVteS3txZ2MwkSMuwacSvGN6sXijcKD820ggaXjv4/aX4HuNf2+Htf8Q2Ph2ET65qOjQwSQ6aDH5gWQSTI8jeWQ5WFZCqspbGRXGeKvhX4o1L4GfFbw9baX5msa5rd9eafbfaIh50Ulwjo24ttXKgnDEEdxWB421LU/hnpPx2TRNPtfEtpqzTanPqceqWqQaHO2nRRyRX6NKsqALEkq+WkjMsgBC8E8spyjSv15L/9vWWj7Ja/gtzeEVKpZ7c1vld6ru7W/M94h8dDVvhlD4w0fTLy/S60tdTtNPHlJcSK8QkRDvkWMNgjOXA6814L4J/aM8X6pp3wS1C/0PWL668VaBf3V3oun29mZdQuI1tGjmjcyiOGILJMw8yWPggMN+1T7Z8MdDubH4J+FNHmXyryLw/a2rrINu1xbKpB64wa8r+C/wAOfF2ht8FU1jw7caSPCPhvUNE1J57q2kHnFbJY3j8qVy0cnkyEHAYBfmVcjPdOMY1qkeienp79/wD205qM3KnTm+qd/Wyt+p3cP7Q2gTeC4NcXTNY/tGfVn0CPw35Ef9pNqKOytbbfM8oMArOXMnlhBvLhea6PwH8SLPx1NqtkdO1DQdc0mRI9Q0XVkjFzbb13RsWieSJ0deQ0bsOCCQyso8F174B+Jr6G61aTS764m034gah4gi0vTNZOnXeoWFxAYCYLqGZDFIA5cK0kYbYUYqGzXpnwO8AzeHdZ8T+ILjw7qXh06ottawQ+INeuNY1RoYBIQZ5XuriNF3zSbI4nOASWOW2pjH3o3e7Sfo2otr5NtdfwbdyutF0bXraTX5JP/h9PXKKKKBhRRRQAUUUUAFFFFABRXht7+0J4ljbxzqFl8Phd+GfBmpTWWp3zavsuriOJEkkltLfyCJSiOSVeSPkYVmOcaWofHDWtZ1bX4fAfhGDxZp3h6OJtSvLrVvsLSySQJcLBaR+TJ50nlSIx8xoUy6jcfmKypJxUulk/k1dN9k/Mdnfl82vmnZrzt5eux7BRXi8H7TWl3+j+JtUsNKmvbSw8O2PiPS1jkPm6pFdCURxBNn7uTzYvKxluWHTpUUn7Uej22g6Xrc2mSvpc3hH/AISu+a1nEstqHaNILVU2jzJJXaZF5XmEgjni7NNx6r/7Z/8Atr+4S1V/66W9L3Vu57bRXlWi/FzxFY+INP0Xxt4Pt/Dd9q2nz32mNp2rHUIXaFVeW2mcwReVMFYMAokRgr4f5cHV+CfxE1z4reB9N8Val4ctvDenataQXunQpqRu7h4pE3ZmXyUWM8grtZ8g5O0/LRZu/l+t/wDJiutPP/gf5o9ArLvPC+jahr1hrd1pFhc61YI8dnqM1sj3FsrjDrHIRuQMOoBGe9eV638fNahHivWNC8GJrXg3wpcyWmq6k2qeTeSvBzdG0tRC4mEQyP3ksRZkcKDgFoT8ffEmveJPF1l4O8CQeI9K8NpbTy6lNrX2X7dFPaR3KLap5Dh5drkbHaNf9WfM+chZurc3lf5Nb+Sa27lcrb5f60ev3Pfse3UV5CPjvc+ML7RrD4c6DbeJ7y+0SDxDNJq+ovplva2k5IgDusEzmZyr4j2YAjcsw+UNUb9oa/1yLwZB4V8ItqOr+I5dQtns9X1D7Cmmz2TbLhJ3SKY4DCRQyK2SEwCG3LTTjo1/V7fmhf1+F/yPaaK8F+LH7TGo/CW21TV9U8M6VZeHNMm+zvNrXiD+z77UpFRXm/s22e3K3QVWwpMkZkZGAAGGObqfxu17wb8bPiLd65DFL4D0TwxpuoQQWl6z3BaaW5VDHAYVUyyuoQhpQFCRncdzBFvr0/4F/wAtu4PRXf8AWqX4X1Poys/VPD+m65JZyahYW95JZTfaLZ54wzQS7WXehP3W2swyOcMR3Neb6P8AF/xHp/iXT9D8ceD7Tw1eavp897pT6drJ1CKWSFQ81rMxgi8uYIwYbRIjBZMN8vzXvhH8SPFPxR8D6L4rl8J6domn6xFa3lpBLrTy3H2WRdzu6i2Cq4BUqgZgwb5mjPFOz6dLfi3b8n919hN2363/AOD+f6HfNptoqktGFA7lj/jUf2XTv70f/fz/AOvXM/GrxPdeCfhX4p8Q2KQy3ulaZdX0MdwCY2eKF3UMAQSuVGcEH3Fcf8P/AIyeG/iBNb2FheyNqj2K33ly2NxbxXEXyq0ttJKipcRBmUb4mdfmXn5hlx966XT/AIP+TFL3UpNaO/4W/wA0erfZdO/vR/8Afz/69QQaPotrPczwwW0U1yweeSMhWlYKFBYg/MQqgZPYAdq878PfFrwz4o8RnQrG5vU1JopLiFL7S7q0juokZVeS3lmiVJ0BdDuiZhhlOcEGpPDfxQ0DxdrM2m6S2pXbReYPto0e8SxfY21hHdtEIJMNkfI5zg4zg1Vttdybno/2XTv70f8A38/+vR9l07+9H/38/wDr15fp/wAZPCOqeJhoNtqcr3jXElnFO1jcJZT3EYO+CK7aMQSyrtfMaOWBRxjKNjkB+0BP/wALm/4QY6A5tsbRrgl/4l2/ztnlm4I/1+Pl8gIT5nyb8fMEtZRinrLb7rhJ8sXJ9N/yPf8A7Lp396P/AL+f/Xo+y6d/ej/7+f8A16+ffEn7Qk3h/wCNGn+Bv7Bae0uVcPrccubC3fdAES4nwBDL+8ZfK2uWaa0AYed8vaeJPjF4S8J64+k6nqU0V1CIzcyQ2NxNbWQkOIzczxxtFbhuo81k456c07XSlffYbdrprY73SvCfhjQZ7+fTdN0/TptQnN1eSWqLE1zMQAZJCuN74AG45PFaP2XTv70f/fz/AOvXnWrfFLwvoOoa3Zalqq6fcaPZJqN4tzDJGot2JAkjYriUbhtPlliGIU4JAOR4h+PXgrwvcSWuoX98t7FYxanNZW+j3txcwWsgcrNJDHCzxoPLYMzABDgNtLAFfP8Ar+k/uC+trf1/TX3nsC6baMoKxhge4Y/40v8AZdr/AM8v/Hj/AI1U8MXsGpaTFdWs8dzazgSwzRMGR0ZQVZSOCCDnPvWtSd07MatJXRlReFdIg1K41GPTrePULmOOGe7VAJZUQsUVn6sql3IBOBvbHU0+Tw5pk15DdvZRPdQqyRTsMvGrY3BW6gHauQOu0elaVFK7GVP7Ltf+eX/jx/xo/su1/wCeX/jx/wAat0UXYWKn9l2v/PL/AMeP+NH9l2v/ADy/8eP+NW6KLsLFT+y7X/nl/wCPH/Gj+y7X/nl/48f8at0UXYWKy6dbIrDyVIYFWDfMCD1HNLYWFtpVjb2VlbQ2dnbxrDDb26BI4kUYVVUcAAAAAcDFWKKQwooooAKKKKACiiigAooooAKKKKAOV1b4U+Cdf8T2/iTU/B2gaj4it2jeHV7vS4JbuJozmMrMylwVPIweO1dVRRR0sHmFFFFABRRRQAUUUUAFFFFABSHng8ilooAy7PwvpOnSXUlpp9vavdzG4uGgQIZpCApd8febCqMnnCj0qz/Zdr/zy/8AHj/jVuindisip/Zdr/zy/wDHj/jUF94b0zVLOa0vbKK7tJlKSwTjejqeoZTwR7GtKii7CyKn9l2v/PL/AMeP+NH9l2v/ADy/8eP+NW6KLsLFT+y7X/nl/wCPH/Gj+y7X/nl/48f8at0UXYWMPXvA/h/xVpr6drej2esae7K7Wl/Cs8TMrBlJR8gkMAQccEA1o/2Va/8APL/x4/41boouwsip/Zdr/wA8v/Hj/jR/Zdr/AM8v/Hj/AI1boouwsZ154f07ULSe1urSO5tZ0aKWGYb0kRhhlZTwQQSCDTrfQ7C0t44ILZIYYlCJHHlVRQMAADoAO1X6KAsZ2n+HtN0mERWVlDawq7SCOFdq7mYsxwOMliSfUkmtGiikGwUUUUDCqUui6fPq1vqslhbSapbxPbw3rQqZoo3Kl0V8bgrFEJAOCVXPQVdooAKKKKACiiigAooooAKKKKACiiigAooooAK5XWvhT4J8SeJLbxDq/g7QNV1+1MZg1W90yCa6i2Hcm2VlLLtPIweD0rqqKOtw8gooooAKKKKACiiigAooooAKKKKACiiigD5Y8K6B488at8bfC+kS6JF4b1rxTfWE+pXVxNFe6aklvAszRRJEy3BKMSu6SLa3UsMAd1F8LvG3w71jxTF4BbQbrRfEnkysdcup4ptJuEtYrUyoiRSC6Uxwxt5bNCdykbyGyvttFTGKUFD+6ovzSSX3aX8u47vmcvNteTbv/wADz7Hgtx+zXcaXqXwlg0TUbf8AsTwrZx6brAvFImv7eBobi3ZFVdocXNvG5yQArP14FZmh/sp3U3gj4peHPEOtQ3Efie6eHSZokMwsdPSaS4tIZEYKH2SzS7lHBUgbu4+jaKuTck09nf8AFpv8vzFta3S34bX7/wDAXY8B+HPwFu9F8RR6vc+BPht4FltdNmtR/wAIdYxyTX1xKoUyNM1pC9vGoDYjQuW8z5nwmG9P+D/hC8+H/wAJ/BnhjUZYJr/RdHtNPuJLVmaJpIoVRihYAlSVOMgHHYV19FPmdmu9vwv/APJMVl/Xy/yR4Rqnwk8eadp/jjwn4dutBPhTxbeXd2dVv7iZb7SftZJukS3ETR3PLO6EyxYL4IYLluS8F6P440f4qfGPw94Gj0F9HSTS7BX1i4mgk09hpVuizoscTi4+QD90Wh5jGHG47fqSis+VWcXs1b5LZfJX89b3uXzPm5uur+bd2/m0vLysfNetfsm2Gi6r4fv9J8JeEPiFDYeH7Xw7Lp3jobQiWxYxXEM/2a4KufMcOnl4bKEMuzDdj4L+CV/4Rv8A4cyo+ixQeH4tUN7DpVgmnweZdlWC28ESBQiEFcsdxABYsxY17HRWjk3e/V3/ADf5v+kRZaf1srfl/Vz5X8ffs0+MtYs/ilp2h6b4I/tDxk95t8calJL/AGtHazop+xPEtucxqUESss4CoFfy2ZdrdT4w+APiLxb4k8RO19p1np3iLwzp2lT3sU8huNOvLOWaaKWOLy9s8ZeVc5kiICHrnj3+ipWkVFbJJfcml+f69xy953fr97Tf4r9Dx218A+OvG3ivRdd8bx+HtKbQLC6hs7PQrua7W6u7iIRPcO8sERhRUDBYlEn+tJL/ACgHqPhf4V1r4dfCXwJ4YeOwv9Q0fTbHTb6Rbl44gIolSWSI+WS5yuVVgme5Wu6op3tdLrb8L/5v8layF+l/xt/kv1OL+M3he48bfC/xP4etJY4LnVtNubGKWbOxGlhdFZsAnALDOK8v8O+BfGepeINK1rxCdH0C60PRbjSdOh0i8l1FZJJ/J3XErSQwYC/Z0xGFbOSSw4FfQbKGUhgGB7GovskH/PGP/vgUJb+f/BX5N/8AD2Bt6eX62/yX/DXPlj4Y/BLxrovjzwt4j8S3sE02k2VzbXsjeJ9S1Zr6aVEBnSO4RIrbLISY4kwA3DYULW94B+GPiTw58Ql1OKx0/wAIeHf9Ke50nSfEd5qVtevK25StpNBFDaEPukLQ8sWYHO4mvon7JB/zxj/74FH2SD/njH/3wKu+t/61/rbb5GfLdNed/u/r1PljwX+z7qPhfxJplvf6fHrmh6ZqTX1pqU/jbV1ePDtJE39lsr229CwXiQKcFgFzsHvv2SD7V9q8mP7Ts8vztg37M527uuM84rqvskH/ADxj/wC+BR9kg/54x/8AfApR92Kiun+VvyG1duT6/wDDnKNZ28l3HdNBG11GjRpMUBdEYqWUN1AJRSR32j0FeC+OP2f9S1bxl4qvYLGPxHofiaWOe8srrxrq2iLERBHBJGYLVZIp0ZIlOWCnkqdwxj6l+yQf88Y/++BR9kg/54x/98Cn1uPVbHzv8Svg/r3xC8RQagk+kadF4ahjm8Lh0NwXvQyOz3m5BiEGKNBGjN/z1yJEi8vnGbxzffHLxvaaPpfh9NQvfCuixahPeapOI7CRpNQG6FVtibkKSxwxg3bQMruJX6r+yQf88Y/++BR9kg/54x/98Ci94uD2f67/AH/orWHqtulrfJp/p+LOR+HPhy58D+DvDHhywWO+0/TbaOwmu7qdkmEcUARHVQjB2ZlGQWXAJOTjB7SkVQqgKAoHYUtKcnOTlLdhGKjFRWyCiiioKCiiigAooooAKKKKACiiigAooooAKKKKACiiigAooooAKKKKACiiigAooooAKKKKACiiigAooooAKKKKACiiigAooooAKKKKACiiigAooooAKKKKACiiigAooooAKKKKACiiigAooooAKKKKACiiigAooooAKKKKACiiigAooooAKKKKACiiigAooooAKKKKAP/Z)"
   ]
  },
  {
   "cell_type": "markdown",
   "id": "f1afd400-515e-432b-aa4b-d264274ef7ae",
   "metadata": {},
   "source": [
    "2. What is the result of this code ?\n",
    "\n",
    "    pow(6, 2, mod=5)"
   ]
  },
  {
   "cell_type": "markdown",
   "id": "e1f2794e-13e5-4bc2-a320-e3ab8e23e715",
   "metadata": {},
   "source": [
    "# <font color='Blue' size=\"5.5\"> II. List, Tuple and Set </font>"
   ]
  },
  {
   "cell_type": "markdown",
   "id": "096aedb1-023c-42cb-9bbe-3d6e46a7a61f",
   "metadata": {},
   "source": [
    "## 1. List\n",
    "\n",
    "Lists are used to store multiple items in a single variable.\n",
    "\n",
    "Lists are one of 4 built-in data types in Python used to store collections of data, the other 3 are Tuple, Set, and Dictionary, all with different qualities and usage.\n",
    "\n",
    "Lists are created using square brackets:"
   ]
  },
  {
   "cell_type": "code",
   "execution_count": null,
   "id": "9dfac54c-98e4-419f-a513-eb812a1f89fb",
   "metadata": {},
   "outputs": [],
   "source": [
    "mylist = [\"apple\", \"banana\", \"cherry\"]\n",
    "\n",
    "print(mylist)"
   ]
  },
  {
   "cell_type": "markdown",
   "id": "f6188b38-6803-4c68-9cac-b63baa7d6dbe",
   "metadata": {},
   "source": [
    "## List Items\n",
    "\n",
    "List items are ordered, changeable, and allow duplicate values.\n",
    "\n",
    "List items are indexed, the first item has index [0], the second item has index [1] etc."
   ]
  },
  {
   "cell_type": "code",
   "execution_count": null,
   "id": "7ab8a721-d9e5-4fa3-8e3b-b35fef614d28",
   "metadata": {},
   "outputs": [],
   "source": [
    "mylist[0]"
   ]
  },
  {
   "cell_type": "markdown",
   "id": "366fa307-4857-44f5-9d2d-8d7fcd4f9154",
   "metadata": {},
   "source": [
    "## Changeable\n",
    "\n",
    "The list is changeable, meaning that we can change, add, and remove items in a list after it has been created."
   ]
  },
  {
   "cell_type": "code",
   "execution_count": null,
   "id": "b9dd9314-ab7b-40b0-bf84-cb98d08795e8",
   "metadata": {},
   "outputs": [],
   "source": [
    "mylist[0] = \"kiwi\"\n",
    "\n",
    "print(mylist)"
   ]
  },
  {
   "cell_type": "code",
   "execution_count": null,
   "id": "577343db-5c38-4124-9b9c-dcec3ca18ab5",
   "metadata": {},
   "outputs": [],
   "source": [
    "mylist.remove(\"banana\")\n",
    "\n",
    "print(mylist)"
   ]
  },
  {
   "cell_type": "markdown",
   "id": "0e7cf274-de77-46d4-8e87-b81ab665e915",
   "metadata": {},
   "source": [
    "## Allow Duplicates\n",
    "\n",
    "Since lists are indexed, lists can have items with the same value:\n"
   ]
  },
  {
   "cell_type": "code",
   "execution_count": null,
   "id": "fd9796e8-5d79-4232-98bf-3f90e6356f72",
   "metadata": {},
   "outputs": [],
   "source": [
    "thislist = [\"apple\", \"banana\", \"cherry\", \"apple\", \"cherry\"]\n",
    "print(thislist)"
   ]
  },
  {
   "cell_type": "markdown",
   "id": "ab936923-ef95-4b8e-945e-c73063e857e4",
   "metadata": {},
   "source": [
    "## List Items - Data Types\n",
    "\n",
    "List items can be of any data type\n",
    "\n",
    "A list can contain different data types"
   ]
  },
  {
   "cell_type": "code",
   "execution_count": null,
   "id": "1f45e215-037d-46f6-a167-74e20b4a2b28",
   "metadata": {},
   "outputs": [],
   "source": [
    "list1 = [\"abc\", 34, True, 40, \"male\"]\n",
    "\n",
    "list1[2]"
   ]
  },
  {
   "cell_type": "markdown",
   "id": "2bb921df-0bc0-4663-9d6b-15bb3ae28303",
   "metadata": {},
   "source": [
    "## 2. Tuple\n",
    "\n",
    "Tuples are used to store multiple items in a single variable.\n",
    "\n",
    "A tuple is a collection which is ordered and unchangeable.\n",
    "\n",
    "Tuples are faster than lists"
   ]
  },
  {
   "cell_type": "code",
   "execution_count": null,
   "id": "074fdc94-e3b3-413f-9ece-7f306f478eee",
   "metadata": {},
   "outputs": [],
   "source": [
    "thistuple = (\"apple\", \"banana\", \"cherry\")\n",
    "print(thistuple)"
   ]
  },
  {
   "cell_type": "markdown",
   "id": "85cbfb28-19b9-48f3-b606-9f180cd634b5",
   "metadata": {},
   "source": [
    "## Tuple Items\n",
    "\n",
    "Tuple items are ordered, unchangeable, and allow duplicate values."
   ]
  },
  {
   "cell_type": "markdown",
   "id": "8275fe2a-2f51-4333-b836-56ba96bc43ed",
   "metadata": {
    "tags": []
   },
   "source": [
    "## Ordered\n",
    " we say that tuples are ordered, it means that the items have a defined order, and that order will not change."
   ]
  },
  {
   "cell_type": "code",
   "execution_count": null,
   "id": "58b79951-94bb-436a-8475-82e157acb868",
   "metadata": {},
   "outputs": [],
   "source": [
    "thistuple[0]"
   ]
  },
  {
   "cell_type": "markdown",
   "id": "ed5437ff-ae92-45db-ad45-d96374871aec",
   "metadata": {
    "tags": []
   },
   "source": [
    "## Unchangeable\n",
    "Tuples are unchangeable, meaning that we cannot change, add or remove items after the tuple has been created."
   ]
  },
  {
   "cell_type": "code",
   "execution_count": null,
   "id": "65918550-0c97-441e-a16f-4dac0c76157d",
   "metadata": {},
   "outputs": [],
   "source": [
    "thistuple[0] = \"kiwi\""
   ]
  },
  {
   "cell_type": "markdown",
   "id": "a52fb9ce-9a11-4298-9c0d-51857f3b57a7",
   "metadata": {},
   "source": [
    "## Allow Duplicates\n",
    "Since tuples are indexed, they can have items with the same value:"
   ]
  },
  {
   "cell_type": "code",
   "execution_count": null,
   "id": "256cc2dd-d249-4fa8-9c63-5744a7d06122",
   "metadata": {},
   "outputs": [],
   "source": [
    "thistuple = (\"apple\", \"banana\", \"cherry\", \"apple\", \"cherry\")\n",
    "print(thistuple)"
   ]
  },
  {
   "cell_type": "markdown",
   "id": "5284709c-2cc3-4e7e-b922-5e90cf393e2f",
   "metadata": {},
   "source": [
    "## 3. Set\n",
    "\n",
    "Sets are used to store multiple items in a single variable.\n",
    "\n",
    "A set is a collection which is unordered, unchangeable*, and unindexed.\n",
    "\n",
    "(*) Set items are unchangeable, but you can remove items and add new items."
   ]
  },
  {
   "cell_type": "markdown",
   "id": "7d9e19ea-a912-494d-8d16-2b8a9ccd61e9",
   "metadata": {},
   "source": [
    "## Duplicates Not Allowed"
   ]
  },
  {
   "cell_type": "code",
   "execution_count": 24,
   "id": "47c35a1e-3118-4a93-b2fe-3defd836348f",
   "metadata": {},
   "outputs": [
    {
     "name": "stdout",
     "output_type": "stream",
     "text": [
      "{'apple', 'cherry', 'banana'}\n"
     ]
    }
   ],
   "source": [
    "thisset = {\"apple\", \"banana\", \"cherry\", \"apple\"}\n",
    "\n",
    "print(thisset)"
   ]
  },
  {
   "cell_type": "markdown",
   "id": "f9f8f8af-b2a8-4467-b94a-315dbaf68fbd",
   "metadata": {},
   "source": [
    "## Difference Between List, Tuple and Set"
   ]
  },
  {
   "cell_type": "markdown",
   "id": "44ea1e04-6362-49c2-8f22-dc4642c1dd03",
   "metadata": {},
   "source": [
    "![3](data:image/png;base64,iVBORw0KGgoAAAANSUhEUgAAAjcAAAEhCAYAAACDT4G1AAAACXBIWXMAAAsTAAALEwEAmpwYAAAgAElEQVR4nOydd3xURfeHn7l3N5ue0CF0KSIdFUSwgQ0LKmIvqD9FsSMqr13gtffeUVBfO2IXULEA9kJHRBDpnRBI3d17fn/sJtmEbEhC2u6eh88qbG7unXvP3JnvOTNzxoiIoCiKoiiKEiVYdV0ARVEURVGU6kTFjaIoiqIoUYWKG0VRFEVRogoVN4qiKIqiRBUqbhRFURRFiSpU3CiKoiiKElWouFEURVEUJapw1XUBYg1jTF0XQVEURVGihrLS9am4qQM0b2LkYoxR+0Uwar/oRW0bm4QLGOiwlKIoiqIoUYWKG0VRFEVRogoVN4qiKIqiRBUqbhRFUWqbgplc0dLGGENcnwks8NfoxZg+sim2MZi4ftz3Z41erMLIphc5Nt7C2C0Y9UVBXRennhLOdvXTpvUJFTeKoiglyOf9s5OxjMG4OnL99966LlBU4l00l0VeAXc3enVz13FpQmxe9LGwXB6SG7Wm64ChXDJuEnPW5tdxOesShw1fP8uE8ffzwV/1X0ypuFEURYlq4jjyib/Ztn072zfP5LrOdl0XCHBYN28Bmx2wM3rSo0l9TJEhiL+A7G1rWPLDJ0wcfxGH7ncAF0xaTG5dF60ubOqs4p1x1zFu/P1M/ctX89fbS3QpuKIoSpTjSkglLaGuSxFKAQvnLsaHwdOtF13rU09kteDUh15k5H424s1my6oFfPveK7zx7Spydy7itZFD8CX9yGunZ9RpdKC2beqsnMq7PxUgJNbeRfcCjdwoiqJUiDymnJmEZQxW6rl8kLuVH566hEH7NiUlPpHGHQ/nkmd+IbNEqhVh28/PcNng/WiWHE9S404cOuIBvlrvJ1w+T2fLL7x843AO7tSM1HgPSY33od+wsbw6bweBUzusf/ccWrkMxnLT4Yov2FF0zRx+vLknHstg7IYc/fQyfGHnZ1Tlfhy2/PAUlw7uQrNkD/Fpbeh7xn+ZsWoZjx7qwRiDu+st/Lonx96/gnkLsnCwad+rB6n1KXBjEml30DEMGTKE44YO5/wrx/HSzPl8e/cgGlogvtW8feNdzMwGnFU8cXjgvq2Uc5gaOmpV5ryqPKacFXjmJv5EXlm1kP9dP5Q+rdOJj0uiaZfBXPHi7yH2DEf5c24kayFv33Euh3fNID0hjvi0lnQ78iLu+3RFqaiTkDn3NW4+4xC6ZKSREOchqUkHDjp1LK/PzwrUN2ctzxzpwe4whtn5ArKdV4fGY6yGXPBJ8Q3vud7WMqLUKvrIIxu1X2RTMfvlyZSzksSAYHeQMXMKgt/ny6cXNRILBM/RMmZsf0l2JUqDhsniNgggWE1k2KtrxF/4G/MflEPTrMDPjBF3crqkxFmS2HOQDGga+N7de7zM9wWOdzZ8JJfuGy8GxLgbSoc+B0iXpoF/W2n9ZfxP2cEDN8oHF7QR2yDGvZ9cP2tXoOR/TJADE4yAJY1PeElW+ALlnnZJk0C53X3l3iW+qt/P3Hvl4FQT+BlG7IRkSXRZktDzZDm+o0sAcfW8U+Z69/CIs96W05KNYFLkjHd2VsAme2bv3s1wNg/Bv0weOSQhcIzVRC74OFvE/688flicAGKSz5b380KOz/9KLs8obeN8+eTChoFzuDrLgP7NJLF5DznksD7SKjH4XK3GcsKLK4LPPLztyv5exNk2U8b2SQlcAyO2J148timy51GPzZfCYu764Q45MDnwM5PQVDru114axgX+baUfIY8u9oo462XyGe2lRboncE5jSWKjltKyVVcZ/UV+4JoVrbc1QDi7a+RGURSlgth2sMks+Jqn3m7FY/M3sXXrZhZPHE6GDThb+PSFd/nXAWQ7H9x1L3N2OGBSGXjHLNZlbidz489MaLGQHzc5pc6+k2m3XcHEpXng7sY105ex7PdfWbJ8Dv8dmIzs+In7xjzLX37ANOWkh5/l/9q7wPsnT199P7/uXMJT1zzAb7mC1fwUHn3uItrvYSpG5e5nG1PveoAfswRMEn3HzmD1jp1kbZjD7Y1nMe3vQLjGWBbWHiIxvqVzWZgn4OpMr+71arwsPNY+nDysD24AZzu//7KMqsw8sW0bA+Bbxu/5FzLjz3nM+vZ3ls65i4FJBpwtTLvrEb7Lq0ohc5k94VIembsTsdI5bPws1u/KZefar7j5oGSMs5mvbh3NSysdkPW8NeERftsl4OrJzd+tZNni5fz9wSW0s8HJ/I6HnvyWfNOcEW//zc93DQjcO2mcNmk5a1Yv4tGj4qhUva1FVNwoiqJUGjeHjn2Ei/ZLwhBPx/NGc2YbGxB8Sxfxlw/Im82nX2biAFbzM7n9PwNpbIOVfgDX3nc53UrPM8mZyRvvr8UPuA68kKsObxjoBJP356qrjiXZCLk/v8PUvwO9hGl0HA88dxkd3ZA372EuPPocJszZhditOOvJpzm3VWWa94rczxw+m5mJAFbT07nj9qNo4Qa7UX9ueGAUXSo8b0bIXDCPlX6wUrvTa08KrN5gkdGuDW4D4LBl02ZKy9OKUDQcaZI45robGJAW+CKx9xVceWwyBvCv/ZLpC6ognfK+ZfKbK/AJ2K3OY9zYgTRxgbvZIG59+L9ccuEFjDi9A751eUACh976ATO++IIvv3qTMQckAIYGRxxDv3gDOGz+80827+kmK1lva4v6NI1LURQlMrDb079/i2Lv0G5D+zY2/ONHcrPJEXDWL2P5rkDP4O7ahx7xxb/u2u8gDkyzWLC1uOfw/7OQxTuDs2pW/I+rTvqmqIGWbYsDUQLfEv5YkAf7JgGG9KPu4cWrZnLMY0tY9NNcMDbtLniGx4c3p1LTWCp8P4Hyubr1pU/IvFJ39wH0S7VYvK0i3b2PRX8sxCvg6tqbbnGVKWjdIn5fUNAYXC5X5Z5xaewO7N8rPeQcyezbtQ32+4vw+VexfKUX+lZO+PlXzmV+0Aau7gfQy1P8s6SBo3lhYOjRiXQeeARN//yaT7/4kMenTSbX60d8y1lYqKsK8tlTBqLK19vaQcWNoihKZTFJJCeGdm02dql+SHKyyZbCw1NIDj3cSiYl2cDWkOOzdxYd7984l+mfzi3jwgVs3ZKFkBToFE0q/c85hU5PLmGRD7AyOPK0w2hc2V63kvdjJaeSEhoYslJITTGwrQLXcjawYMEG/Fg079GTjIgZP/CzYmkgKgIWGa33crWUlURyUugZDAkJ8QG7ip+cnDyEyokBycokSwLnspKTSSyvHsgO5tx1EsMmzGKzr+pTfqtUb2uBiKlWiqIokYRJTCrqXCR7J7tC+w8ni8ysklEOk5JaJIDih73BThFkt08eX4xqUdxBFMzn0WueYHGhp+1fw6tjbmfmnpfbVP5+EhIrdT9h8S5i7iIfGDfdenWjrtP3VRjvQt6bsiAQibBbcfCAdtiEDDM5fvwlnkk2u3LKsYOTyfYdoc/MYUdmViAyZFwkJcVXWgiY5EIRLTg7s0raqBT+hY9z1X9nsdkH8X2u49PlOyhwBMmbyjkpFb9yleptLaDiRqkDKps6XFONVxu1mvZ/L4iUcpaD1aIjHZICzbl30W/MC1mDWzB3Fj/tLNnz2G170C010CT7/lzI0tApF3k72Lozv9Qcj3zmPngpd/2YDe7OjHrkevrEg/evZ7ns5i/YXs36xmrRgfaJhffzK3Nzin/mnT+HX3ZW7IL+lfNYkOmA1ZqePRrWaodXZWQHP959OQ/P8yIY4rqP4IKD4sAkkJgQuAPxrmblmmILeRf+EJisGw7/Cn74YX2xTZ31/PrLqsC/7fbs26Hyss9u17O4Di34hbkhk5Jzv76Fw/r0pnfvvlz42moyf/+ZJV4BXHQ7bSTH7pOK24B/+SKW5gXLLVLGMm4/TkhFrHy9rR1U3EQspdKFW2kM+9/WMipiJu+c2SDkuETOnLI3KcQjKwV3vadgHXNevp0Lh/SlY/M04t0u4pIa0rrboQy/+iE+XJxVNzkilL0nfiBDBqViAGfjO0y451s2+cC3eTb3j32RZaXniyYewVnDWmADvqUvcccz89gpQO7fTBrRnWapCXgan8KktYGuIu/3+7n0np/JFpu2FzzGPaPH88SVXXDjY/mLl/Ofaduqt+4kDGTI4SnB+3mbceOmsyZf8G78jntvfL5kp1YOeQvn8qcPjKcbvfarh3EbyWHlTzOYNm0a0z7/hCmvPMg1xx3AkRN+YKeA8XThikevo5cbMOns2yUDG8D3Ky8/OoONfnC2/ciDY19iWXnSTfL59oEbmLxkFyI5LHvzFh6ZXYAAdvshHLfbjPMKkDiY889ojQ34177B+Ptns9kHvk2zuP/OZ5gzdx7zl1rsd2AGnsTE4ORoP+v+XMoOAdk1n6dvfIr5jhWY2LxpPRt9UGKOkeQwd/bv7BIQodL1ttaoscXnSplU3yMPycsQzGeQfvpbst0pdVjWVDmvUTDPBggmQc54L6/MM1YI/z/y+GEeMaaBjPi4qucJn6Oheo6vOarzlSn45z25vE9a4L7CfExcazn+gR92t2tVKTP3Rj2khspZMfuFz3MTth7618jTg3fPd5L76zg5MKk4L4wrIVkSXJak9DtFjm1jB/LCdL9d/gjmhfGve1/+r2NhPhFbEhs1l8ZJrkD+EKuxHPXYgkCOkpxf5I4DAjlXrBZny7sbAxXEyZwuo/ZxicGI3e7/5KPNTjnlrsL9/HyH7J9YfD/G5Ra3ZSSl74kyOMOugL288vtt3cQF4upxR9F9Vwd7926Wbk/L/lipPeXSt5ZLfshvFsz9bzC3UCCXkSetsaTH29LspFvkiv3dARv3KLRx6DPvKkcf1VZclkeSkj1iB3MLGTtDznhzTdXz3Gz+XK7qlliU58aVkCTxRXluGsrh9/8m2SLibHhDTmtSmIMpXpp07CJt092S0OM6eeK6HuICwcRJ406D5a4fC6Rg9nWyj13Yj9gSn5QuRz+1WvxSiXpbA4Szu0ZuogATn0C8EbK++pCZO0v+LGfWx3yx3Qkes/fXKk7BrewNkvUNN514Hs/9sQMHQ0LbQVwy/ikmv/U2b7z0IDec2oMGtkEKVvPZTUM5+/mK5NRw8PnryjJ1ee36S/wBt/Hhh3dxVt/WpMbZuBKbc+B5D/HpB//l0CaB5ldyc8gtnKjbYhgvzPmaZ0efxIHt0iFrC1l2E7oOuoC7PvyRj6/tjoccfr57JA/8notYjTnhnvs5tWng5TZpRzPhobPJsAX/yslcOeYDNlWjWeL73sEnH93D2f3akOax8aS1pf+Ih/l06mj2K+xNbFf4lSqSxYJ5K/BjSOrei071fUmLMbji02nV7XDOvPE5vlr4E8+fuQ+hC7zcvW7i/Sl3cGqflqS44/AktWDA5ZOZ+b/L6ZYeHLLKzS2ycTHJDH5wGm/ddDxdGsTjjksho+eJXP/6l7xyVssqD6uYxkN4YtZsJv3ndAZ0bkqC48WktqTnMRdz74c/8/nY/UkETLOzeO7DR7hgYHsaxDlkZ/ppO+x+pn35EFdeP4FRBzUnwTb4HQ9JCQb3gJt44bbj2behB1dcAinN9qVb2wQMFa23tUwNiSklDNX3yIs9DVeXQ2VgMyuQNfOj0GyfufLFqJZiYUmz/gOkk6tU5KYy2TULij25Ep8SERxHtv/xqtx0+kDZt0WqxLvjJLHxPtJv2I3y2rwdUhx8CPU6+sl9C/+VL+45W/q3S5f4uERp3PkIuey5X0OiFeVHbvybf5aJN5wq/Ts2lRRPnCQ2ai99T7lRJs/NlOoKeBRSPfbzyoK7DhCPCXhWyf1vkznbSpc0X5ZNGi6tgp6S1fh0eXNT4TG58u4ZAc/MpJ4rU9fPkruP6yhp7jjZ/65FEng6jmz96Wm5dFAXaZrkkcRGHeWQ8++XL1fOkCtalh0RqdhzrMi1K2OTypdzb9Amr7ooVV8z/yfDko2AkYTjX5bN1f3iVYDIsG39iUJHC+HsHgm1IaqoEXGz75Vy8xkNxcKS5pd8LjmFh+R/J9e2swXTQE674VLpYO+FuPHuOQV3hVJ5B04e8oL3ltPP6iEJxhK32y4OC1uN5bgXlu8hNFv7ab+rxX7e3+TWroFU9bi6yS2/5Jd9nLNeJp2UFnzeiXLcSxuCXUpICnfPMXLFZV3EZRBwFwmMGkv7X4FrV8YmlS3n3hIZHWB9JV++nzBIurZrJmmJbeXs11cEhhr82+XHcQMk2QTq6eGPLy/arqE2iQzbqripblTc1BNqQtzY+4yWD186SZINYrUcJV/kBo4o+OFG6WQjJukEef69q6Xt3ogbn4iIX1Y/NUjidovYiIizTl46Ljm4Z0pPueWXHBFxZNtnI6WdjYAlLS//MjjuGvKCGyOu1qfKs39sF5+zS5a9fbHsGxREdpurZGZuqeNLNAhZ8tklrcQGMe5ucu3MrYHOf+dvctfAZDEYSRj4kCytxvajOuznbHxBjvEERJyr81j5Mey8A0e2vHKCJJjA82s2cnpwrD9fPr+48PklSFKzg+Sa12fL/EV/yPx/d4njbJO3z2gY/HmqDLxztmz2ifi3/yoPHdukaI5PsV0r8xz3cO3KnKvS5dx7IqMDrL/k/nZ38d5SJk7SMtpLuyaJYgXraPrAu+TnXXVTtsiwrYqb6iac3XXOTTQghgZHHs/B8QZnw+d89FMB4GPBJ5/xj9/g6X8CRzeq6QWXVU3l7eHQ/zzKpb3TsU0SHU+/mxuPDIzj+td9wYzyUpDX07Tfe8LZvLHoOdit29E6bBJSQ2rbdjSyABx2bNhYtKNvUW4N8bHv1RN55NyB9Ojamx5tkjA1nfa/vGtX5lyVLadS58TvfzPTv3+LO84bRPeWieRvWsXa7Hha9zqG/7v7fX6acSt9ay8JraKERZuPKMFqcTwn9/fw5ddr+OzjX3n4kFQ+/fQvfMbDIaecQAvrz5otgEmvWipvuwMDDg7J9Gka0at3W+zPl+Dzr+Lvfwqgb9nVtL6m/d4jxiq6X3EcHIFwK0ZFnMBySwDb3n2Sod2aI47oTKg+qtm0/yFLd8u4dmXO5bgrV06lPmBI6XYG4187g/F1XZSIJI5jX9yE/8W6Lkf0o+ImWrBacsLJfbn+m1n8O30a8y9J5fPFXkzcQZx8Qivs1TV8/aqm8rZSaZBWMgV5UnJiMJ+CQ25uPhKmmtbXtN97wmqWQXPbgFfw/7OMf/xQ9h6Hwo6VK9kqADZNWmUQX/oQqwGNGpb85ZpN+9+o/GtX4lxOJcupKIpSUXRYKmqwaHPiyRzgNvj++popr89grtfg3v9kTmwT3sxVTh1eiiqn8nZ2kbUz1DsXdmbtCiw1Ny6SksOnIK+vab/3hEnvS//9AoLNv/pj3vs+p+wDZSOfTp1DvgAmhf6H9i4jVb2FVermaiXtf7hrV+JcViXLqSiKUlFU3EQRVruhnNTbBd6fefrJ2eSJi14nDaV9uDkde5M6vEQKbiGrqqm8/cv56ZfNxd/LJv74fRV+2GMK8vqa9nuP2F04a0T/QMfu/4cXrr6ZGZtKl7SA5a9eze2fBzIU263O4OLj0yt0+ppP+1/OrVXiXJUtZ/QTbpuR6th+RLcwqXn0GdcnVNxEE3YHhp7UE7cUkJWVi7h7cNLQjoSfr1rZ1OHhUnAb3JVK5U3xPBLJ5av7xvK/v3IQ8ljx7q089E0eArj2OY7jy5tVWl/Tfu8Rm46XPsyNByRhEPIWPMnQPodx0binee2dd3nr5UcYe3o/+l08hTV+MHZrznjoTo5OruDpazjtf7lU5lyVLWcEIjv/5IMHrmDYId1o0zglsL1GYjotOh3IkAvv4LXft9ZPAR7zlNreprxP3P7ctTDWhEwEbMNTCyu1lBCq75GHLAVvf53MDmaI980bJ71cwWXGPe+UucFlxgXfXrP7UnCpbOpwCZuC21epVN67inOluLvLkCHtxW15JLlECvKWcuaba/eY56a2035X5yvjW/upXH9Qw6J7LutjEjvLWc/Pl5Kra/e8nLTG0v5X4NqVsUlly7m31GaT51//oVzaJaHclP7G00ku/mD9Huu5N2eHZG7fLtszd0peFZPIVMc56jPVa9uKbccACO4+8t8FPompZd7Vsg1P9RDO7hq5iTLsricxtIsLcNF56El7XE5b2dTh4VJwW5VK5S3k5Qa3q7XacubLM3jnlhPYN5iCvEXPE7n+9S94+ayMPYYW62Xa7wpiZxzPQ7MWM2fSHVx47AHs0zSZONvGndiQNj2O4Mzrn2Lagj9489IeVHatV82k/a8YlTlXZcsZORTwwwNjmPhnLmLi6Hj6w3zy69+s2bCefxd/x+s3HkYTCyR/GZOuf4Dv97CXrSshlbT0dNLTkvFUsdWujnPEJFYLTn3kEz7//POyP588xTntYuuBRsQ2PLUssmIefeSRjdovsqk1+/lXyZNHBLcr8Rwpz64rtR+Bs17eGjVIjh52noy68RmZvaWKG1yKiLNjgbx1+zly2H4tJC3eLZ7UDOk6+EK595PlxdnKw54jV94r3E4j5RyZmrNFvn/yYjmicxNJ9iRIow6HycVP/1xq41a/bP7+SRk5aF9pmhQnntTWcuDpE2T6v3/JI4cE7tm1383ySzVuilkRqte24TZPLY/q2CamlD12rpJPbz9ZemWkiCe+gXQ47FKZOG+XiLNZvr3vdNm/ZYrEeVKlTb/z5Ymfdt9upkrXLK8O+CuyDU+e/PvFIzLq+ANlnybJEudyS0J6K+kx+AL579SlUr054zVDcb1BO8fIRu0X2dSa/ZytMvnE4JCU3UrOeWu17Lmvr8IO0Ntmytg+KUU7QNueePEU7QDdRI56bP4ehhPz5dOLGgW+9xwtY8b2l2RXojRomCzuwuFSq4kMe3VN0ZYK+XPvLc5SjBE7IVkSXZYk9DxZju/o2m1IvLaoz+KmMtubFNvjKLnqql4S706W1ES7yMbuLmNk8gNHSKqdIKkpnqKhMyvjfJm61dnLa+6hDjh72obHL+vePltauQL7jNmJjaV1uzbSLDkwLI3VSI58YnEF3oWKo+KmnqCdY2Sj9otsas9+flnzylBpYBXOIUuTzkeNkBvuf0mmfrdI1ueUtbNkZcVNjnw3umNgby8rXQ4bP1s2eUUKNsyUmw8KbIVikgbLU//4K3Zu45K4tqfJS4t3iSO5suzl4ZJhBzrUuEMelRV+EXG2ylunNQh2bEnSd+wXsq5AxLflB7lncMMa2TKjotSYuLEy5LTHp8kXX3xRxudLmb00s2jPt73fJibUHrYkdL9cPllXIP6tM+Xaru7gc3dJXJNBcv+vWeLkr5CJJxcenyzD/rctWJaqXrMCdaC8bXj8K+TRQ+LEYCSu/39lfqF+ylsuk05rIZaxJbHL9fJtNU7TUXFTT9DOMbJR+0U2tWo//3qZfuuR0spjSoXxjRhPE+k6eITc8fpvsqVIBFRS3OR+Lhc3s0rtwxZg1+xHZeSFF8gFF46Ux+ZkV+zcJkGOfHpV8aaXBbPkuvaBSd1Wk0tkWr6I5HwkIxoGN8NtdqF8vLP4mgW/3iJdXVEobsr92NJu9CwJxHXCPOPsD+S84DNzH/ygLAuZzJ355nBJMQjufnLfn6UmJZtkGTp5U1Cs+GT++F7iLrzmNd8WTcrP/uA8aWAQcEmP2/8IREWqfM0K1IHyxI33D7m9uysQYep2pXzyb07R8Jc/e7tsy6n+ShHO7pqhWFEUpSawmnPMXV+y7Iqf+XTKh0z76ltm//gHyzbl4M/fzOKZrzLh6zeZ9OFEvnnz/PD5qMLgXzmX+dsCC8ld3Q+gV8iM76SBo3lhYOjRu218sjt2e/r3b1E8id9uQ/s2NvzjR3KzyZHCrT0C00hd3frSJ7H4193dB9Av1WLxNl3cHkrVtzdpR+8eDYIJOSxatMrAYh7gomvvbsQFD4vLaElTG7b7hNzcQBqNql9zz3WgXFz7cvTR7bl30TK8i55m6D6TaN7lAA46eCCHHzmEk044hAaVfoJVQ8WNoihKDRKf0Y/hV/dj+NUAXjKX/8KXU57n7ntfZ26ml1VTbmT8Z6cwaWjl1vVJViZZgVTeWMnJRdmeq4xJIrnESWzsUoIrdGsPKzmVlNBFQlYKqSkGtu1lOeobdgfGfLeEhweETyhaHlXe3iQkySqAXWQMQ0JiQnEWMssOyWUme3nNPdeB8kng0Ls/5JX8kfzn5e9Zl5fN+kXf8cGi7/jgpfu4oeEBjHrxPR47tW2Ni4/YWr+mKIpSa/jJ3rCclVtCsxG6Se8wgNPGTuKLJ4aSYgBnKz//sJTK5iw0yYX7cQnOzizKTSheTZiERN0yo5LUxTYxdbo1TcJ+nPf0bP7dsIzvP3iJ+8ZezCkHtyPFAv+2X3nmoiuYXAuJVVXcKIqiVDN534ylV+NkUjM60+/St1hXRltuTIhX7qrkmBRgt+tZvNXFgl+Ym1f8s9yvb+GwPr3p3bsvF762ptqyIFstOtA+sXDLjF+ZG7Itmnf+HH6JuS0z9kxdbBNTe9cM3Yan8KtsNq74m81xHTj45Iv5z/0vMfX7ZSx64QTSDciuX/lxYc2nH1dxoyiKUs3EH3A0A1O8OOKw+YNRDBp2M89O+ZI5P//Cj99+zhsPjWLomI8DkQ+7NYOO3K/yYfrEwZx/RmtswL/2DcbfP5vNPvBtmsX9dz7DnLnzmL/UYr8DW1RfQ58wkCGHpwS3zHibceOmsyZf8G78jntvfL5kJxotSA4rf5rBtGnTwnym892fmeET2tXFNjE1es1w2/CA/69HODQ1lRYde3DCnd+wpXBnBilgZ2ZOYM9AqxkZzWtBelT71GWlXPSRRzZqv8im9uznSObsCXJoY7v8FTcmRfqMmS6bHJEq5bnZ/Llc1S2xKAeKKyFJ4ovy3DSUw+//LZg0rQoJAkMStpnks+X94KKY3J/vkP0Ti/PcGJdb3JaRlL4nyuAMO8ZWS4WumKqObWLCncORbZNOFA8IxMvwt4pT4XmLVqnZ0vGG76Wg2jJBWYgAACAASURBVK4pYetAuG14/M4m+eiSDhJngsvHU5tL233aS6tGCWKZwFLz1me+IauqcfuPcHbXyI2iKEq1Y0gbeDtfzp/FxNsu5Lh+nWmRloDbMtieFJq2783gs67nqenzmPPwMTSp4sQH03gIT8yazaT/nM6Azk1JcLyY1Jb0POZi7v3wZz4fuz+Jez5NpYjveweffHQPZ/drQ5rHxpPWlv4jHubTqaPZr7BHsV26WiWEutgmpiavGW4bHmOaMPTZ2cx8ZjSnDtiXxlYma1euZos3nY79hzH66a/48bWzaV0LysMElY9SSxhj0Eceuaj9Ihu1X3UiEDoddccbnNrqPKbugoTjJ7Lqk4toXO2zVcOjto1NwtldIzeKoihKBSngh/8Oplv75qQnteec//1DPoCTyU+PPc0X2QImgX7HHk7DWhQ2ilIajdzUMupdRDZqv8hG7bf35P1+D4MH3cYPWQImjrQWLWng3ciqLTk4YpE+cAIzpt9K38puZb+XqG1jk3B2V3FTy+gLGNmo/SIbtV91IOxc9C4P3fcc73/zB39v2Ik/Lo2Mzgdy5OlX8J/RJ9O5uif6VAC1bWyy1+ImNCeDoiiKoihKfaAsGVOpCe2qivce9S4iG7VfZKP2i17UtrFJuMCLTihWFEVRFCWqUHGjKIqiKEpUoeJGURRFUZSoQsWNoiiKoihRhYobRVEURVGiChU3iqIoiqJEFSpuFEVRFEWJKlTcKIqiKIoSVeiu9Iqi1BiFSdUEh8DfDFZwJ2nNeq4oSk2h4kZRlGpCQMABtjo7WJjzF/Ozl7A4ZyFZkotX/CCGTnH7cE6zoXT1dMI2GjxWFKX6qdTeUpraeu/R57g7keTdq/3CIQgOq31beX7jO7y19T3W+jbiJQ8xgoiNJQIIWMK+9n583/1d0q3kWi2l2i96UdvGJuHsrpEbpZZR7z4acQT+yFnEiBU3sMT3NxiCM/oMYDBGioSrGIOxpEjAKvWHSHI0FKU8VNwotUjQu/dXzLv/cMdXAe/e1K53r1QWYZ13Excsv54lvuVgBIOhLB/aiCHVSeKO1leTQkKtl1QJRR0NJUA0iloVN0qtod59dOITP+PXPsafzt9gBWyJBP5XGhcu7swYw/AGx2K0o6xD1NGIXWJD1Kq4UWoJ9e6jEcHh48zpTM6agmMMOCBBfVMay7E5NnkQlzY9PSIby2hCHY1YJXZErYobpVZQ7z66EABxWO3bzK3/PoIXLwZTpj1BMPhpajXhwdY3kmjF42CwCHO4UsOooxGrxJKo1Z5DqXF28+4DUdGAh18Ky7E5Nkm9+0jARwH3rHmcpbKKUJlS2qwGwSXx3NbyWjomtMdIYDxf17XUDSUdDSD4TpZFCUfD0vcxsgkRtd6/CTgdZWPEkOZP5o6MyBW1WluVGkMAEYfV3qB3L96w0ZrAi+ajqdWwhHevHWA9RYQZmT/yWuYHiPGX69sZsTk2aTDnNT456AVaBGtH7ZRVKUIdjdgl1kRtZJZaiRjUu49CBLY427lz7f3kWrkYY8KuqDAiNKYR41qPJsnEB37ZEBjCUuvWGupoxDaxKGojt+RK/Ue9+6jEb/w8uW4icwv+ArEQkfDJ04zF2Oaj6O3ptJtYtbT5qVXU0Yg9YlnUauui1Azq3UctC3P/5pkNk3GMf4/HDnD15dJmZ2JZFiYkd4ZSy6ijEbPEqqhVcaPUCOrdRyd5Th7jVj3GNjsHY4RAtoyySSaBCW2vI9lE5oTEqEEdjdglhkWt9hxKjaDeffQhCB9lfsXnOV+DVTheX3bDZ8ThkgZnMiCpL36s4LoMU/Ygv1KjqKMRo8S4qNXaqlQ76t1HH4KQ6c/i3vXPUmDyCMxItCi7CRE6WR24oeVIbFOYQSP4E9U2tY46GrFJrIvayCy1Um9R7z46EQcmbX6Hhd5FiCVBtVKWnQQL4dZWV9HcboKFwQQj25Eb4I5c1NGIXWJd1GqGYqXa2N27N0HvvuxOsDzvPvJfrehig38Tj26YiA8/OGXbVBAwwiDPoQxvMARjXMVHlbKxUvOU6WhI2UtljDhc0rDY0SiycNiVNUp9prSoFRzCGTJaRa1GbpRqQ7376EMAR/w8sfFl1vq2YBwrOA5fBkZo4CQzvtX1JBpP8Wi9do61jg4jxi4aPQ8QseImf8qZJFqBCVJW+gg+zq/rEiklvfuyXxBBECMMii/27i1jMMF3qmirE6VeYET4K381L2+ZimM7WMbChGn4bIHzG55O3+Qe+IxV1J6GHwhRagp1NGITFbXF1GE/ImyeeBzxwRncJn4IL23SVykSUe8+WnHwUcDT6yezRbZhTFjNCkAL05LRzUdii1W0F5+K1bpBHY3YREVtMRE758bV6wIefPRgvALGsx/dq+FOnDXPckznK/nK15v//v4Lt3W39/6kMYARYWmId29jIVJ2J1jCu8fCFRzTd9CGtD6yOO8f3s78iEDLB+EmYdiOxeiMi2jrbqZza+qQQEbaEEfDssCqmKNR+PthVgsrEYDOjSsmYsWN3fF4rrz2+Go8o8OaD99lTp5E8FOpCxx8eEt69+UcHerdE+IhRsPLFE0IgiMOz2z8H1vMDiiakFiY2KskXT1dGNFkOBirWAepUWsddTRiExW1u6N1uBBnFR+88z350RCPq2XK9u53x3YsRjcr9u618tVfDPBX/kre2f5pwNMr8ZOQfwnYYnFri1E0MumBFtLS5W51gw4jxio6N253IrYe73FCsXc9s1+6iXOP7E37JikkuN14khvTrteRnHvLy/y40Rc8MJNXT0rA2O259rv8gJ29f3B7DxfGuGh/3Wy8tXtrEYMg+Hfz7iFctdrNu1chWT8R8OPw9IaJZPmzKG89sBhhYOL+DG1wNBYmchuUKEEdjVhERW1ZROcATM7vPDR0CDd9vRl/6Lvt28q/82fy7/yveWfy+zwxYwqXd6uzUkY8Jbx7I6W2ZCt+8EYCWS5LePfq2ddbHONnZcE63to+HTHlKVAhXuK5tfkVeMSj+YnqEB1GjG10btzuRJtYAxz+feUG7vx6M34xJPU4n4fensHsH39k9ow3ue/M/Ug0gm/dZ9x49Yv846Rw3P1f8d2U0fRxB0/h6swlr37LrFnf8u41PaNUAe4l6t3XS5zC/zjBVOuVjI45ODjApE3vsUN2ILaENJhFVwj83/g5MXkQh6QM0ChcHaPDiLGJRs/DE4X9tpf5P/9BrgC4Oejy+xhzRkbw3T2IgYd1JCnlSeYntqBlmzZ4/TZN9htAo+TfSSt8wU0SbfsM5BBdLRUW9e7rDxJs0HKlgD9zV7I4Zyk7ZTtxJNE7sQs9kzrjIi788vyi8wTsuN63jslbp+AEDy/LvAZIcdIZ0/Iy3MHVFmrXOkLAb0IcDdceHI2EoKMRDclMYhyNnocnCsWNRWpaKhaZ+PEy5+ErmJB6LcMH9aNrRhKW50CuenFyXReyTnEAywGQoNioXEUP690XNZah3r3DiUkh3n2Uv1B1wVb/Dl7fPJVXtrzF3/mryLPzcHAwjkWSk8zw9ON5dJ/baGCllnseIwHLvbdlBut9m3BcDkYMRqzdBKxgc0raURwY3xWXWKE/UBvXMupoxCgqasslCsWNm/7nj6D7i3czL0/IX/4h4877kHHGTVqbnvQ/7AiOPv5Uzjh5AK2jayuNclHvPgoRWF6wmkuW3cAPBX9QYHsxlgmmULfBEnLI4bWd75O3PIcXOtxHqpVczgkN2U4Okza9g894i1Zb7NZhGh8pTgrXtrgElxWFTUgtoo6GUlVU1JZPVLZMnr538slUw6VXPsL0f7JxBBAvO/79jemv/cb01x7h1jbHMf7N1xk7oEFMGFq9++ijAC83rbqX73y/YVlgKLRBoUQ1gczrOEzZOZ2GaxrzSOtb8Bh3mSJWEKZv/5bF/r+DPW5Zw7KC5RhOST+ObgmdkKIzqVErijoaioramicqxQ24aDVkAp/9dT3Lf/ySGTNn8f2PP/PLL3+wbEsejgj5qz7jltOuofOCVxnWKIqtrd591CIG1hdsQowfB5uQnWF2O9axfEzc+hrN7HRuy7ga2+wuXLzGy6Rtb+Az4XcQBkOSpHF1s/OxxR1yWBS/Q9WMOhqxiYra2iW6ex07jQ4Dh3P5wOFcDuDsYsUXDzPy/AnM3OzgbPiEqd8XMGyop65LWmOodx+9uMRiVPPz+X3VIvItLyawW1CZxwrgw+GhDS/QOb4zZzQagoUVYg2HeTlL+Cr7l4BJxdpNI4kJmPy4tMH0jO+KCbGsUgHU0YhpVNTWLtG3Kjd7Ae89cCvXXHQax5/1KL8XhPzMSmafY0dzYf+44Bc+CgrKyMvo7GD7jujI11jCuzdQ3mYHhd79/euewZGy779K3n3I90r1YYnF6Q2O56YmI4lzLAwO4dd2GsQYsu0CxqyZwPycpSWEkOODt7d8RIHtYMTGKqNpMALJfjeXNTsL2zJY0ZavvYYJdTT8lhN0NCDgaARy0ogFYgKOxk1rHiJPCsoRrKUdjbKPKu1oFH6v1BICy/NXc/qSUdy07j4W+JeRZxWEiFrIsQKi9vLlt5Dl7NrDCQ3ZTm7FRK3EF4vaws3BYyR8U39kvPcPnr5wGJ/EhT/EanQc45+/jB7llTre8Ne7D/PUr/mI+Yx/JJfb/u8wOjdNwuRs5q/vJnLPl4F0xiaxP4f3DURtrJR0Uu3g8jn/Sl6/43a6XXEg8SndGX5MFyI1tqPeffRiLEMcLm5oeSU7nTye2Poi/j0+aodNbOLKlTfz/r4v0dRugIXNdpPF1MwZIIJBsHDwl7abCIelHUr/pD5Y9ajpiBR0GDE20eh53VB/WihnE3M//5C55RxiZWRw1Z4CKnZ3rn1uAl8OuYVvtuTy5zu3ct47ux9m3K056eHH+b82QQ819RCOOTiJj2fuQnDYNPN+Lp4J8UMnc3wEi5tC735F7nLu3fwcPqtwM4myKrhBDEXefZeE9vRK7FL0WpT27gNSsKRBdvPuY+RFqisMhgQTx/g217Pdl8UrWVMQy49xyonhCPxSMI9H1r/A3S2vB2P4bsdPrC7YgLgdDIITbA6L850a4rAZ1fRc4k2cWrUKqKMRm6iorRuib1gKSDpgLNPmzuS5/5zLUft3oFlaAm7bJi6xAS33O5iTLrubt3+dx/uXdS0WLVY7Lp34Gjce15UmCS5sdxKN2/Xm8H7tKSeYVO8xliHOCnj3VzW6MHz0ugTF3v0m/1Yc/ABlePf+3X9Vvftax2BIxM2D7W7hhKTDAmHqcoaMHMAxFs9v+h9zsufjiMOHW6bjswPDWk6wyy3d9B4Y34vDUw6qwTuJbnQYMTYpFLXxTjxA0GXYs6h9Z9t0/DiljgwRtRZgdre7mIDtS4ra2MOISIUGX40xVPBQpRzq6jkKQi4FXLPizgp594GhWeG6xiO5u+X12MbNh9u+4MwVV+F1+7EKX1CxSnr3YvH+Pi9wfNoRUekl1t/3IND1bfCt44y/RvND/m9FqyjKovA+Dks4kBc7PMJRi09nlbMhIIpEMCZg26Ljgedb3sMljc8os0GNFOrafoKQKwXcufphntj6It6ieXDhMQYOcvcsMYy41Z9Jv0VD+UfWFw8jlk7OJsIJyUfyTseniTeeKHwbS1LXtg2HOEIBPu5f92RR9Dyw52F5FrFoZhrzWadX6JXYpShm5/gcxq67m0cyXw06mSBlzI9M8bn5oMtkDks+EDvKncxwdo/cVkqpFOrdRzuBWYLN7Qyeb3837WgGDuEbexEsgTk5v3P3qodY52wKiFEJzgQo1VG2NC0Y3uBEtMnYO0KHEc9POxNDYKJned1c6DCiX3w4OMXDiIE3NTiMWIxgcOPSYcR6gEbP6wZtqWIKQ7qVwvPtJzDAvT/G2bOXs9PKZdzaB/nHv4Gv835ACsd5y0jhbSFc1Pg0kk18VEZt6juGgBfTJb4Dz3V6mDRJCXusAI4Bn/h5fccH+IIytdhqJe13fsOhpNqJNVHsmEMdjdhDRW3to+ImplDvPhYwxmJwUn/Gtx5D3J48N2NwypWiDqmSyJmNT8MQEET1L/AfiaijEWuoqK1dtBeKMdS7j34MBstYjGx8JiNSh2GV028aQ7kNrFjC4JTD6BLfRjvJakUdjdhERW1toTU/RlHvPvqJt9zc3eZ6uru7lZgcXBncPhfnNzgJNy6MMUU5wJS9Rx2NWERFbW2hTyBGUe8++hFsmria8mS7O0kyKWU5enukU1wXBqcNRJuKmkMdjdhCRW3toC1WjKPeffRiEWhEBybuz5jG52L7gxm4K4oIJzcYTIIrSQ1ag6ijEZuoqK1ZVNzEOOrdRz+WZXFNxqUc7OmFESck73D5JEkCZzU8EZejeaZrA3U0YgsVtTWL9kYxjnr3sUG6lcI9bceS4k8Nm/K/NP2S96dLfHttJGoJdTRiExW1NYO+AQqg3n20YyMcnNSHUc0uxMierCsYsTir4Um4JSh2Yz3GXQuooxGbqKitGfRJKEWodx/NWLiMh+tbXERP137lilcB2psMTkwfFFyN4QQyiim1gjoasYWK2ppB+ySlCPXuo59GrgZM7vgAR3sOI91JwuUzWI6N7bfwOC6a+5tycuIQ3uz0FI3thohVGODWVrM2UUcj9lBRW73oxpm1TCQ8x82+bRyz5Dzm+ZcQrlMThA60Zlb3KTQ3DTDGgBX9I72RYL/yEABHyDMFrPdtZG3uGhzHjTF+ElxxtIlvRwOThssxYAsm+AdMVJg2cuzn4BMvt615ige3PIVjypsmKhixea71PVzScFggtb+JDntVhsixbXj8CN/v+omhf44ky7WTisQfBiUO4PNOLxMncTEZrghndxU3tUwkPEcHYWHuIm5c+SC/5P7OLicHx7IwIriMRQNpSL+UPtza8nJ6J3bDxgRm+lvR/2ZFgv2U8ESa/dTRqDiRZtuyUVFbWVTc1BMi4TnGundfHpFgPyU8kWY/dTQqTqTZtjxU1FYcFTf1BH2OkY3aL7KJNPupo1FxIs225aGituKouKkn6HOMbNR+kY3aL3qJJtuqqK04Km7qCfocIxu1X2Sj9ote1LaxSTi7x14MS1EURVGUqEbFjaIoiqIoUYWKG0VRFEVRogoVN4qiKIqiRBUqbhRFURRFiSpU3CiKoiiKElWouFEURVEUJapQcaMoiqIoSlSh4kZRFEVRlKhCxY2iKIqiKFFFpbZfUBRFURRFqU+UJWNce3sCpXLo/ieRjdovslH7RS9q29gkXOBFh6UURVEURYkqVNwoiqIoihJVqLhRFEVRFCWqUHGjKIqiKEpUoeJGURRFUZSoQsWNoiiKoihRRaWWgiuKooRDRCj8YzAYLDCgGbIURaltVNwoilJJBAQcYIeTzZ95fzMvewmLsxeRJTkUiB8DdIrrwFlNT6BTXHtso0FiRVFqj0plKNYESXuPPsfIRu0ngLDJv5OJm9/ntc1v8Y93NQXkIkYQsTEiGASM0M3dg1nd3yTNJNd1wQG1X3lEeuRNbRubhLO7Rm4URakwIrA4bxnnr7iBeQWLESPBmXuBLtAYwQiIMYgxAdEjEdRDxgQaeVOiHxU3iqJUEGGzL5P/Wz6WufmLwBJKqpbA38WAEUOi4+H6FiNJlYQ6Ka1SFsHIm1OxyNv7mV8EIm/Uj8ibUj0URjoEh8DfDFaRgxIdnoiKG0VRKoSD8PD6F/jdNx+xAwMXgSjN7sdaWIxuOpIRTYZh1OuvN2jkLRYpjtRtdXawMOcv5mcvYXHOQrIkF6/4QQyd4vbhnGZD6erpFBWROhU3iqLsEcHh253f8+T2V/AbC+NIQNSU0ekZx2JAQj9uzLiYOOPSfrHeoJG32EMQHFb7t/L8xnd4a+t7rPVtxEteUaTOkkA0D0v4cMdXfN/9XdLryRy5vUHFjaIoYSkMXm/xZ3HzygfJlXzAUBi5Ltk9CgaHdJPGg21uJNVKwglMS1WBUw/QyFvs4Qj8kbOIEStuYInv78CLWBSpMxgjRcNSYgzGkqLhqUhHa62iKOUi4uXpDZP41bsEMEVN3+6BGweDi8ubjuCAxJ7B9TYGXb9S9+wWeZPg7Jtwkbd4jbxFPsI67yYuWH49S7x/E3A+ysaIIc2fzB0ZV5NCdETqNHIT5YQukRMJVG4nWMklNx/x+bCSEsCyMEUdUbFnXk2FQIq6OIPk5+EUeLHj48HtLl56GnLRaJnUFukYEX7NXsqTmybhWL5yOzojNn3j9ufa5hcG7Fc0V6P08IdSW2jkLXbxiZ/xax/jT+dvsIKuSJhX0YWLOzPGMLzBsVETqVNxE2Pkr/oH3wuTsD75CP/qNeDzIo3Skb4H4Tr3XDzHHYfldgflRjUQ9BD9a9eR+/ok+Gga1rKlSEE+VlIyvj69sc8ZQcLwUzAeD9WrqpS9JZtc7lxzP5nWjmA3R5k5JQxCoiRxZ+traWinYiFBWwbH87V7rDNKRN6skpG3kpSOvFEUeVPrRRaCw8eZ05mcNQXHGHAIO0fOcmyOTR7EpU1Pj4qJxIVoEr9aprafo4gDGMRxyH79NewxY4jflokxwTIIFA4w+G3IOrg/CU89SVz3XhjL7JXEERHE5yX7hRexx00gYevWkEEKU3R5v2XIHngwCa++jrtNawAsq36+ZLH0Hjg4TNz8JletHofX8pd7rAGuSLuIR9vchGXbQGDeRn0jluwHgAi/ZC9kyLLz2W6yyj3UCPSLO4CPurxAIzsdSwxiAlNSI2EeRszZtgwEQBxW+zYzZNE5LGFFURu+u0gVDH6a0YKv932DzgntcLCwqsuxrSXC2b3+tT5KtSICjjjkvPEWnpGXEb9tO0XhlKL6IICD5XdInf0DztHHkj/7u71qKEQE8XrJGX0dntHXkbBtC4EBsZJ/QLAdP6mzZlNw0lB8mzeGFkypQzZ4t/DAmqfxGh978t3b0YabW1+Gy7YLpyrWShmV8ikReTMm7HBvIPKWWCryBqUaCiUC8FHAPWseZ6msIvS9LW15g+CSeG5reS0dE9pjJLrmyKm4iXYEfOvWYW68EZe3oIxJoMUEwtBC/OYtmFOHk//lV/hFqKzGEQTJyyP7istJfPY5bL8vmBiMkI+EfALfJS1cTM5dd+GLlrcrgvGJn4fXvcQ//g0YHAJZMsrGJRa3tbqGFnZjCCbuV2lT9zg4vLFlKl/l/IRIwLsN77AYLmxwJkclHYQJWjzwramXETglDCLMyPyR1zI/QIx/j3Pkjk0azHmNTw5G5iyiScxqrY1yHISCN9/Bs3FDhY4vrOKebdvh9DMo+PhjHPFXOIojAk5ODrsuvYTEVyYhRipeycTB/fqb+DdtqehvKDWCMDd3Ia9sewfHBWIRGLMo81Dh2KRDOa3hCQgWJSWsUpdo5C3GENjibOfOtfeTa+WWH6kToTGNGNd6NEkmPvDLptDuKm6UCMASMF/NKIqQVBQDJGTtwDr3HAo+mIrjlOf1BRBAcrPJHXEBiW+8iSUSuH6Fryl4dmTi++PXSpRUqV6EfPExYe3TZJosikbqpeymooGkMb7VdSQQV6ulVMpHI2+xh9/4eXLdROYW/AVilR+pMxZjm4+it6fTbkNR0RKpi467UMIiBvI3bKpyY+XOzkHOO5/cd98ttaS71HVE8GfvZOcZp5Mw9X1soUqNpBHBWbeuiqVV9gYhkPTrq6zv+GrXd4jxBZRpGGGD8XFpk7PomdClKG1/Yf6U8F2pUvNo5C0WWZj7N89smIxjyp/8DzDA1ZdLm52JFUwBEgkTxiuLipsYwIqPq3LVNUBCXj6eiy4kd/Irgd6vFCKCb0cmOcOHk/z5dGwpDG5WMbwZHx1JpCINA+Q7+dy79llyrGzAKjPLmwRTurczbbmy+f9hG3dgjUWwT9SusS7RyFsskufkMW7VY2yzc4IrYcO7F8kkMKHtdSSb6G5nVdxEPYLdfb8qj6IWdlSu/HysK65k57PP4nec4l1lRfBu3UL2qcNImfEVdugK80qXFApcLlxd9q1iaZWqEphGKEzdMY0fc+aB38KUlb4WwAhusbmp+VW0cjUKJmCkhKJRcVP7aOQtNhGEjzK/4vOcr0P8kbJbYCMOlzQ4kwFJffGHRurCvesRjIqbKMdgcA0djs/a+3yNcfkFJIwZQ+5jj+I4gUnGvk2byD35JNK+mUXxTPvKze8pRABv532J79Zjr8uqVA4jwg7/Th7Y8BJ+yx+IxIRp8CwxHBrfl7Mbn4yDtXtmAaVO0Mhb7CEImf4s7l3/LAUmj8DLaFF21y50sjpwQ8uR2KXsHIXaRsVN1GMMcUcfSc5BB+5V51MUwfF6ib/pJnIfeADf6tXkDT2B1B9+LrNBrMz7UpjMjzHXYeLce1FSpfIIDn7e3jKNRXl/BY1twhrQIx7+0/IaEo0HCR4XhW1jRKGRt9hEHJi0+R0WehchRas3yrJeYEbVra2uorndJJCoL+iRRKtjEvPiJn/KmSRagSVzVvoIPs6v6xJVP1Z8PJ4nnyA3LRWHqlfkwlfG9vlx3zEOf/+DSfr192ppCAXIPvkkEs4+pxrOplQOIdPJ4vlNr+K3nGCUuuwZU0bgpJRjOTzpQCwBO/RntVVcZTc08habbPBv4tENE/HhB6fs4SVBECMMij+U4Q2GYIwLy5gSkbpoFALVe0+ykReOjS9aX1/xTzxHP79BX64aIfCMPX0OQN5+l4LUFGDvBY7b7yNuw/rgufauaXSAnYMHkzRxInjiojJEWn8JJGl8d9sMFvj/AgpXWpRlBEM66dzYciRuy00UpcSIcDTyFmsE5lf5eWLjy6z1bcE45WyaYIQGTjLjW11PovEUv7ZRbvRoFGxKCMU5nAyJRx+FTPmAvPQGwN4JHCvkszfviAA7hwwhcer7WOkNsE2k7WwS2QiQJdk8veFV/OIPWTJc0gaBrx3ObXgKPTz7lXGEUndo5C3WMCL8lb+al7dMxbEdLBM+iv/qVgAAIABJREFUUmcLnN/wdPom98BnrKKGP9onjVfzruAe2h08lJMTvCW+LVj1IzP+2BjwCa2m9D72YNqWWHnopne7+OotilICExyLjR98BHkffUTeqafi2bI58LM6KpMD7Bh2MmmTJkNyclFenKpNR1aqykfbpvFnwXLEFkzRypqSYRkxQmOTzpiMi3Bja09Ybygr8hZuSrAhnbTiyFvg19WWEYeDDy9Pr5/MFtlGcNPvsLQwLRndfCS2WEVVIxYmjVevuDHpHDPuXY4p8aWweeLxtL5kWkDcuPtw5aSpXNI02h9t/cQYg2fgALyffULe0JPwbNy419GXquAAO88+h+QXnkESU4p3otUQea0h4pBDPk9tfBURX7nHWmJxVZMRtHa1UvvUI3aLvFkSnHdRUpwaATEaeYsWFuf9w9uZH4VEWstWqbZjMTrjItq6m8WEoAmlngxL+fj99u64g3NwPIc8wopSUjT/g3NJLZz4m3IOU4sm/gqbXhpCfPB33T3vZK43i/mv/4fhB3WgcVIc8akt6HbkSB7/bgPlN+FlIexa9gkPXXEy/Tu3oEGih4TUZnQ86GSufmImawr2+uZrHQPEHXAg9mefkte6da1NmyjMn+E1hp0jzif5pRexE1OKh850/kaFcaBoFmjVcgoJjoGZO35gbt6f+G0plcVWio7D+Glrt+T/mpyJcaJn1+BooSjyZgqXAUPpbqx05M0YU+68HKV+Igh+cXhm4//YYnZQHLMpuyvv6unCiCbDwVhFq6NihXoibvYGQ1JSYvF6/Z0b+Obu4zjsggd4/+cVbM3xkr9zA4tnvsR1xxzB1Z9troR9fax6fxQD9j+JG5/9iJ+WbSAzt4C8nZtY/vNHPDX6GA444SF+21Uzd1ZTFE7kjuvdB9fHn5K7T/uiVVQ1VfcLz+23DNmXjiTx2acxHg8WJrD/VKy5FXuFIOKQL15yZBf5UoBIxdfBSfCPV/J4ZuPr+AuXkErJowAsHCy/zRVNR9DM3TxkDpdS14g45EhexSNvjYORN9U0EYsB/spfyTvbPy2VAX73OXK2WNzaYhSNTHqggbViy/BRIG7AdhWPrjnr3+SO+5ey7/89wOR332HiXefSKy1wm5K/lBevuZtZuRU7r3/pk5x/4Yss2CVgNePI29/ntxVrWTnvY+46riU2fjZ9dQvnjZtDTk3cWA1jjCGuRzdcn31KdqeOe7VMfE8I4LMMuVdeTfKjj2I8iSFiysSUR1FVHPGR6exgyrbpjFo5jsP/PJ2DlpzMwYtO4bJ/bmNezmKcCk4TFODXnAXMyv2paC+asiZyCxad49ozovFw7OARMdQ+1hgaeVMqjYAfh6c3TCTLH7K1RlmHGmFg4v4MbXB0wIGs1YLWD6p5QnHdYKzgmn0Byc+h8WXvMv3ZY0k3AKdxfPs8ep4/hc0O+P95m1e/uYfDjkvcw1lz+ebxR5mzM1CBUobcw2vjh9HCAGRwy2uPsqDLWby9xcvSlx/n41sHcGaDyGv2jTHEddoXps0g98QTSVyyuFrnGBaNCFsWuTdcT+KE8RhXXGB2P5XYMjzG8YmfTzO/YcLax1joXYIXf1ATBtLmL9j+J5/u+I43Oj7EYSkHlbvizIhBxOHlDVPI9RcgLoKp901gaKMIwRKbUU3Op7GdFjhn6BCi2q6KBHZrzhc/fvKxiMODKzBUVIGHWtnIm/HbXJERjLypsolYHONnZcE63to+vdR7WhohXuK5tfkVeMSDxFbApojoE3Surpw36sigsAEwND/lAo5vGLxVZwu//LRsz3NvfPP5//buO06KIm3g+K+qJ+5sJEsUFEUxop6YFTCQDEcwIKIeBsCI8TzPM7yGe41nwBzAgCCimFEx4Hm+d6YTA2BAlCgSFjbNzkxXvX/MzLLA7rJ5Z2eer58FXWd6erq6qp6u+Pa8VYlVPzzsevAB5JaHCYfjP+VZB3FUv/iMA7vxA+Z+0npX/1NK4duxB/63Xqd4770aNbAxQLmjKbn2WnJuuRnH6988eDgjs1zdGWOZtWEuZy2ZzNfRRcS0AZWciO+AcjAOrFIrGfvTZXxZ9l2Nx7MKfo2u5LVN72CcSMUU0q0DG5TLjk5XTmk/HKU2z7SQ5pv6kZa3zGWSf5h4YFvX5jOTuDOeWjOLjXYjdpuWOrP5b+UyLPsoDs05OKNbxNOi5aYyFezLPrtu9bX8u7BbLwfWGsCw4tcVGPau+UDhJfywLLmgWZTPrt2L7Gurea3ZyA+LV2GG9Gy10aICPF264Yz/E+5FF1dsgNkYbOcuBMafA0pVrC8mC8DVXlRHuHfFw2zwFMenc+KQLMy2rqhW2NWMWzKZl3s/Sk9fV3RVd6Q1TP/9Jdaqwho+VeG4mgmdx9BOt5GGmgaSlrfMYxN5tMxGWFS2lO9KF1NkN+AjxD5ZfdgrtAsefNtd1ys5tmZVbCVT172ISby8qsYbBeSYfCZ3OQ+v8mR0MJt+wU0olxxn619mEcranKvLSsPbrVdtuIywqW3ta9iwfgOG1hncxLfRs5Q+8RieK65s1KZrBfiWLaN86FDsa3PwdOmK1gqb3M+GzM18taVx6Bzsii5ZUGn15mqiQ2VYGFnM+T9exaxdHyHXyal4dZxloy3m2Q0vJipCXW2Q2d3Tk9PaHY9NDvgW9WKMZVbhXCb+fDXFujS+0F7lnboV8ZY34i1vL+/6CP2Cfas9nlXwa6Ryy5uT+H0VLW+6x+aWN9Gs1rkbeeb3l3hy7fP8WP4rYSeMwaCMJmSyGZE/hLt7XUuBzq3xOMrGH2VmrX2bVbE1GI9BWYWyepvuKYvDiXmD2D+wO57K91gGBrMpecdbs23jbKy8vFbTuG1pCaVbv9mWUFyyeeXVrFBwu+msgiGynOSr/AycsgJj402K2/5E+eamfq0zUrQWXEPJA/cRmHgRgXB5o+WByisZ+79eQOy4wZifl2ASNXS6r5DZWByr+VvnS+hmu6AwqBqGflsURmneD3/G1cvuImIjW6antby38Z8sNitRyqlyqKEFPEZxWpvj6aDbxfehaYovliEqt7zFn7o3P31V1/L2U+TX6ruo6tLy1mFzy5toJhZ+Kl/GqIXnc/XK2/ja/YGwjiQWJ3VAQ6ku5emi2Uz46Ro2me1Nt1WUmDKeWjOTmIpW040MqBg5NsDFO4zHoz1bLiGfgRk4RYIbhc/nrbj+Zu0a1m2Rr2N8/81iorXIobbsO77+yd3yl+Hv+W5J8ncO3Xp2Y+vGnW34e9G7W/JVMX5Z8ks91shJcRas61J8z134LrsCJxZfWbop8oEGshYuIjp0OLFFi7DYVLn5Up5Gs3uwF4/3upV2pg21mbRvtMuThdN5du0corgVr466hufWzUl0h1Q9i0JbS3vyOaPDSSSH2oj6q2h5w27V8laFSi1vRW5JFSm9VctbDS0ylVveRPOJEOXqX29lfuxzXG1Q6ES6J9dg11gdX1TxxaK5XL38DsI2QtUbZsRb1udu+JDv3B9BV/dIaNFGcWL+YPoGe1da5T1zEz9F6hdNh86dSDaUmKXzeGfR5lDCFr7HI88trF1wEfuaZx//F5tjYctvrzzNWxsSN4XTkf4H7bz94MazJ4MG7JB4ncvPLz/Px5UD7PLPuffMUYw5eyKT/3I3c5e1snYIa7FujKLbbsF3zTUEom4iyG/8qqzyGNTAD98THT6U2DffoqxFSt5aUKCVwxE5h/Bgz9vIdbOoTcgRI8J1K2/nm/AirI0H98vNaj4s+pREG0/iZ0sWGNHuBHp6u6G3n1PEdkjLW2axClZF1mCVm2ipq77pxOgYj697mr+vnIKxVdchURXlqfXPEVOm2uOAImTzuLDjWBzr3eL3mSpFghtF20OPZG9vorkt+iV/P20898x+l3lzHuKS4WOZHu1McsITtroYF5THw9Ipoxl2yRRmvfEaz93xJ4ZMnM3vJv453l3HcuZhtdnHKsARF1zIgaH4Obk/TWHMiVfy+Osf8MFbz3DTKadw5bRZPPfkQ0x5dS357VPkUtaGtVjXpeiG6wjecBO+qMvmnb2bNthQFkJLlhIdchzRLz+Hap9XRGUK8CjF8fkDuLXbX/ETwDokpg9XzQKr+J3rfr2TUspwcXlz3XusN5uwifkX7lbX3ypFiCzObD8CR8ZpNAppecssHqs5v9NYAiZez6ga0tsCMQx3rH6Emevn4mK2eqXhq9KFzCv5NNHFVEUwq+Ll6uC8AewV2B2F7M4HKRPcgLPLeK47sxc+BWAp/noql444mkEnTuSBHw7glrvHkewlsm6UWDUNJSp3GJMv6Mxn905i1NDhjLniSb4oTMwsyd6Xyx68igN8Vb93a57dL+GZx8fRJ0uBjbFy3u2MH3YURw0ey3Uv/0i5VXi7Dufu567lwFay76e1FhuNsemaqwjeejse11Q0ljaH5OdkLV9JbOgwyv/9H4wx8emRYjsUGstZ7UdwZYfxeGOeGqvI5Eonc4vn8/z6N4lZlzcK38ckmrarfK+1HJd7JHsGdmn0s89Y0vKWUbTVjCoYwtXtz8FndI0tdaCwSlHiRJi8/EYWlC7e4nHDxGDG2leIOAZlnSpnPyoL2a6X8zqegqMVWkb/AykU3KDaMuT+95jzP2M4ZOd2ZHk9BNrsxEEn/5UXPnqB8w7osHntGltaaYDwlqybRf+b3uH9Rydzwn49aJvlI1jQnf2On8zjH77LzYfn1aEi99Lz5Cf496ezuHn8YPbr1Z4cvwdvMJ+uexzJqX9+go+/mM2EPYKNcAGanrUWIlEKL7+E0F3/wGvcGp8qmkqykda/Zg3m+OFEPp4fb0GQAGe7FA4+vFzd6RzG5Z6IN7b9a+Zqw+2rHuCz8CI+Kf+CiqkTdtuc4LWas9qOwounGUPe9Cctb5lDaYVPe7i8yyQuaHtm9cNktmBYwxomLf0za9x1mMQKaxvUJl4qfBusRWHRuNu+1VoOzzuM/qF90a1zWkuTULaWNYpSKmUrn/IXT6Zg1EzKLKi8scz5bRrD/S19VlVr7utoTXz1UmsttrycjZPOJ3vqM3jMtk98zc0Sr1/Lc3PhhRcIDBgUvz5YtE7NgjlV8oG1lrXuBkZ+fy7/LPsco6uuKBXxJzuLpb9/T/4v8s02A1QrtyL09ezKv3efQ5bypWV/Rkunn8UliuHmlfdx628PEdNujePOlFI4rmJKj1sZ2+YERiw6j9fDH8Z3/052P1Sa8muBkTmDea7XPXhUZgWoLZ22W7NYyohw0ZK/8eSmF7HaRZnqHyXjYx4tl7Y7h5u7XIajvMxZ/w4nL7mAqNdFJx9Erd688jsKn9XM7vUIQ/KOzKj0Tqou3VOzBhGNxmKxFmwkStGEcwk91TiBTXL14YbsR6WIl9G+jZuwI0YSfv/dBhwtsyilaOvk8fBO/8uOTrdqX2cBo8Cg+KT8qyo6MTb/t7JwbruR+JU8/TUVaXnLHApFFl5u3/EahoYOj0/hrqGlzgBGaR5e8ywflyzAWMOctXOJOfFS1lQaGVnZ/oG9OSLnwCb8Jq2TBDcZwGAomfIgWU9Px1vNiPy6sEBp9x4Un3seMU+lZfnrSQPBoiLcs84isuyXBp9fptDKYVd/T+7qeR051LxXWnxV6MR+XlUytKctQ9sMRpEMiERTCahsbulxNf2D/VBuDV2yNr6C8Y/RX7jy52sppAilVHxF4ioCnF29vTky92DSstmtVVLk6xwe7nkjB3v7oWqxMGyRLuP6Fbfzs7ua98OfYJOzpKoIZjWWs9qNJFsFJJjdigQ3GcBduRx96814Ey02DckCFiju1Qv9+quEHriHshtuJOI41Hox5ypsHmS8itJb/i7Tw+tAoRiaeyRXtBuPY7aXujWM79CWofkD6eHtUDHAXIrKpiMtb5kinpM6OZ15uOfN7EhHMNQYzGoLH5d+wc2/3sFKsyYRxFYdzHZROzCiYBhSlW9LrkiaMxYiM2YRXLcOqmnWrC0LFO+8M743XsfXd3eU9pJz1VVEbv07MZ+vQR1KiUUA8L4wg9j63xtwpMzjKM2lnf/EkaFDq3y6q41ANMCYguFodLxlAAlumpq0vGUGRTyY7RPYiYd630mezan2tclgNmZdntn4MrFEelcKYbd4/dg2w8l1ar53MlVaBDf+ETMoTey2agpTdzBxS1CA/WBefOxNPY9hABco3m13fG+9gdN7p8TTvQalCV56KZG77qbc56vY1K2+5+ov3Ej0i8/rf5CMpAnpHO7s/hfa6rb1im/6BvfgDzn9alzxVjQ+aXnLHEppBoT6c0O3yfi2N6tJxSf51zRCJ9dmcXK7kRXBrLR3b0lKsjSnsMSWr6648+tb6BXvszf+t97E26sXWulE11F8YKPWiqwJ5+E+9DARr7feg4wV4FhLbNnqerw7cyWfDPf078y1HcfjcTV1WZBRGctJBQPxaXkqaAnS8pYZFAqtNOe0O5kzck+KT3ir7rUq+UfVrLYMyDmcPoHuMtamGhLcZACPR1fsn1ZXFija/wCy3ngdp2vnxG60qqJC1SqxP5vSBMedjvvkVKLBrHp1f1WskeyThcfqQ2nN2R1P55isg1G29jPicggxqs1gPFZLMdkipOUtkwS0l5u7X8Ye3r5bTOOvC2/Mw9iC4+Oz4pSqd/meziQnpDmjgF13r9d7LbDp0EMJvv4qno4d4+sJJHJQVRlJoQmePJrYtGeI5ObUq/Um4vHg612/8xUQUgFu7H4ZbUxbbC1HXRyScyA9fV2lMGgh0vKWWSwO7T0duG/HvxFSOfUKZnv7+jAg7xCkCq+eXJk0p6xCjxpN1NF1CjYssHHQUWS99CJO+/bYxBNhsiCu6glRKYXSmqw/noB59hnK8/LrvMtJbJfe+Pbeo07vEZtpLHsHd2NSx7PR1qmx4LRYtNWMbDMUj4X4NI7mOlOxNWl5ywyaeFl5SFY/Jrcbg+Mq6pTxrOWEggEEPSFprqmBBDfpTkHw2EGEjzii1m8xwIYhgwnNmIlT0AZtSXRHbT8vJf9/YPAQeGEmZQX5FYOMq8u+yWfUmOOBa65D+Wu5+ZeogsajfFy8w1j28+4R33m9GgrYWXdnaN6Rif+y8fnEosVIy1vm0FpzUedzOci/dyKYrV3eC9kgp7QZhsdIMFsTyQ9pTgHK5yf42OMU7dan2sbu5IrD5Y5D0ahR5Dw/A51fgFIalVhYs6Z9cLb4TKVQ2iEwcAD65dmUdumOq6oPjKyCqKMpu/IKgiNPQh5HGi7PyeWpnf+XoYGBtDG5eGIKx/XgcTUB46Wr25mRoeN5vvf9tHHyEi1zMgy1pUnLW2bJ1znc0uNKctzcWs9n/UN2P/oEekrlvR1psbdUa9Lse0slP8taomtWEb7iKnyzZuELl+MqcBL/29UOJTv1Ql99NdljxmC93nhA08Al/6y1xFasJHz9TTgznyVQWoa2Fku8JcgoRWnXznDjDWSNGRvv7lIKx0nNrNua8oG1lnKirI6tYVX5ClzXi9IuQcdH10B38lVufHyHYxIz4GqIQNNEa0m/De5Gjls4lk9jX1PDYwG7qJ7M7zuL9jo3nld15g4tbS1puyVDzEa5dvn93L72foyqqcS1KOvwULdbGN/mJBSexFNnM55uCqou3SW4aWYtFtwk/t1gcX/6kei8ebiLvodIBNW1K07//gT6Hwh+H1p5ABMPQGrZWlPDGYBVWAyxlauJznsP95uvoLgE1a4AdcCBBI48ChUKVazOER/Sk5o5VvJB69Za0s9gWRxezJVL7+CT0s/YZIqwykFh8CiHdrY9/XP345ou57FHcFc0Kj61OEU3nG0OrSVtq/J7bD3HLDydr9yFVBetWCw70Y2P9niRTqogXjZncDCbJMFNipDr2LpJ+rVurSn9pOWtblpT2m7NYPmm7FuuWHo7n5Z9QbEpxWiNshaP0hTYNvwhZ1/+0mUC+2T1xZFgtoIENylCrmPrJunXukn6pa/WnLbxIVOWsIqwKvYbK8qWY4wXpVyCHh/dAztSoPLwmPhYAlV5HeoMDmhBgpuUIdexdZP0a90k/dKXpG1mqi7dpU1LCCGEEGlFghshhBBCpBUJboQQQgiRViS4EUIIIURakeBGCCGEEGlFghshhBBCpBUJboQQQgiRViS4EUIIIURakeBGCCGEEGlFghshhBBCpBUJboQQQgiRViS4EUIIIURaqdPGmUIIIYQQqaSqMMbT0AOIupGda1s3Sb/WTdIvfUnaZqbqGl6kW0oIIYQQaUWCGyGEEEKkFQluhBBCCJFWJLgRQgghRFqR4EYIIYQQaUWCGyGEEEKklTpNBReiKSWncVoM8X9TaOLT/GSdJSGEELUlwY1oIRYsGGCd2cg3pd+zoGQh35V+wyZbRtS6YBW9fb04reNwdvf3xlHS0CiEEGL76rRCsSyQ1HByHQEsFsOy2Doe/m0mz6+bxYrYb0QJY5XFWgdtLWBBW3Z1duNfe7xAvs5u6ROX9GvlJP3Sl6RtZqou3aXlRjQ7Y+HL0m85Y8nlLIz9CIrE6C8FKJSyFd1SVimUthXdU0IIIcT2SDu/aGaWldE1jPvpMhZGfwRstWGLsoo8N5vrOl9IDsHmPEkhhBCtmAQ3olnFrMsNK+5hkfkxfvcpBdW0JHvw8LfOkxlRcCxKy60qhBCidqRbSjQbi+HVwrlM3fQiRikwYOM9UdvQxuHY7KM4t8OojB9IXLk/2dr4QGyrLMpaTFk5WIvOCsQDxYqLqWisCWY2Of4pcVxiUdxwOdrnRXl9GECr5GfK7DaR2SS/pgYJbkSTswDWsCz2O3/55S6iRFGoKoOaeDeVSwfdntu7XUGWDmBQ8UaeZj3rVGWJLP2Z6EOP4bz1BrFVq1HWYDp3Qg0ciO/Ms/HuuSdKWRrzitnSMspeeQl3+iycr77EFBfhBLNw9+iLPv1Mgn88ER0MNNrnpQup6DKd5NeWIrOlmlkmXkcLxGyYC5feyKOFL2CUW/04Gwwe6+PurtdzXvtTcCxYpbGkRh9qS6Rfxfo/xqX06WnoyZcT2FCYKBBJzKqPD7kuy/ITPvcccm+4Hp2d1+CKylpD+LPPiE64gOwvv0RZg8JiUSgUFjBKUXz4IQSnTsPbrRtKqZStIJs7/bYMbgyRn2tT0TVegGGtxZaW1q6ia+XBTaqUrZJfm1d16S7BTTPLxOtoreWNwg8ZvXQiZSpc42u1VQwJHc0zve8kR2WhrIpPD4eUmDHVUsGNtZay6TPwnHUm3mgkfi5VvRaIKUX4uGMITJ+OJ6f+Baa1lvK338acehrBwk1Y5aIqvnrlY1pQULLXPvjfnYunTTt0io6RaqngRiq6ppcqZavk1+YlwU2KyLjraOF3s57BC8fwhbso0cFEdTcj7WnPG32msXewNxpV8XqDQadA202LBDeuIfLbKmL9/kDwt5U1hngVnRAKSgcOwj97Nk4ohK5jgWmtpfydt2HkaLzFRbXqFrRKs+mSCwndcSde7dTp85pLSwQ3UtE1j1QpWyW/Nq/q0r113sWi1XCVy30rH+e/ke/B6orCvkpKc2Wn89nHHw9sKr8qFQKblmKUJfLcTAK/rdrua5MjN5SF0LvzKB01GrNpI8aaWn+etZay995FjRyFp6R2BWXijXifehp3fWGtPyvtGUt09Sq47HK80UhF+lTHsZbQW3MpHzmaWEkJph6VdUVFN2o0/sINgIu2le4NbKWfxL2yYAGlt9yCW93URVFrkl9TQ+bWGKJZfFP2I1NWT8Uod7uvPdhzAOd2PBmtk202rbN5vLFpC+rdt6hpTaDKKldiuXPfomzMGMzGjdutKC2JinHeu+hRo/GUFOPUoa5TWPyFG4h99mnt35TmpKLLPJJfU4MEN6LJhE2Y63+9h/VOaWKMQfWFdDZBbuxxKdlKFuvbmlGK6LLl9Qr1FJD15luUnDEOt7i4hmZ7C9ZS9v483FNOxl+4EceqxOiM2tPW4i77pR5nmp6koss8kl9TgwQ3oklYLK8UzuPN0vdBJ9azqabJW1nD+IKTOTh0AC462ViefJPAYhswDkJZS/Zrr1F+2mmYspIqC0xjLeH5H2JGn0xo/cZEAVl5GnFtzxRQssJEklR0mUjyayqQ4EY0Ooul0N3EraseJKLCxAtfTdW3m6W33onLu5yDozY/uYLENkkKi2enHvV+f/LKh15/nU2nnEKsrGyLAtO1lvBH8+Gkk8iu1C1R19EXFnC1wtOr/ueafqSiyzSSX1ODBDei0VkDT/0+k2+i32KTIxmrmR+isfyl6wV0ctrHZ0clyuS6F81pzCr0wOMwDVipWRG/nrmvv0H4tNNwi4swicHd5R/PR5/4RwKFGxt2mkB5u/b4+u3foOOkE6noMpDk15QgwY1odKvdNdy9+nFiuGCq7l6yWKyyHBU4jBEFx6GUB61UxUKtFRuFC1AK38gRhDt1bNhhiI8BCb36CuFx47DFxZR/NB9OGkGgcNsn/ro0nFniyWxOH4OTm9ug80wrUtFlHsmvKUHqD9FoLGCsy72/PcGK2FqU0dX3+itLgcnmhq6XkaX8FQW4TJDallIKT4eOuNddQ0SrerdqVZ6NE5gzh7ITT8KOHEVw3foGn6MFSnvuiH/yFQ0+VlqRii7jSH5NDbKIXzNL6+toLYvKf+HwRaP53a7FYXPBuTWNYVLBWdzR41oUDh4bf118JeLU1WIrFAM2FqXokkvJfvBBtK17JVZxvEo/qtJPvc8PKCsogFfn4O1/MI5SOCm6EFyLLOJnLEWPTiEw6SK8pv7pBonuIwXhIwfgfL2AwNq1iQeI+n8nA5T02hHf/H/h26GjLOLXQJJfm5cs4ieamCFGhAdWTWWtXY9S1fZIAbCD6sIlnc7BsYnl+aQrqkYKUI6HnLvuouRP4zE0/IlQ03gFpZo9G//B8YJS0nArWpH9p3MpO38CRm1uY6n34SwE338P/9q1id/U/2gWCBcU4Eybhu7UQcZlDptqAAATu0lEQVS5NRLJry0vXb+XaAHfhX9mRuErbF7nveqs7BjNJR3Pooe3owQ0daCUQnl9ZN9/H8VnnQWqEZq8G3A+FijLy8OZNQvf4Yeh0ImFF6VvsTKp6DKT5NeWlXL3cmzNZ0y/ZSIjjtibnh3zCHodHI+f7Hbd2O3A4zjjqim8s6S0pU9TVGKxuNYw5bdnWas2snmxvqpvr939fTij/QhQumJ2lKgdpUD5fGQ/8ADFZ56JaUCB2RAWCOfnY1+YgefII9Coiha4NC0rG0Qquswk+bXlpNCYG8uad/7Miafewf+tq3mHE5WzFxOefZP7hnducHRmlj/IMbtMYl5sH2764lOu3aNpNxBLlX7hxmVZGP6JQxaOZoPaiMKw+fly86rEysb3iHq2xz2MzB8KuvU9KbbUmJuqfmciYUrOn0DWtGk4tnnKqOSZlOfm4s56gcDAAYkgtVJhCSm7s3RL7Qpe8d+ACZdTMmkiWU89hba22euXZEVnZj5PYOCg+BIMldIrVdNue1KlbJX82ryqS/eUWbHJrp7OxDG388m6eMXo5PXmqOMH84fe7QnGNvLrf9/h5Te/4veoxRYt4KGzJtH/69mM3aEhiWJYPucFPg7bFLoSrYwFVxkeWP04m9xN4EkOe6vipcpySLAfwwuORssKfQ2ilEL7g4QeeoQSqwg9Pa1BgxZrwxIPVcP5eZgZ08k+agDKJsJTSc5aUYD2+whNuZ8S41ZUdM2hckVnZs5IVHQKaxPrS0kaNhnJr80vRap0y2+vTuX1tfGnfBU6jNs+eZvLd/NXeo3Lja9N4PCTHuOHmMWsf4OHpi9hzOSd6v/0b37l5Zn/orzlg/1WyyiXpZGVPL9hLlbVdCEtARvgL50m4rd+rMqI/NWkFKB9XrIfmkIxLsGnn6moKBv72iYLykheHuq56QQHDsKg0Ir4bB2pHGtNKrrMJPm1eaVIr4DLyl9WEEsktNP9EI7s7d/qNQ6dhtzAvbdezY13PswzL73OPX/ssFX6WIp/eI07Jp5A/112oCDLTzC3IzsfeAIX3vseyyPJ1xUy7fggyunJxfPL40800S/5654elPLQ89J/Em3aL5wSTPIPE18QrK4dwQaDAZ5aM4uNdiPWsZUGE1d8Qvxv5TIs+ygOzTlYxtg0IqUUKhAg++FHKD11TMVsnKYQyc7GPPcsvqMHoZUT/2wlUWp9VK7oSsaOIaaablXuKis6pRIzGZXkx2Yk+bX5pEjLjaagbX5FpOX+9BrPzp9MvwHttoy+9A4cd/ktHFflMWL8OnsSw8Y9ytfFlXPrGn76zyvc/+nrzHz1Nt546XL2y26ir9EK2ETAUWYjLCpbyneliymyG/ARYp+sPuwV2gUPvu1uuWcTJeKq2EqmrnsRk+y7raKgVECOyWdyl/PwKk86j2FrEQoF/gDZjz5KCYbQ9OdxGmnsQbLCjeTmwPTpBI49FlXxT6XPkAStM6UUJCq6opglNP25Rku3rSUrOn+ioqv4fJDgpplJfm0eKdJyo+k+6Fj6+hJrQES+5h/H9mHfEybxP4+8xD8XrqFsO2nvLr6PsWcmAhvdkYF/nc3nS1aw9KtX+Z/BXXBwWTPvGk6//mNKyWHw3+cx/8VL2NebOIBnF8ZP+5CPPvqQFy7aK1Wivka3zt3IP1Y/xUHfHs9hC09k3PKLmbjiOs5ZdgVHLjyVc378K4WmaLvHURashVlr32ZVbA1GJ7oU7ba3lMXhxLxB7B/YHY/Vm/OVFKqNRgE64Cf06COEhw5ptONaIObzEps6Dd9xx6KVjj8BJj9V0rBBFAqVqOhKTz2lUZ/kky025bk5MON5Ascm0o+tBvJnQEWXaiS/Nr0UCW7A2eNi7v/zgeQnzsjG1rHglSn89bw/ctjunchvuzMHnXAu1z38Bt+ud7d6dxkf/ONuPi6KdyTmHHcLT99wEv16dqbHXsO45um7GdlWg42y+Il/8OoGTfvdDuaQA3YiL5mxVYge+x7CoYcewv49c9Mvv1v4qXwZoxaez9Urb+Nr9wfCOkJ8roYDGkp1KU8XzWbCT9ewyRRv54CKElPGU2tmElNRVGKA8DbjblSMHBvg4h3G49GezTsBSvNNk4gtWoz75ReV5qg1nIrGUC/NgfIIYFHKZlo52aSkostckl+bTsoEN6hcDr7+PT575TbOPKwHIV255rNENvzE/73yKDedP4y9eu7FKfd9SmEytWILeHveKuIhj4ddDz6A3PIw4XD8pzzrII7qF2+isRs/YO4n5c373VJAhChX/3or82Of42qDQlf0uavEtG2rwSrDi0VzuXr5HYRtpKL7aWsWy9wNH/Kd+yPo6rKmRRvFifmD6RvsnQik4r8XjSixiWL4v18SPf4EslesarS4UQGOtfifmUrppIm4kXKsjbcI2BpWoBZ1JxVdhpD82ixSJ7gBIMhOQ6/iyfk/8/uK//L2s/dw7YTRDNy7C9nO5orRbPqOGZcM46xnlsULgvASfliWbM2J8tm1e5EdDBJM/mR14/y3EwGN2cgPi1c1agHSGlgFqyJrsMpNjI+pvunE6BiPr3uav6+cgrFVX6moivLU+ueIqeSaNlVRhGweF3Yci2O9W/xeNB5rIfL1AmLHDyNrxcpGbRSrWBHXWEJPTaXswouIRaLVBr2ijqSiyziSX5tHigU3SYpgp704+rSLuWnKDN7973LWrfyC2TePYNesxG1g1vDa7Y/xdQxsuIywqW3iGTas35BxwY3Has7vNJaACQBQ0zqZFohhuGP1I8xcPxcXs9UrDV+VLmReyaeJLqYqxtmo+LicwXkD2CuwO6pSu41oPNZYyr9dQGT4ULJX/FbR49eYkssxKguhx5+g9OKLsNEYOvPKy0YnFV1mkfzafFIuuLHRCNEqEsHXYR9OumYGr97Qn8S4Y2I/fMmCYlDBEFkVLTt+Bk5ZgUk8EW37E+Wbm/ql7YDh6mirGVUwhKvbn4PP6MQqwtXd7QqrFCVOhMnLb2RB6eItCkQTgxlrXyHiGJR10FXcRspCtuvlvI6n4GiFbsUrYKYsa4l8t4DY0GGElq1s8uBRAcpaQo89RtmFF2Aj4fgyAk38uelKKroMI/m1WaVEcOP+NIPJo47mwN26kp+7Cxe9W91gVodOXXfYHJhYg2ss+HvRu1ty24QYvyz5hVjTn3arorTCpz1c3mUSF7Q9s/phMlswrGENk5b+mTXuOkxiVNMGtYmXCt8Ga1FYNFsP8Aas5fC8w+gf2hedcaFkE7M2XjF+s4Do8BMILV+JJjk9v2mLLgU4xuJ//DFKL7oQG43Emx9E3UhFlzkkv7aIlAhunA7ZFH78Hv9ZtIJN4V95YtIEpn5btE2yu2s/4vb73q2YFu7puSd9cxV49mTQgB2IhzcuP7/8PB9Xjo/KP+feM0cx5uyJTP7L3cxdVkXNbjayYWN6d1YpFEHl44bulzE272QU8dlLNRWsysKnka+4a9UjuDaGwTB/479ZFlmdWDPHYLbqcrIovHg4v8MYAson3VGNKbHWYvS7b4iecAKhX5ZXzH5pzuvsdS3+x5+g5OJLMNFoSuzp0ypIRZdZJL+2mBTZONPlx4eG0n/SXNYl4gvlyafn/gex386dyPFEKFyxmM8++YJlxYnxHzqfQfd9xtyJ8e0XYt/dzhF/uIp/lVhQHjoPuJQbLx3CTs5yPnr4Bm6e8yPlVuHf8898+J+bOTAAFD7DCZ3P4JUyC2g6DLiCWyfuTyBnD0Yc04et10huDKmxuZthgylm3E+X8nrpB0DVm70lKaXIdgPM2eUpDg3ty/gfrmRayRysjndtKYBK69tYFAf792XurtMI6WAzZ+Om1dIbZ1priS5aSNnQIeQuXbblwlzNeU6Jv12tKJ1wLll33YPj8VUsDJeqG/G16MaZNh7ERL/9hsjxwwktXV4p/ZrnnCqnW9n4c8m69x9or1c2zmxEkl+bV3XpniLBDWDX8c/bTufU6+eyPFLz5yhPRw676hleuHEQHSrq1Cg/zziXIWdPZVFpVe9XeLsO5x9vPs+EPYLxX5mlPHD0nlz4XvEWt1xg+FRWvXIG+Y3wtbY5i5TIgPHnxNWxlYz+/hI+Kf+8YoXhqiTP+fDg/jy6010M+m4Uv5rVoFS8a0rZLYIbBTzc5RbGtxtd5WDj1qwlg5t4QbmIkqHHkfvLsmbbcLHa80r87SoomTSR3DvuBq8XpVK3sGzJ4EYquqaVGmWr5NfmlvrBDQCWTYvf5OknZ/D6B5/yzY/L+K2whChesvLa03WnPdj/8OMYddY4hvctqKJPzbLpu5e4/+7HmP3eZ3y/YgNhnU3HnfbhsOHjuPTSsRzQ3tniHdGlL3PtxL/w5Affsz7mp6BLb/b7073MvvYwsprgG6ZMBgSwloXhHzh+0TiW2N+wylZ5k8f760GhGZM3jGc3vYqbCJBUxdE2v6+r2oGv+s6lwMlOu1nfLRXcGGtxV6wkPPBIsn5YgtPAitECbmJBN20bNpPNJI4VvuZqsm+4CZRC69QMalsquJGKrumlTNkq+bVZtZLgJv2l2nU01uW9kn8zavEECvWmGgs2ayyOsrhK15i5/tz2XG7seiXO9gb0tEItFty4MYrHjiM0o+H70FggEgwSufc+zEuzyX7zjYoZNfU9HkAk4Md9402CRxyRsoVlSwQ3UtE1j1QpWyW/Nq/q0r31fiPRKJTSDAj154Zuk/Ftb1aTUpgaR9AYcm0WJ7cbiQKMrITaKKy1lH/xBf7ZsysKyvpeVwtEAwHKH3uUrLPPIPjc0xQfeyxuA46ZvB985REit9wig1S3ZlzKrrySrB8bJ7CJBIOUPfIoxYMHx/NYA6IbBXisxXfnXZTNn9+gcxNxkl9TgwQ3GU6h0EpzTruTOSP3pBrXv1Aq+UfVrLYMyDmcPoHuaTWIuKUZC7GZL+CNxFfZrk9RlHxP1Oul/LFHCJ1yMko5eHPyyJ4xk5KBxzRomcX4oHKL/6OPiP76c72Pk26koss8kl9TgwQ3AoCA9nJz98vYw9t3i8HBdeGNeRhbcDxePCilmmRRskykAf7zSXzJ/MTv6nJdLfHuh7DfT/ljjxM89WRQKrHZqYacHEKzXmDT0UcTa2Brmy9STuSLLxpwhPQiFV3mkfyaGiS4EQBYHNp7OnDfjn8jpHLq1dTd29eHAXmHILdVY7PEft9Q0cden2osGggQffghsseciqM8lQaCJzZqz8khZ8bzlA46ut7difExIGDXrK/Hu9OTVHSZSPJrKpBaSACJJdqV4pCsfkxuNwbHVdQpy1jLCQUDCHpC0lzT2BR4A7567TtkgfJAgNgDDxA6/TSs0mBVvOBV8V5GBWgFOi+P4PPTKR14DEbVfaKyTfyYUKCO70xnUtFlHMmvKUGCG7EFrTUXdT6Xg/x7o6yp9VocIRvklDbD8JiaZ1KJujMobN+96/w+C0R9XiJTppB15hkoFZ+9lpy4v/VsC6UUnvwCAs/PoOSogYkCs26pGXU8+Hbbs87nmrakoss4kl9TgwQ3Yhv5OodbelxJjptb6x2E/5Ddjz6BnnJDNQEF6NGjiDm61pWWBaIeD2UPTSH7jLGgNEZplLVoRXxxxarWNFIKT0EuwRdnUnrYYdg6VpTRPrvg37NvHd6R3qSiyzySX1OD1EViGw6Wg0L7cn7HM1F2e5nFoqzmlDbH47WJriyZcNGoFIrgMUdTdsQRtX5PxO+n7MEHyTljXPwp34K2qqbJbps/Tyk8ubkEX5pN0ZFH4KrNT/ZVSf6/mOOBv94APm+tzzPdSUWXeSS/pgYJbkQVNB7l57IdzmIvz241dk1ZoKfqzLD8oxILbpj6ry4lqqQUKJ+X4KOPUtRnV2w1KWIBF0VJTg7RKQ+QffZZoBwUOrHyLNS2c0QpjZNfQPbMGZQOGYJbwyJfVkHUoym76gqCJw6X4LYSqegyj+TX1CDBjahWW08BU3f+X472H06+CeGJKbRxcFyN33jo5HbghKzjmN77fto5bbA6OflbRt00NqUU3h17EnxnLsWjRxH1+zBQMUPGooh4fRQNGojzzruExo1LrGGkEqtOJ9Ok9mmjlEK3aUP2zBcI33EXJV26EHPiAz1souA1SlHWuTORBx8kdP3fUI6n1S7f3xSkostMkl9bnmy/0Mxa03W0AMYSVhFWxX5jRdlyjPGilEvQ46N7YEcKVB4eo8CxqMQ/8cfNFj75JtKyG2cCWAyW2HffEv3gfcwPP4M1qN698R5+GL7d+6C0B4XGYkDpBhVelb+rKSqi/IP5uJ//B7t+Ayo3G73f/gQGDkRl5ybSPLEtgJOaz00ttnGmtURXLiN82ZX457yMpzxCItsAiojXS9kRhxP4n5vx798PqzS6gZWOtQYbLqf04UfhztsJrF6JxyT2hLMKo6Cs8w7Y6/9GcNw4lPKgtGy/0FCSX5uX7C2VIuQ6tm6Sfq1by22cCVLRNS3Jm5lJgpsUIdexdZP0a90k/dKXpG1mko0zhRBCCJERJLgRQgghRFqR4EYIIYQQaUWCGyGEEEKkFQluhBBCCJFWJLgRQgghRFqR4EYIIYQQaUWCGyGEEEKkFQluhBBCCJFWJLgRQgghRFqR4EYIIYQQaUWCGyGEEEKkFQluhBBCCJFWJLgRQgghRFqR4EYIIYQQaUVZa22tXqhUU5+LEEIIIUStVRfCeBp6ACGEEEKIVCLdUkIIIYRIKxLcCCGEECKtSHAjhBBCiLQiwY0QQggh0ooEN0IIIYRIK/8PbsiE+ICK/p0AAAAASUVORK5CYII=)"
   ]
  },
  {
   "cell_type": "markdown",
   "id": "ce2ca09c-84aa-4cb6-a135-4dc29e3c4185",
   "metadata": {
    "tags": []
   },
   "source": [
    "## List to Set"
   ]
  },
  {
   "cell_type": "code",
   "execution_count": null,
   "id": "2b5304b3-7373-46a1-b821-2c58b2b4e335",
   "metadata": {},
   "outputs": [],
   "source": [
    "thislist = [\"apple\", \"banana\", \"cherry\", \"apple\", \"cherry\"]\n",
    "\n",
    "set(thislist)"
   ]
  },
  {
   "cell_type": "markdown",
   "id": "976d90be-112e-415d-9bc9-31e5452ae1f7",
   "metadata": {},
   "source": [
    "# <font color='Red' size=\"6\"> Excercise </font>"
   ]
  },
  {
   "cell_type": "markdown",
   "id": "a69ad966-e925-44b7-8a44-5ab6553414d6",
   "metadata": {},
   "source": [
    "1. Print the second and penultimate items in the fruits list.\n",
    "\n",
    "fruits = [\"apple\", \"banana\", \"cherry\",\"kiwi\", \"mango\", \"papaya\"]"
   ]
  },
  {
   "cell_type": "code",
   "execution_count": null,
   "id": "f67b08f2-d778-4a5c-9432-96128e0c69dd",
   "metadata": {},
   "outputs": [],
   "source": []
  },
  {
   "cell_type": "markdown",
   "id": "6d5ad485-667d-4a06-ad18-a06cfffa6ac9",
   "metadata": {},
   "source": [
    "2. Use the function to print the number of items in the list.\n",
    "\n",
    "Reference link: https://www.w3schools.com/python/python_ref_functions.asp"
   ]
  },
  {
   "cell_type": "code",
   "execution_count": null,
   "id": "2db41c28-67a3-4e6a-9af6-974c66c9d73e",
   "metadata": {},
   "outputs": [],
   "source": []
  },
  {
   "cell_type": "markdown",
   "id": "c82f5883-00fd-45e1-a447-dcee6d8217d2",
   "metadata": {},
   "source": [
    "3. Fill in the blanks to add multiple items (more_fruits) to the fruits, with reference link: https://www.w3schools.com/python/python_ref_set.asp\n",
    "\n",
    "fruits = {\"apple\", \"banana\", \"cherry\"}\n",
    "\n",
    "more_fruits = [\"orange\", \"mango\", \"grapes\"]\n",
    "\n",
    "fruits.________(more_fruits)\n",
    "\n",
    "\n"
   ]
  },
  {
   "cell_type": "code",
   "execution_count": null,
   "id": "6db5b686-1b2a-42b2-ba48-d6ddce32bf32",
   "metadata": {},
   "outputs": [],
   "source": []
  },
  {
   "cell_type": "markdown",
   "id": "66d22a48-fedc-4219-8495-4344053ce14e",
   "metadata": {},
   "source": [
    "# <font color='Blue' size=\"5.5\"> III. Dictionary </font>"
   ]
  },
  {
   "cell_type": "markdown",
   "id": "7c222624-149d-470c-990b-05177f0243cd",
   "metadata": {},
   "source": [
    "Dictionaries are used to store data values in key:value pairs.\n",
    "\n",
    "A dictionary is a collection which is ordered*, changeable and do not allow duplicates."
   ]
  },
  {
   "cell_type": "code",
   "execution_count": null,
   "id": "081c7bdc-1f2d-4287-bc06-3f79c7b0c17f",
   "metadata": {},
   "outputs": [],
   "source": [
    "thisdict = {\n",
    "  \"brand\": \"Ford\",\n",
    "  \"color\": \"red\",\n",
    "  \"model\": \"Mustang\",\n",
    "  \"year\": 1964,\n",
    "  \"status\": \"new\"\n",
    "}\n",
    "\n",
    "print(thisdict)"
   ]
  },
  {
   "cell_type": "markdown",
   "id": "a91cfd01-22a7-4a4a-a247-db4579efd744",
   "metadata": {},
   "source": [
    "# Dictionary Items\n",
    "\n",
    "Dictionary items are presented in key:value pairs, and can be referred to by using the key name."
   ]
  },
  {
   "cell_type": "code",
   "execution_count": null,
   "id": "8b66332e-3fdf-4104-8ea2-dc20fdf6e607",
   "metadata": {},
   "outputs": [],
   "source": [
    "print(thisdict[\"brand\"])"
   ]
  },
  {
   "cell_type": "markdown",
   "id": "b453d200-da21-4bd0-ac16-77fd79624289",
   "metadata": {},
   "source": [
    "- Dictionaries are changeable, meaning that we can change, add or remove items after the dictionary has been created.\n",
    "\n",
    "- Dictionaries cannot have two items with the same key"
   ]
  },
  {
   "cell_type": "markdown",
   "id": "2d62684c-bc64-4976-b31b-f9c0e1c90709",
   "metadata": {},
   "source": [
    "# <font color='Red' size=\"6\"> Excercise </font>"
   ]
  },
  {
   "cell_type": "markdown",
   "id": "c4243eda-5f64-4133-9261-88822940da85",
   "metadata": {},
   "source": [
    "1. Change the \"year\" value from 1964 to 2020 (not allow using function)"
   ]
  },
  {
   "cell_type": "code",
   "execution_count": null,
   "id": "28165569-e43a-4442-895f-bbd17e1389e3",
   "metadata": {},
   "outputs": [],
   "source": [
    "car = {\n",
    "  \"brand\": \"Ford\",\n",
    "  \"model\": \"Mustang\",\n",
    "  \"year\": 1964\n",
    "}"
   ]
  },
  {
   "cell_type": "markdown",
   "id": "744fdc7b-7776-4f53-a192-a7780fb7fecf",
   "metadata": {},
   "source": [
    "2. Use the pop method to remove \"model\" from the car dictionary.\n",
    "\n",
    "Reference link: https://www.w3schools.com/python/python_ref_dictionary.asp"
   ]
  },
  {
   "cell_type": "code",
   "execution_count": null,
   "id": "e34e836e-030a-45e3-8335-5366ce9bab8d",
   "metadata": {},
   "outputs": [],
   "source": []
  }
 ],
 "metadata": {
  "kernelspec": {
   "display_name": "Python 3 (ipykernel)",
   "language": "python",
   "name": "python3"
  },
  "language_info": {
   "codemirror_mode": {
    "name": "ipython",
    "version": 3
   },
   "file_extension": ".py",
   "mimetype": "text/x-python",
   "name": "python",
   "nbconvert_exporter": "python",
   "pygments_lexer": "ipython3",
   "version": "3.11.1"
  },
  "toc-autonumbering": false,
  "toc-showmarkdowntxt": true
 },
 "nbformat": 4,
 "nbformat_minor": 5
}
